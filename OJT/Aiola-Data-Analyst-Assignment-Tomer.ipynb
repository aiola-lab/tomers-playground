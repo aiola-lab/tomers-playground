{
 "cells": [
  {
   "cell_type": "markdown",
   "metadata": {},
   "source": [
    "# Aiola Data Analyst Home Assignment"
   ]
  },
  {
   "cell_type": "markdown",
   "metadata": {},
   "source": [
    "We're excited to move forward with the next step in the process for the Data Analyst position!<br><br>\n",
    "The purpose of this assignment is to evaluate:<br>\n",
    " - Your technical knowledge\n",
    " - How comfortable you are translating business logic into analysis/code\n",
    " - How you approach unfamiliar data\n",
    " - Your creativity in problem-solving and ideation when faced with new challenges and projects  \n",
    " \n",
    "The Customer Delivery team works closely with product management, Aiola's clients, R&D and other key stake-holders in a data-rich environment. Below you will find a real Aiola use-case and questions relating to product development, business logic, and technical implementation which represent a Data Analyst's day-to-day at Aiola.\n",
    "\n",
    "The CSV file you have been provided with has a week's worth of advertising data. You don't need any familiarity with advertising to approach the dataset and work with it. The Delivery team works directly with companies from a wide range of industries, so we aren't look for domain expertise, just to understand how you handle data.\n",
    "\n",
    "Please leave relevant comments and test your code as necessary, even if you are unable to solve a question. It helps us understand your skills better.\n",
    "\n",
    "Good luck!"
   ]
  },
  {
   "cell_type": "markdown",
   "metadata": {},
   "source": [
    "# Media company use case "
   ]
  },
  {
   "cell_type": "markdown",
   "metadata": {},
   "source": [
    "Aiola’s delivery team is responsible for developing the business logic and analytic capabilities of Aiola’s artificially intelligent analyst for a new client - a large media group that operates a number of TV networks and channels. Clients like the media company are considered “low-tech”, and use traditional methods for their research, analysis, and forecasting. \n",
    "\n",
    "Our product brings on-demand analytical capabilities into their meetings, calls and chats through their client-of-choice (WhatsApp, Slack, Teams), offering insights on their data and generating reports  – wherever they work, Aiola is available. \n",
    "\n",
    "The delivery team is working on the initial skill package, the first set of capabilities that the virtual analyst will provide, automating some of the media company’s data analysis processes. \n",
    "\n",
    "The skills that are in development use internal data from the client, the dataset has information about advertisers and their brands, and details about the advertisements they purchased. The client has also provided the delivery with team with publicly available data on other networks. \n",
    "\n",
    "The delivery team is working on three skills that the media company’s innovation director determined would have a significant impact on their internal users:\n",
    "\n",
    " - Audience penetration and frequency analysis where penetration is the percentage of product category users among the show viewers and frequency is the number of times the show viewers purchase a product of this category per month, on average, and a joint score calculation. The skill calculates and visualizes the category or categories' performance among the top scored shows' viewers. Note: the skill displays information relevant to shows which advertise the category, for example, tobacco products are not relevant to childrens shows. \n",
    " - Category investment analysis, where a weighted investment score is calculated, comparing the investment in a particular show to investments across all programs, and a visualization of the difference between the weighted score and actual investment in the show per category.   \n",
    " - A dynamic bi-weekly snapshot generated from the client's updated data, showing investments of brands and advertisers in specific shows and across networks.  \n",
    "\n",
    "Below you will find several questions about this use case and the example skills."
   ]
  },
  {
   "cell_type": "markdown",
   "metadata": {},
   "source": [
    "##### Who are the end-users of the product?"
   ]
  },
  {
   "cell_type": "raw",
   "metadata": {},
   "source": [
    "The user ends of Aiola's products are the seniors ranks of the analyzed comapny such as CEO's, VP's etc."
   ]
  },
  {
   "cell_type": "markdown",
   "metadata": {},
   "source": [
    "##### How will they use the product?  If there is more than one user-group what are the differences in how they will use it?"
   ]
  },
  {
   "cell_type": "raw",
   "metadata": {},
   "source": [
    "They will use the product hopefully to allow easier analysis Proceeds that will alow easier (faster and more reliable) decision making processes. the diffrence in the using of each group will be by the essence and also the type of skill they need. for ex. the CEO will probably not check every skill but a few and less frequently, while the VP's, whill probably use it on a regular basis and for their daily decsion making, such as \"Are some of our TV networks strugles?\" or \"Are we decreasing on some specific categories?\"."
   ]
  },
  {
   "cell_type": "markdown",
   "metadata": {},
   "source": [
    "##### Can you suggest other features to add and modifications for the in-development features? What is the impact of each addition or modification?\n",
    "\n",
    "Please be detailed in your response. If you suggest a feature or advanced capability that will require other datasets or sources, make a note of this in your answer and what the impact of the additional data will have on the skills."
   ]
  },
  {
   "cell_type": "raw",
   "metadata": {},
   "source": [
    "Yes, few dimentions and also few modifications. (1st skill) - I would add an additional factor to the scoring calculation which will be the amount of viewers, which could be converted to the amount of potential customers. this could indicate the potential of sales dues to advertising. also, it could better help the company adress the right timeframes/slots to the right customers, based on the amount of potential conversions. (2nd skill) - I would reccomand to add a few dimentionals to this essence of analysis. those will include date and time dimention. these could better light on the attractibility of each program to the customers, side by \"pricing\" its date & time better, in order to better light on the more desired date & time frames, programs or the combinations of these two. (3rd skill) - On this analysis, I would recommend to add a \"shadow\" to the graph, showing the diffrence between the current results of it and the yearly-average/last results before these/else. this could indicate any change and/or trend that is starting/already happening."
   ]
  },
  {
   "cell_type": "markdown",
   "metadata": {},
   "source": [
    "##### Can you explain how feature modification will impact the users? "
   ]
  },
  {
   "cell_type": "raw",
   "metadata": {},
   "source": [
    "The main essences of the modifications I recommended are - eanabling isolation of the cause reason/s for each pattern or trend the user will wittness, side by increasing the data sets involved with the analysis, in order to increase its liability. these two, in my opinion will benefit with the user by providing it with better and more accurate resulting, by minoring the chances for some of the misconceptions that could occur due to small scope of analysis."
   ]
  },
  {
   "cell_type": "markdown",
   "metadata": {},
   "source": [
    "# Coding section"
   ]
  },
  {
   "cell_type": "markdown",
   "metadata": {},
   "source": [
    "##### Import libraries and packages"
   ]
  },
  {
   "cell_type": "code",
   "execution_count": 2,
   "metadata": {},
   "outputs": [],
   "source": [
    "import pandas as pd\n",
    "import numpy as np\n",
    "import matplotlib"
   ]
  },
  {
   "cell_type": "markdown",
   "metadata": {},
   "source": [
    "##### Load in and observe data"
   ]
  },
  {
   "cell_type": "code",
   "execution_count": 4,
   "metadata": {
    "scrolled": false
   },
   "outputs": [],
   "source": [
    "df = pd.read_csv('anonymized_data.csv')"
   ]
  },
  {
   "cell_type": "code",
   "execution_count": 7,
   "metadata": {
    "scrolled": false
   },
   "outputs": [
    {
     "data": {
      "text/plain": [
       "0       2020-12-10\n",
       "1       2020-12-10\n",
       "2       2020-12-10\n",
       "3       2020-12-10\n",
       "4       2020-12-10\n",
       "           ...    \n",
       "43856   2020-10-18\n",
       "43857   2020-10-18\n",
       "43858   2020-10-18\n",
       "43859   2020-10-18\n",
       "43860   2020-10-18\n",
       "Name: Date, Length: 43861, dtype: datetime64[ns]"
      ]
     },
     "execution_count": 7,
     "metadata": {},
     "output_type": "execute_result"
    }
   ],
   "source": [
    "# df.head()\n",
    "\n",
    "df['Date']pd.to_datetime(df['Date'])"
   ]
  },
  {
   "cell_type": "markdown",
   "metadata": {},
   "source": [
    "##### How many advertisers are in the file?"
   ]
  },
  {
   "cell_type": "code",
   "execution_count": null,
   "metadata": {},
   "outputs": [],
   "source": [
    "print(df['Advertiser'].nunique())\n",
    "# number of distinct values within the column"
   ]
  },
  {
   "cell_type": "markdown",
   "metadata": {},
   "source": [
    "##### On average, how many brands are there per advertiser?"
   ]
  },
  {
   "cell_type": "code",
   "execution_count": null,
   "metadata": {
    "scrolled": false
   },
   "outputs": [],
   "source": [
    "print(df.groupby(['Advertiser'])['Brand'].nunique())\n",
    "# as follows"
   ]
  },
  {
   "cell_type": "markdown",
   "metadata": {},
   "source": [
    "##### Which brand purchased the largest number of slots?"
   ]
  },
  {
   "cell_type": "code",
   "execution_count": null,
   "metadata": {
    "scrolled": false
   },
   "outputs": [],
   "source": [
    "x = df.groupby(['Brand']).count().reset_index()\n",
    "x1 = ((x[['Brand', 'Length']]).sort_values('Length', ascending=False))\n",
    "x2 = x1.rename(columns={'Length': 'Counter'})\n",
    "print(x2.head(1))\n",
    "# Brand_131 is the one who ordered the largest number of slots (by slots, not time)"
   ]
  },
  {
   "cell_type": "markdown",
   "metadata": {},
   "source": [
    "##### Show the top purchasers of slots per week day"
   ]
  },
  {
   "cell_type": "code",
   "execution_count": null,
   "metadata": {},
   "outputs": [],
   "source": [
    "df = pd.read_csv('/Users/tomergutkin/Downloads/anonymized_data (1).csv')\n",
    "x = df.groupby(['Week Day'])['Brand'].value_counts()\n",
    "\n",
    "x1 = x.index.get_level_values(0)\n",
    "x2 = x.loc[x.groupby(x1).idxmax()]\n",
    "\n",
    "x2\n",
    "\n",
    "# Needed to say, it took me a while. but it truly believe it is a very important ex."
   ]
  },
  {
   "cell_type": "markdown",
   "metadata": {},
   "source": [
    "#### Please convert the 'Date' column into date type of values"
   ]
  },
  {
   "cell_type": "code",
   "execution_count": null,
   "metadata": {},
   "outputs": [],
   "source": []
  },
  {
   "cell_type": "markdown",
   "metadata": {},
   "source": [
    "##### Format the results from the previous query as following:\n",
    "##### \"{week _day}: {brand} purchased {number of spots}\"\n",
    "\n",
    "Example output: \n",
    "\n",
    "Thursday: Brand_131 purchased 675  \n",
    "Sunday: Brand_0 purchased 583  \n",
    "Monday: Brand_131 purchased 582  \n",
    "Friday: Brand_131 purchased 551  \n",
    "Saturday: Brand_0 purchased 527  "
   ]
  },
  {
   "cell_type": "markdown",
   "metadata": {},
   "source": [
    "##### Find the market share of slots by brand on a specific day (for example: Monday)"
   ]
  },
  {
   "cell_type": "code",
   "execution_count": null,
   "metadata": {
    "scrolled": false
   },
   "outputs": [],
   "source": [
    "df = pd.read_csv('/Users/tomergutkin/Downloads/anonymized_data.csv')\n",
    "#x = df.groupby(['TimeBand', 'Week Day'])['TimeBand'].count() # gen number of brands per slot\n",
    "#y = df.groupby(['Brand', 'TimeBand', 'Week Day'])['TimeBand'].count() # specific number of brands per slot\n",
    "#x.to_frame()\n",
    "#y.to_frame()\n",
    "\n",
    "x = df[df['Week Day'] == 'Monday']['Brand'].value_counts() # Market share of slots per brand on Monday\n",
    "x['Brand'] = x['Brand'] / x[‘your column of choice’].sum()*100\n",
    "\n",
    "## to be continued\n",
    "\n",
    "\n",
    "# notice - there are time frames which are not currect (such as 26, or 25 hour of the day)\n"
   ]
  },
  {
   "cell_type": "markdown",
   "metadata": {},
   "source": [
    "##### Find the average spot time length (in \"Length\" column) for each spot type (column \"Type\") "
   ]
  },
  {
   "cell_type": "code",
   "execution_count": null,
   "metadata": {},
   "outputs": [],
   "source": [
    "df.head(5)"
   ]
  },
  {
   "cell_type": "markdown",
   "metadata": {},
   "source": [
    "##### Plot (in a bar chart) the top ten brands and the share of Saturday slots they purchased"
   ]
  },
  {
   "cell_type": "code",
   "execution_count": null,
   "metadata": {},
   "outputs": [],
   "source": []
  },
  {
   "cell_type": "markdown",
   "metadata": {},
   "source": [
    "##### For the top 5 brands which purchased the most spots over the week, visualize the number of spots they purchased per day"
   ]
  },
  {
   "cell_type": "code",
   "execution_count": null,
   "metadata": {},
   "outputs": [],
   "source": []
  },
  {
   "cell_type": "markdown",
   "metadata": {},
   "source": [
    "##### List the most popular time slot per Category"
   ]
  },
  {
   "cell_type": "code",
   "execution_count": null,
   "metadata": {},
   "outputs": [],
   "source": []
  },
  {
   "cell_type": "markdown",
   "metadata": {},
   "source": [
    "##### Show all data available for a certain brand or advertiser\n",
    "\n",
    "You are given the following parameters that are passed from the user interface:\n",
    "\n",
    " - brand_or_advertiser_selection\n",
    " - brand_or_advertiser_value\n",
    " \n",
    "The parameters indicate user selections. \n",
    " \n",
    "For instance, if the parameter \"brand_or_advertiser_selection\" is set to \"advertiser\", then the user selected to get informartion about an advertiser, the brand_or_advertiser_value holds the name of the brand or advertiser to show.\n",
    "\n",
    "Use the given parameters to show information relevant to the end-user. You may set the parameter as you see fit. \n",
    "\n",
    "Hint: remember to account for edge cases in your code"
   ]
  },
  {
   "cell_type": "code",
   "execution_count": null,
   "metadata": {},
   "outputs": [],
   "source": []
  },
  {
   "cell_type": "markdown",
   "metadata": {},
   "source": [
    "##### Take a close look at the data, can you spot any problems with it? How would you correct it?\n",
    "\n",
    "Hint: perform univariate analysis for each column in the table to discover issues with the values"
   ]
  },
  {
   "cell_type": "code",
   "execution_count": null,
   "metadata": {},
   "outputs": [],
   "source": []
  }
 ],
 "metadata": {
  "kernelspec": {
   "display_name": "conda_python3",
   "language": "python",
   "name": "conda_python3"
  },
  "language_info": {
   "codemirror_mode": {
    "name": "ipython",
    "version": 3
   },
   "file_extension": ".py",
   "mimetype": "text/x-python",
   "name": "python",
   "nbconvert_exporter": "python",
   "pygments_lexer": "ipython3",
   "version": "3.6.10"
  }
 },
 "nbformat": 4,
 "nbformat_minor": 4
}
