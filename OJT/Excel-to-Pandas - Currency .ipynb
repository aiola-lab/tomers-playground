{
 "cells": [
  {
   "cell_type": "markdown",
   "metadata": {},
   "source": [
    "# Currency"
   ]
  },
  {
   "cell_type": "markdown",
   "metadata": {},
   "source": [
    "TODO - Try to find a better API to use."
   ]
  },
  {
   "cell_type": "markdown",
   "metadata": {},
   "source": [
    "#### A very used expression in our life, in if utilized just right, also very useful. <br>\n",
    "In this notebook, were are query a rest API in order to get the latest currency rates for all currencies out there.<br>\n",
    "It will always be as updated to the time-of-running."
   ]
  },
  {
   "cell_type": "markdown",
   "metadata": {},
   "source": [
    "First of all, let's get our data.<br>\n",
    "In order to do so, let's start with installing all the needed libraries and get the right imports."
   ]
  },
  {
   "cell_type": "code",
   "execution_count": 37,
   "metadata": {},
   "outputs": [
    {
     "name": "stdout",
     "output_type": "stream",
     "text": [
      "Requirement already satisfied: forex-python in /home/ec2-user/anaconda3/envs/python3/lib/python3.6/site-packages (1.5)\n",
      "Requirement already satisfied: simplejson in /home/ec2-user/anaconda3/envs/python3/lib/python3.6/site-packages (from forex-python) (3.17.2)\n",
      "Requirement already satisfied: requests in /home/ec2-user/anaconda3/envs/python3/lib/python3.6/site-packages (from forex-python) (2.25.0)\n",
      "Requirement already satisfied: certifi>=2017.4.17 in /home/ec2-user/anaconda3/envs/python3/lib/python3.6/site-packages (from requests->forex-python) (2020.11.8)\n",
      "Requirement already satisfied: chardet<4,>=3.0.2 in /home/ec2-user/anaconda3/envs/python3/lib/python3.6/site-packages (from requests->forex-python) (3.0.4)\n",
      "Requirement already satisfied: idna<3,>=2.5 in /home/ec2-user/anaconda3/envs/python3/lib/python3.6/site-packages (from requests->forex-python) (2.10)\n",
      "Requirement already satisfied: urllib3<1.27,>=1.21.1 in /home/ec2-user/anaconda3/envs/python3/lib/python3.6/site-packages (from requests->forex-python) (1.25.11)\n"
     ]
    }
   ],
   "source": [
    "import sys\n",
    "import os\n",
    "!{sys.executable} -m pip install forex-python\n",
    "from forex_python.converter import CurrencyRates\n",
    "import pandas as pd\n",
    "import numpy as np\n",
    "from datetime import datetime"
   ]
  },
  {
   "cell_type": "markdown",
   "metadata": {},
   "source": [
    "#### Now let's get our data. <br> \n",
    "\n",
    "In that case, the function here is given by the provider of this API, and for more methods, you can go to the following URL -<br> https://forex-python.readthedocs.io/en/latest/usage.html"
   ]
  },
  {
   "cell_type": "code",
   "execution_count": 53,
   "metadata": {},
   "outputs": [],
   "source": [
    "c = CurrencyRates()\n",
    "usd_rates = c.get_rates('USD')"
   ]
  },
  {
   "cell_type": "markdown",
   "metadata": {},
   "source": [
    "Let's turn it into something more readable, by converting its type from Dictionary to DataFrame, and give it columns the right names."
   ]
  },
  {
   "cell_type": "code",
   "execution_count": 54,
   "metadata": {
    "scrolled": true
   },
   "outputs": [
    {
     "data": {
      "text/html": [
       "<div>\n",
       "<style scoped>\n",
       "    .dataframe tbody tr th:only-of-type {\n",
       "        vertical-align: middle;\n",
       "    }\n",
       "\n",
       "    .dataframe tbody tr th {\n",
       "        vertical-align: top;\n",
       "    }\n",
       "\n",
       "    .dataframe thead th {\n",
       "        text-align: right;\n",
       "    }\n",
       "</style>\n",
       "<table border=\"1\" class=\"dataframe\">\n",
       "  <thead>\n",
       "    <tr style=\"text-align: right;\">\n",
       "      <th></th>\n",
       "      <th>Currency</th>\n",
       "      <th>Rate</th>\n",
       "    </tr>\n",
       "  </thead>\n",
       "  <tbody>\n",
       "    <tr>\n",
       "      <th>0</th>\n",
       "      <td>GBP</td>\n",
       "      <td>0.731865</td>\n",
       "    </tr>\n",
       "    <tr>\n",
       "      <th>1</th>\n",
       "      <td>HKD</td>\n",
       "      <td>7.751756</td>\n",
       "    </tr>\n",
       "    <tr>\n",
       "      <th>2</th>\n",
       "      <td>IDR</td>\n",
       "      <td>14051.797372</td>\n",
       "    </tr>\n",
       "    <tr>\n",
       "      <th>3</th>\n",
       "      <td>ILS</td>\n",
       "      <td>3.253698</td>\n",
       "    </tr>\n",
       "    <tr>\n",
       "      <th>4</th>\n",
       "      <td>DKK</td>\n",
       "      <td>6.146765</td>\n",
       "    </tr>\n",
       "    <tr>\n",
       "      <th>5</th>\n",
       "      <td>INR</td>\n",
       "      <td>73.025370</td>\n",
       "    </tr>\n",
       "    <tr>\n",
       "      <th>6</th>\n",
       "      <td>CHF</td>\n",
       "      <td>0.890670</td>\n",
       "    </tr>\n",
       "    <tr>\n",
       "      <th>7</th>\n",
       "      <td>MXN</td>\n",
       "      <td>19.644575</td>\n",
       "    </tr>\n",
       "    <tr>\n",
       "      <th>8</th>\n",
       "      <td>CZK</td>\n",
       "      <td>21.589125</td>\n",
       "    </tr>\n",
       "    <tr>\n",
       "      <th>9</th>\n",
       "      <td>SGD</td>\n",
       "      <td>1.326667</td>\n",
       "    </tr>\n",
       "    <tr>\n",
       "      <th>10</th>\n",
       "      <td>THB</td>\n",
       "      <td>30.009917</td>\n",
       "    </tr>\n",
       "    <tr>\n",
       "      <th>11</th>\n",
       "      <td>HRK</td>\n",
       "      <td>6.250310</td>\n",
       "    </tr>\n",
       "    <tr>\n",
       "      <th>12</th>\n",
       "      <td>EUR</td>\n",
       "      <td>0.826378</td>\n",
       "    </tr>\n",
       "    <tr>\n",
       "      <th>13</th>\n",
       "      <td>MYR</td>\n",
       "      <td>4.045038</td>\n",
       "    </tr>\n",
       "    <tr>\n",
       "      <th>14</th>\n",
       "      <td>NOK</td>\n",
       "      <td>8.530700</td>\n",
       "    </tr>\n",
       "    <tr>\n",
       "      <th>15</th>\n",
       "      <td>CNY</td>\n",
       "      <td>6.469879</td>\n",
       "    </tr>\n",
       "    <tr>\n",
       "      <th>16</th>\n",
       "      <td>BGN</td>\n",
       "      <td>1.616230</td>\n",
       "    </tr>\n",
       "    <tr>\n",
       "      <th>17</th>\n",
       "      <td>PHP</td>\n",
       "      <td>48.030741</td>\n",
       "    </tr>\n",
       "    <tr>\n",
       "      <th>18</th>\n",
       "      <td>PLN</td>\n",
       "      <td>3.745310</td>\n",
       "    </tr>\n",
       "    <tr>\n",
       "      <th>19</th>\n",
       "      <td>ZAR</td>\n",
       "      <td>14.965788</td>\n",
       "    </tr>\n",
       "    <tr>\n",
       "      <th>20</th>\n",
       "      <td>CAD</td>\n",
       "      <td>1.270887</td>\n",
       "    </tr>\n",
       "    <tr>\n",
       "      <th>21</th>\n",
       "      <td>ISK</td>\n",
       "      <td>129.906619</td>\n",
       "    </tr>\n",
       "    <tr>\n",
       "      <th>22</th>\n",
       "      <td>BRL</td>\n",
       "      <td>5.321048</td>\n",
       "    </tr>\n",
       "    <tr>\n",
       "      <th>23</th>\n",
       "      <td>RON</td>\n",
       "      <td>4.027601</td>\n",
       "    </tr>\n",
       "    <tr>\n",
       "      <th>24</th>\n",
       "      <td>NZD</td>\n",
       "      <td>1.401950</td>\n",
       "    </tr>\n",
       "    <tr>\n",
       "      <th>25</th>\n",
       "      <td>TRY</td>\n",
       "      <td>7.446575</td>\n",
       "    </tr>\n",
       "    <tr>\n",
       "      <th>26</th>\n",
       "      <td>JPY</td>\n",
       "      <td>103.809603</td>\n",
       "    </tr>\n",
       "    <tr>\n",
       "      <th>27</th>\n",
       "      <td>RUB</td>\n",
       "      <td>73.617883</td>\n",
       "    </tr>\n",
       "    <tr>\n",
       "      <th>28</th>\n",
       "      <td>KRW</td>\n",
       "      <td>1102.074209</td>\n",
       "    </tr>\n",
       "    <tr>\n",
       "      <th>29</th>\n",
       "      <td>USD</td>\n",
       "      <td>1.000000</td>\n",
       "    </tr>\n",
       "    <tr>\n",
       "      <th>30</th>\n",
       "      <td>AUD</td>\n",
       "      <td>1.294604</td>\n",
       "    </tr>\n",
       "    <tr>\n",
       "      <th>31</th>\n",
       "      <td>HUF</td>\n",
       "      <td>295.330964</td>\n",
       "    </tr>\n",
       "    <tr>\n",
       "      <th>32</th>\n",
       "      <td>SEK</td>\n",
       "      <td>8.378068</td>\n",
       "    </tr>\n",
       "  </tbody>\n",
       "</table>\n",
       "</div>"
      ],
      "text/plain": [
       "   Currency          Rate\n",
       "0       GBP      0.731865\n",
       "1       HKD      7.751756\n",
       "2       IDR  14051.797372\n",
       "3       ILS      3.253698\n",
       "4       DKK      6.146765\n",
       "5       INR     73.025370\n",
       "6       CHF      0.890670\n",
       "7       MXN     19.644575\n",
       "8       CZK     21.589125\n",
       "9       SGD      1.326667\n",
       "10      THB     30.009917\n",
       "11      HRK      6.250310\n",
       "12      EUR      0.826378\n",
       "13      MYR      4.045038\n",
       "14      NOK      8.530700\n",
       "15      CNY      6.469879\n",
       "16      BGN      1.616230\n",
       "17      PHP     48.030741\n",
       "18      PLN      3.745310\n",
       "19      ZAR     14.965788\n",
       "20      CAD      1.270887\n",
       "21      ISK    129.906619\n",
       "22      BRL      5.321048\n",
       "23      RON      4.027601\n",
       "24      NZD      1.401950\n",
       "25      TRY      7.446575\n",
       "26      JPY    103.809603\n",
       "27      RUB     73.617883\n",
       "28      KRW   1102.074209\n",
       "29      USD      1.000000\n",
       "30      AUD      1.294604\n",
       "31      HUF    295.330964\n",
       "32      SEK      8.378068"
      ]
     },
     "execution_count": 54,
     "metadata": {},
     "output_type": "execute_result"
    }
   ],
   "source": [
    "usd_rates = (pd.DataFrame.from_dict(usd_rates, orient='index')\n",
    "             .reset_index()\n",
    "             .rename(columns={0 : 'Rate', 'index' : 'Currency'}))\n",
    "usd_rates"
   ]
  },
  {
   "cell_type": "markdown",
   "metadata": {},
   "source": [
    "Now, I'm guessing we could all agree that even as is, this could be one of the most useful datasets for any organization."
   ]
  },
  {
   "cell_type": "markdown",
   "metadata": {},
   "source": [
    "One more useful function, checking the rate on a specific day. <br>\n",
    "And also on this case, the function itself will be based on a given method from the API provider."
   ]
  },
  {
   "cell_type": "code",
   "execution_count": 60,
   "metadata": {
    "scrolled": true
   },
   "outputs": [
    {
     "data": {
      "text/plain": [
       "{'GBP': 0.5938004402,\n",
       " 'HKD': 7.7518708731,\n",
       " 'IDR': 11612.4431401321,\n",
       " 'ILS': 3.486133529,\n",
       " 'DKK': 5.4762289068,\n",
       " 'INR': 58.5085840059,\n",
       " 'CHF': 0.8958180484,\n",
       " 'MXN': 12.8934702861,\n",
       " 'SGD': 1.2526779164,\n",
       " 'CZK': 20.1305942773,\n",
       " 'THB': 32.6001467351,\n",
       " 'HRK': 5.5750550257,\n",
       " 'EUR': 0.7336757153,\n",
       " 'MYR': 3.2100513573,\n",
       " 'NOK': 5.9651504035,\n",
       " 'CNY': 6.2377109318,\n",
       " 'BGN': 1.434922964,\n",
       " 'PLN': 3.0543653705,\n",
       " 'LTL': 2.5332355099,\n",
       " 'ZAR': 10.3557593544,\n",
       " 'CAD': 1.0900953778,\n",
       " 'PHP': 43.7212032282,\n",
       " 'BRL': 2.2178283199,\n",
       " 'RON': 3.2358767425,\n",
       " 'NZD': 1.170726339,\n",
       " 'TRY': 2.0888481291,\n",
       " 'JPY': 101.9222303742,\n",
       " 'RUB': 34.1217168012,\n",
       " 'KRW': 1024.8569332355,\n",
       " 'USD': 1.0,\n",
       " 'AUD': 1.0845194424,\n",
       " 'HUF': 222.6632428467,\n",
       " 'SEK': 6.6471019809}"
      ]
     },
     "execution_count": 60,
     "metadata": {},
     "output_type": "execute_result"
    }
   ],
   "source": [
    "date_time_obj = datetime(2014, 5, 23, 18, 36, 28, 151012)\n",
    "usd_rate_on_date = c.get_rates('USD', date_time_obj)\n",
    "usd_rate_on_date"
   ]
  },
  {
   "cell_type": "markdown",
   "metadata": {},
   "source": [
    "Now, try to use the functions showed prior in order to convert it into a dataframe."
   ]
  },
  {
   "cell_type": "code",
   "execution_count": 57,
   "metadata": {},
   "outputs": [],
   "source": [
    "# Enter your code here\n"
   ]
  },
  {
   "cell_type": "markdown",
   "metadata": {},
   "source": [
    "And in case you wondered how to do so."
   ]
  },
  {
   "cell_type": "code",
   "execution_count": 61,
   "metadata": {
    "scrolled": true
   },
   "outputs": [
    {
     "data": {
      "text/html": [
       "<div>\n",
       "<style scoped>\n",
       "    .dataframe tbody tr th:only-of-type {\n",
       "        vertical-align: middle;\n",
       "    }\n",
       "\n",
       "    .dataframe tbody tr th {\n",
       "        vertical-align: top;\n",
       "    }\n",
       "\n",
       "    .dataframe thead th {\n",
       "        text-align: right;\n",
       "    }\n",
       "</style>\n",
       "<table border=\"1\" class=\"dataframe\">\n",
       "  <thead>\n",
       "    <tr style=\"text-align: right;\">\n",
       "      <th></th>\n",
       "      <th>Currency</th>\n",
       "      <th>Rate</th>\n",
       "    </tr>\n",
       "  </thead>\n",
       "  <tbody>\n",
       "    <tr>\n",
       "      <th>0</th>\n",
       "      <td>GBP</td>\n",
       "      <td>0.593800</td>\n",
       "    </tr>\n",
       "    <tr>\n",
       "      <th>1</th>\n",
       "      <td>HKD</td>\n",
       "      <td>7.751871</td>\n",
       "    </tr>\n",
       "    <tr>\n",
       "      <th>2</th>\n",
       "      <td>IDR</td>\n",
       "      <td>11612.443140</td>\n",
       "    </tr>\n",
       "    <tr>\n",
       "      <th>3</th>\n",
       "      <td>ILS</td>\n",
       "      <td>3.486134</td>\n",
       "    </tr>\n",
       "    <tr>\n",
       "      <th>4</th>\n",
       "      <td>DKK</td>\n",
       "      <td>5.476229</td>\n",
       "    </tr>\n",
       "    <tr>\n",
       "      <th>5</th>\n",
       "      <td>INR</td>\n",
       "      <td>58.508584</td>\n",
       "    </tr>\n",
       "    <tr>\n",
       "      <th>6</th>\n",
       "      <td>CHF</td>\n",
       "      <td>0.895818</td>\n",
       "    </tr>\n",
       "    <tr>\n",
       "      <th>7</th>\n",
       "      <td>MXN</td>\n",
       "      <td>12.893470</td>\n",
       "    </tr>\n",
       "    <tr>\n",
       "      <th>8</th>\n",
       "      <td>SGD</td>\n",
       "      <td>1.252678</td>\n",
       "    </tr>\n",
       "    <tr>\n",
       "      <th>9</th>\n",
       "      <td>CZK</td>\n",
       "      <td>20.130594</td>\n",
       "    </tr>\n",
       "    <tr>\n",
       "      <th>10</th>\n",
       "      <td>THB</td>\n",
       "      <td>32.600147</td>\n",
       "    </tr>\n",
       "    <tr>\n",
       "      <th>11</th>\n",
       "      <td>HRK</td>\n",
       "      <td>5.575055</td>\n",
       "    </tr>\n",
       "    <tr>\n",
       "      <th>12</th>\n",
       "      <td>EUR</td>\n",
       "      <td>0.733676</td>\n",
       "    </tr>\n",
       "    <tr>\n",
       "      <th>13</th>\n",
       "      <td>MYR</td>\n",
       "      <td>3.210051</td>\n",
       "    </tr>\n",
       "    <tr>\n",
       "      <th>14</th>\n",
       "      <td>NOK</td>\n",
       "      <td>5.965150</td>\n",
       "    </tr>\n",
       "    <tr>\n",
       "      <th>15</th>\n",
       "      <td>CNY</td>\n",
       "      <td>6.237711</td>\n",
       "    </tr>\n",
       "    <tr>\n",
       "      <th>16</th>\n",
       "      <td>BGN</td>\n",
       "      <td>1.434923</td>\n",
       "    </tr>\n",
       "    <tr>\n",
       "      <th>17</th>\n",
       "      <td>PLN</td>\n",
       "      <td>3.054365</td>\n",
       "    </tr>\n",
       "    <tr>\n",
       "      <th>18</th>\n",
       "      <td>LTL</td>\n",
       "      <td>2.533236</td>\n",
       "    </tr>\n",
       "    <tr>\n",
       "      <th>19</th>\n",
       "      <td>ZAR</td>\n",
       "      <td>10.355759</td>\n",
       "    </tr>\n",
       "    <tr>\n",
       "      <th>20</th>\n",
       "      <td>CAD</td>\n",
       "      <td>1.090095</td>\n",
       "    </tr>\n",
       "    <tr>\n",
       "      <th>21</th>\n",
       "      <td>PHP</td>\n",
       "      <td>43.721203</td>\n",
       "    </tr>\n",
       "    <tr>\n",
       "      <th>22</th>\n",
       "      <td>BRL</td>\n",
       "      <td>2.217828</td>\n",
       "    </tr>\n",
       "    <tr>\n",
       "      <th>23</th>\n",
       "      <td>RON</td>\n",
       "      <td>3.235877</td>\n",
       "    </tr>\n",
       "    <tr>\n",
       "      <th>24</th>\n",
       "      <td>NZD</td>\n",
       "      <td>1.170726</td>\n",
       "    </tr>\n",
       "    <tr>\n",
       "      <th>25</th>\n",
       "      <td>TRY</td>\n",
       "      <td>2.088848</td>\n",
       "    </tr>\n",
       "    <tr>\n",
       "      <th>26</th>\n",
       "      <td>JPY</td>\n",
       "      <td>101.922230</td>\n",
       "    </tr>\n",
       "    <tr>\n",
       "      <th>27</th>\n",
       "      <td>RUB</td>\n",
       "      <td>34.121717</td>\n",
       "    </tr>\n",
       "    <tr>\n",
       "      <th>28</th>\n",
       "      <td>KRW</td>\n",
       "      <td>1024.856933</td>\n",
       "    </tr>\n",
       "    <tr>\n",
       "      <th>29</th>\n",
       "      <td>USD</td>\n",
       "      <td>1.000000</td>\n",
       "    </tr>\n",
       "    <tr>\n",
       "      <th>30</th>\n",
       "      <td>AUD</td>\n",
       "      <td>1.084519</td>\n",
       "    </tr>\n",
       "    <tr>\n",
       "      <th>31</th>\n",
       "      <td>HUF</td>\n",
       "      <td>222.663243</td>\n",
       "    </tr>\n",
       "    <tr>\n",
       "      <th>32</th>\n",
       "      <td>SEK</td>\n",
       "      <td>6.647102</td>\n",
       "    </tr>\n",
       "  </tbody>\n",
       "</table>\n",
       "</div>"
      ],
      "text/plain": [
       "   Currency          Rate\n",
       "0       GBP      0.593800\n",
       "1       HKD      7.751871\n",
       "2       IDR  11612.443140\n",
       "3       ILS      3.486134\n",
       "4       DKK      5.476229\n",
       "5       INR     58.508584\n",
       "6       CHF      0.895818\n",
       "7       MXN     12.893470\n",
       "8       SGD      1.252678\n",
       "9       CZK     20.130594\n",
       "10      THB     32.600147\n",
       "11      HRK      5.575055\n",
       "12      EUR      0.733676\n",
       "13      MYR      3.210051\n",
       "14      NOK      5.965150\n",
       "15      CNY      6.237711\n",
       "16      BGN      1.434923\n",
       "17      PLN      3.054365\n",
       "18      LTL      2.533236\n",
       "19      ZAR     10.355759\n",
       "20      CAD      1.090095\n",
       "21      PHP     43.721203\n",
       "22      BRL      2.217828\n",
       "23      RON      3.235877\n",
       "24      NZD      1.170726\n",
       "25      TRY      2.088848\n",
       "26      JPY    101.922230\n",
       "27      RUB     34.121717\n",
       "28      KRW   1024.856933\n",
       "29      USD      1.000000\n",
       "30      AUD      1.084519\n",
       "31      HUF    222.663243\n",
       "32      SEK      6.647102"
      ]
     },
     "execution_count": 61,
     "metadata": {},
     "output_type": "execute_result"
    }
   ],
   "source": [
    "usd_rate_on_date = (pd.DataFrame.from_dict(usd_rate_on_date, orient='index')\n",
    "             .reset_index()\n",
    "             .rename(columns={0 : 'Rate', 'index' : 'Currency'}))\n",
    "usd_rate_on_date"
   ]
  },
  {
   "cell_type": "markdown",
   "metadata": {},
   "source": [
    "Now, we will use the same method, but with another parameter, in order to pull the conversion rate, on a specific date."
   ]
  },
  {
   "cell_type": "code",
   "execution_count": 64,
   "metadata": {},
   "outputs": [
    {
     "data": {
      "text/plain": [
       "{'GBP': 0.5938004402,\n",
       " 'HKD': 7.7518708731,\n",
       " 'IDR': 11612.4431401321,\n",
       " 'ILS': 3.486133529,\n",
       " 'DKK': 5.4762289068,\n",
       " 'INR': 58.5085840059,\n",
       " 'CHF': 0.8958180484,\n",
       " 'MXN': 12.8934702861,\n",
       " 'SGD': 1.2526779164,\n",
       " 'CZK': 20.1305942773,\n",
       " 'THB': 32.6001467351,\n",
       " 'HRK': 5.5750550257,\n",
       " 'EUR': 0.7336757153,\n",
       " 'MYR': 3.2100513573,\n",
       " 'NOK': 5.9651504035,\n",
       " 'CNY': 6.2377109318,\n",
       " 'BGN': 1.434922964,\n",
       " 'PLN': 3.0543653705,\n",
       " 'LTL': 2.5332355099,\n",
       " 'ZAR': 10.3557593544,\n",
       " 'CAD': 1.0900953778,\n",
       " 'PHP': 43.7212032282,\n",
       " 'BRL': 2.2178283199,\n",
       " 'RON': 3.2358767425,\n",
       " 'NZD': 1.170726339,\n",
       " 'TRY': 2.0888481291,\n",
       " 'JPY': 101.9222303742,\n",
       " 'RUB': 34.1217168012,\n",
       " 'KRW': 1024.8569332355,\n",
       " 'USD': 1.0,\n",
       " 'AUD': 1.0845194424,\n",
       " 'HUF': 222.6632428467,\n",
       " 'SEK': 6.6471019809}"
      ]
     },
     "execution_count": 64,
     "metadata": {},
     "output_type": "execute_result"
    }
   ],
   "source": [
    "date_obj = datetime(2014, 5, 23, 18, 36, 28, 151012)\n",
    "c.get_rates('USD', date_obj)"
   ]
  },
  {
   "cell_type": "markdown",
   "metadata": {},
   "source": [
    "And since most of us don't remember or even have the actual time they bought the currency, let's try to simplify it."
   ]
  },
  {
   "cell_type": "markdown",
   "metadata": {},
   "source": [
    "The following conversion of data types will be used in order to convert a date to the full date and time format.<br>\n",
    "The value that we will get in the end, will include the data and a default hour, in our case 00:00:00."
   ]
  },
  {
   "cell_type": "code",
   "execution_count": 79,
   "metadata": {},
   "outputs": [
    {
     "data": {
      "text/plain": [
       "{'GBP': 0.7397898774,\n",
       " 'HKD': 7.8145584925,\n",
       " 'IDR': 13540.4986241974,\n",
       " 'ILS': 3.4716084383,\n",
       " 'DKK': 6.2077044943,\n",
       " 'INR': 63.8751771867,\n",
       " 'CHF': 0.9757358459,\n",
       " 'MXN': 19.7291753523,\n",
       " 'CZK': 21.2915867589,\n",
       " 'SGD': 1.3361127324,\n",
       " 'THB': 32.6198615859,\n",
       " 'HRK': 6.2036187776,\n",
       " 'EUR': 0.8338197282,\n",
       " 'MYR': 4.0470274327,\n",
       " 'NOK': 8.2050362712,\n",
       " 'CNY': 6.5074626866,\n",
       " 'BGN': 1.6307846244,\n",
       " 'PHP': 49.8582506462,\n",
       " 'PLN': 3.4828650046,\n",
       " 'ZAR': 12.3450346035,\n",
       " 'CAD': 1.2539814892,\n",
       " 'BRL': 3.3126823981,\n",
       " 'RON': 3.8843492037,\n",
       " 'NZD': 1.404986242,\n",
       " 'TRY': 3.7908780122,\n",
       " 'JPY': 112.5740015009,\n",
       " 'RUB': 57.8604185775,\n",
       " 'KRW': 1066.9640623697,\n",
       " 'USD': 1.0,\n",
       " 'AUD': 1.2795797549,\n",
       " 'HUF': 258.7592762445,\n",
       " 'SEK': 8.2079546402}"
      ]
     },
     "execution_count": 79,
     "metadata": {},
     "output_type": "execute_result"
    }
   ],
   "source": [
    "date_str = '01-01-2018'\n",
    "date_object = pd.Timestamp(datetime.strptime(date_str, '%d-%m-%Y').date())\n",
    "c.get_rates('USD', date_object)"
   ]
  },
  {
   "cell_type": "markdown",
   "metadata": {},
   "source": [
    "Or, we can conduct it as part of a function, in order to simplify it even more."
   ]
  },
  {
   "cell_type": "code",
   "execution_count": 84,
   "metadata": {
    "collapsed": true
   },
   "outputs": [
    {
     "data": {
      "text/plain": [
       "{'GBP': 0.7397898774,\n",
       " 'HKD': 7.8145584925,\n",
       " 'IDR': 13540.4986241974,\n",
       " 'ILS': 3.4716084383,\n",
       " 'DKK': 6.2077044943,\n",
       " 'INR': 63.8751771867,\n",
       " 'CHF': 0.9757358459,\n",
       " 'MXN': 19.7291753523,\n",
       " 'CZK': 21.2915867589,\n",
       " 'SGD': 1.3361127324,\n",
       " 'THB': 32.6198615859,\n",
       " 'HRK': 6.2036187776,\n",
       " 'EUR': 0.8338197282,\n",
       " 'MYR': 4.0470274327,\n",
       " 'NOK': 8.2050362712,\n",
       " 'CNY': 6.5074626866,\n",
       " 'BGN': 1.6307846244,\n",
       " 'PHP': 49.8582506462,\n",
       " 'PLN': 3.4828650046,\n",
       " 'ZAR': 12.3450346035,\n",
       " 'CAD': 1.2539814892,\n",
       " 'BRL': 3.3126823981,\n",
       " 'RON': 3.8843492037,\n",
       " 'NZD': 1.404986242,\n",
       " 'TRY': 3.7908780122,\n",
       " 'JPY': 112.5740015009,\n",
       " 'RUB': 57.8604185775,\n",
       " 'KRW': 1066.9640623697,\n",
       " 'USD': 1.0,\n",
       " 'AUD': 1.2795797549,\n",
       " 'HUF': 258.7592762445,\n",
       " 'SEK': 8.2079546402}"
      ]
     },
     "execution_count": 84,
     "metadata": {},
     "output_type": "execute_result"
    }
   ],
   "source": [
    "def date_convert(date_of_conversion):\n",
    "    if (date_str[2] == '-') and (date_str[5] == '-'):\n",
    "        date_object = pd.Timestamp(datetime.strptime(date_of_conversion, '%d-%m-%Y').date())\n",
    "        return date_object\n",
    "    else:\n",
    "        message = 'Make sure you have entered the date in the right format (dd-mm-yyyy)'\n",
    "        return message\n",
    "\n",
    "date_object = date_convert('13-03-1996')\n",
    "c.get_rates('USD', date_object)"
   ]
  },
  {
   "cell_type": "markdown",
   "metadata": {},
   "source": [
    "Now try it yourself"
   ]
  },
  {
   "cell_type": "code",
   "execution_count": null,
   "metadata": {},
   "outputs": [],
   "source": [
    "date_object = date_convert('Enter your date here')\n",
    "c.get_rates('USD', date_object)"
   ]
  },
  {
   "cell_type": "markdown",
   "metadata": {},
   "source": [
    "Now, let's create a calculator that get's the amount of money we got/payed and in which currency, <br> and returns the values of the transaction, in the type of currency we have converted to.\n"
   ]
  },
  {
   "cell_type": "code",
   "execution_count": 96,
   "metadata": {},
   "outputs": [
    {
     "data": {
      "text/plain": [
       "82.63779853"
      ]
     },
     "execution_count": 96,
     "metadata": {},
     "output_type": "execute_result"
    }
   ],
   "source": [
    "def deal_convert(date, amount, from_currency, to_currency):\n",
    "    date_object = date_convert(date)\n",
    "    return (c.convert(from_currency, to_currency, amount))\n",
    "\n",
    "deal_convert('01-01-2019', 100, 'USD', 'EUR')"
   ]
  },
  {
   "cell_type": "markdown",
   "metadata": {},
   "source": [
    "Now this data is extremly useful while trying to calculate all sort of financial related data."
   ]
  },
  {
   "cell_type": "markdown",
   "metadata": {},
   "source": [
    "And for cases when the wanted currency is not available through the API, there is always the option of scrapping it.<br>\n",
    "Here is example of scrapping NIS rate to Dollar from one of the popular financial websites in Israel."
   ]
  },
  {
   "cell_type": "code",
   "execution_count": 125,
   "metadata": {},
   "outputs": [
    {
     "data": {
      "text/plain": [
       "'3.28'"
      ]
     },
     "execution_count": 125,
     "metadata": {},
     "output_type": "execute_result"
    }
   ],
   "source": [
    "df = pd.read_html('https://www.globes.co.il/portal/instrument.aspx?instrumentid=10463')[0]\n",
    "df = df.drop(columns=[0])\n",
    "USD_NIS = df[1][1]\n",
    "USD_NIS"
   ]
  },
  {
   "cell_type": "markdown",
   "metadata": {},
   "source": [
    "In this example we have scrapped the currency rate from a non-API based website for our use.<br>\n",
    "As for this example, this technique is relevent for many optional analysis."
   ]
  },
  {
   "cell_type": "markdown",
   "metadata": {},
   "source": [
    "#### Now, use case to show how useful descion based data regarding currency could be"
   ]
  },
  {
   "cell_type": "markdown",
   "metadata": {},
   "source": [
    "In order to show that, we will scrap a dataframe of the rates of the NIS-USD for the last almost year."
   ]
  },
  {
   "cell_type": "code",
   "execution_count": 144,
   "metadata": {},
   "outputs": [],
   "source": [
    "df = pd.read_html('https://www.exchange-rates.org/history/ILS/USD/T')[0]"
   ]
  },
  {
   "cell_type": "markdown",
   "metadata": {},
   "source": [
    "Just renaming columns in order to ease the analysis"
   ]
  },
  {
   "cell_type": "code",
   "execution_count": 145,
   "metadata": {},
   "outputs": [
    {
     "data": {
      "text/html": [
       "<div>\n",
       "<style scoped>\n",
       "    .dataframe tbody tr th:only-of-type {\n",
       "        vertical-align: middle;\n",
       "    }\n",
       "\n",
       "    .dataframe tbody tr th {\n",
       "        vertical-align: top;\n",
       "    }\n",
       "\n",
       "    .dataframe thead th {\n",
       "        text-align: right;\n",
       "    }\n",
       "</style>\n",
       "<table border=\"1\" class=\"dataframe\">\n",
       "  <thead>\n",
       "    <tr style=\"text-align: right;\">\n",
       "      <th></th>\n",
       "      <th>Date</th>\n",
       "      <th>Day</th>\n",
       "      <th>Rate</th>\n",
       "      <th>Notes</th>\n",
       "    </tr>\n",
       "  </thead>\n",
       "  <tbody>\n",
       "    <tr>\n",
       "      <th>0</th>\n",
       "      <td>1/29/2021</td>\n",
       "      <td>Friday</td>\n",
       "      <td>3.27730 ILS</td>\n",
       "      <td>USD ILS rate for 1/29/2021</td>\n",
       "    </tr>\n",
       "    <tr>\n",
       "      <th>1</th>\n",
       "      <td>1/28/2021</td>\n",
       "      <td>Thursday</td>\n",
       "      <td>3.28339 ILS</td>\n",
       "      <td>USD ILS rate for 1/28/2021</td>\n",
       "    </tr>\n",
       "    <tr>\n",
       "      <th>2</th>\n",
       "      <td>1/27/2021</td>\n",
       "      <td>Wednesday</td>\n",
       "      <td>3.26198 ILS</td>\n",
       "      <td>USD ILS rate for 1/27/2021</td>\n",
       "    </tr>\n",
       "    <tr>\n",
       "      <th>3</th>\n",
       "      <td>1/26/2021</td>\n",
       "      <td>Tuesday</td>\n",
       "      <td>3.26567 ILS</td>\n",
       "      <td>USD ILS rate for 1/26/2021</td>\n",
       "    </tr>\n",
       "    <tr>\n",
       "      <th>4</th>\n",
       "      <td>1/25/2021</td>\n",
       "      <td>Monday</td>\n",
       "      <td>3.27250 ILS</td>\n",
       "      <td>USD ILS rate for 1/25/2021</td>\n",
       "    </tr>\n",
       "    <tr>\n",
       "      <th>...</th>\n",
       "      <td>...</td>\n",
       "      <td>...</td>\n",
       "      <td>...</td>\n",
       "      <td>...</td>\n",
       "    </tr>\n",
       "    <tr>\n",
       "      <th>134</th>\n",
       "      <td>8/6/2020</td>\n",
       "      <td>Thursday</td>\n",
       "      <td>3.39446 ILS</td>\n",
       "      <td>USD ILS rate for 8/6/2020</td>\n",
       "    </tr>\n",
       "    <tr>\n",
       "      <th>135</th>\n",
       "      <td>8/5/2020</td>\n",
       "      <td>Wednesday</td>\n",
       "      <td>3.40728 ILS</td>\n",
       "      <td>USD ILS rate for 8/5/2020</td>\n",
       "    </tr>\n",
       "    <tr>\n",
       "      <th>136</th>\n",
       "      <td>8/4/2020</td>\n",
       "      <td>Tuesday</td>\n",
       "      <td>3.40546 ILS</td>\n",
       "      <td>USD ILS rate for 8/4/2020</td>\n",
       "    </tr>\n",
       "    <tr>\n",
       "      <th>137</th>\n",
       "      <td>8/3/2020</td>\n",
       "      <td>Monday</td>\n",
       "      <td>3.40340 ILS</td>\n",
       "      <td>USD ILS rate for 8/3/2020</td>\n",
       "    </tr>\n",
       "    <tr>\n",
       "      <th>138</th>\n",
       "      <td>8/2/2020</td>\n",
       "      <td>Sunday</td>\n",
       "      <td>3.41623 ILS</td>\n",
       "      <td>USD ILS rate for 8/2/2020</td>\n",
       "    </tr>\n",
       "  </tbody>\n",
       "</table>\n",
       "<p>139 rows × 4 columns</p>\n",
       "</div>"
      ],
      "text/plain": [
       "          Date        Day         Rate                       Notes\n",
       "0    1/29/2021     Friday  3.27730 ILS  USD ILS rate for 1/29/2021\n",
       "1    1/28/2021   Thursday  3.28339 ILS  USD ILS rate for 1/28/2021\n",
       "2    1/27/2021  Wednesday  3.26198 ILS  USD ILS rate for 1/27/2021\n",
       "3    1/26/2021    Tuesday  3.26567 ILS  USD ILS rate for 1/26/2021\n",
       "4    1/25/2021     Monday  3.27250 ILS  USD ILS rate for 1/25/2021\n",
       "..         ...        ...          ...                         ...\n",
       "134   8/6/2020   Thursday  3.39446 ILS   USD ILS rate for 8/6/2020\n",
       "135   8/5/2020  Wednesday  3.40728 ILS   USD ILS rate for 8/5/2020\n",
       "136   8/4/2020    Tuesday  3.40546 ILS   USD ILS rate for 8/4/2020\n",
       "137   8/3/2020     Monday  3.40340 ILS   USD ILS rate for 8/3/2020\n",
       "138   8/2/2020     Sunday  3.41623 ILS   USD ILS rate for 8/2/2020\n",
       "\n",
       "[139 rows x 4 columns]"
      ]
     },
     "execution_count": 145,
     "metadata": {},
     "output_type": "execute_result"
    }
   ],
   "source": [
    "df = df.rename(columns = {0 : 'Date', 1: 'Day', 2 : 'Rate', 3 : 'Notes'})\n",
    "df"
   ]
  },
  {
   "cell_type": "markdown",
   "metadata": {},
   "source": [
    "Now let's check in which day of the week, does the rate of the ILS is \"stronger\", in accordance to the USD.<br>\n",
    "This data could be useful in order to maximize the rate when doing currency conversions."
   ]
  },
  {
   "cell_type": "markdown",
   "metadata": {},
   "source": [
    "But first, list \"clean\" the Rate column using regular expressions."
   ]
  },
  {
   "cell_type": "code",
   "execution_count": 150,
   "metadata": {},
   "outputs": [
    {
     "data": {
      "text/html": [
       "<div>\n",
       "<style scoped>\n",
       "    .dataframe tbody tr th:only-of-type {\n",
       "        vertical-align: middle;\n",
       "    }\n",
       "\n",
       "    .dataframe tbody tr th {\n",
       "        vertical-align: top;\n",
       "    }\n",
       "\n",
       "    .dataframe thead th {\n",
       "        text-align: right;\n",
       "    }\n",
       "</style>\n",
       "<table border=\"1\" class=\"dataframe\">\n",
       "  <thead>\n",
       "    <tr style=\"text-align: right;\">\n",
       "      <th></th>\n",
       "      <th>Date</th>\n",
       "      <th>Day</th>\n",
       "      <th>Rate</th>\n",
       "      <th>Notes</th>\n",
       "    </tr>\n",
       "  </thead>\n",
       "  <tbody>\n",
       "    <tr>\n",
       "      <th>0</th>\n",
       "      <td>1/29/2021</td>\n",
       "      <td>Friday</td>\n",
       "      <td>3.27730</td>\n",
       "      <td>USD ILS rate for 1/29/2021</td>\n",
       "    </tr>\n",
       "    <tr>\n",
       "      <th>1</th>\n",
       "      <td>1/28/2021</td>\n",
       "      <td>Thursday</td>\n",
       "      <td>3.28339</td>\n",
       "      <td>USD ILS rate for 1/28/2021</td>\n",
       "    </tr>\n",
       "    <tr>\n",
       "      <th>2</th>\n",
       "      <td>1/27/2021</td>\n",
       "      <td>Wednesday</td>\n",
       "      <td>3.26198</td>\n",
       "      <td>USD ILS rate for 1/27/2021</td>\n",
       "    </tr>\n",
       "    <tr>\n",
       "      <th>3</th>\n",
       "      <td>1/26/2021</td>\n",
       "      <td>Tuesday</td>\n",
       "      <td>3.26567</td>\n",
       "      <td>USD ILS rate for 1/26/2021</td>\n",
       "    </tr>\n",
       "    <tr>\n",
       "      <th>4</th>\n",
       "      <td>1/25/2021</td>\n",
       "      <td>Monday</td>\n",
       "      <td>3.27250</td>\n",
       "      <td>USD ILS rate for 1/25/2021</td>\n",
       "    </tr>\n",
       "    <tr>\n",
       "      <th>...</th>\n",
       "      <td>...</td>\n",
       "      <td>...</td>\n",
       "      <td>...</td>\n",
       "      <td>...</td>\n",
       "    </tr>\n",
       "    <tr>\n",
       "      <th>134</th>\n",
       "      <td>8/6/2020</td>\n",
       "      <td>Thursday</td>\n",
       "      <td>3.39446</td>\n",
       "      <td>USD ILS rate for 8/6/2020</td>\n",
       "    </tr>\n",
       "    <tr>\n",
       "      <th>135</th>\n",
       "      <td>8/5/2020</td>\n",
       "      <td>Wednesday</td>\n",
       "      <td>3.40728</td>\n",
       "      <td>USD ILS rate for 8/5/2020</td>\n",
       "    </tr>\n",
       "    <tr>\n",
       "      <th>136</th>\n",
       "      <td>8/4/2020</td>\n",
       "      <td>Tuesday</td>\n",
       "      <td>3.40546</td>\n",
       "      <td>USD ILS rate for 8/4/2020</td>\n",
       "    </tr>\n",
       "    <tr>\n",
       "      <th>137</th>\n",
       "      <td>8/3/2020</td>\n",
       "      <td>Monday</td>\n",
       "      <td>3.40340</td>\n",
       "      <td>USD ILS rate for 8/3/2020</td>\n",
       "    </tr>\n",
       "    <tr>\n",
       "      <th>138</th>\n",
       "      <td>8/2/2020</td>\n",
       "      <td>Sunday</td>\n",
       "      <td>3.41623</td>\n",
       "      <td>USD ILS rate for 8/2/2020</td>\n",
       "    </tr>\n",
       "  </tbody>\n",
       "</table>\n",
       "<p>139 rows × 4 columns</p>\n",
       "</div>"
      ],
      "text/plain": [
       "          Date        Day     Rate                       Notes\n",
       "0    1/29/2021     Friday  3.27730  USD ILS rate for 1/29/2021\n",
       "1    1/28/2021   Thursday  3.28339  USD ILS rate for 1/28/2021\n",
       "2    1/27/2021  Wednesday  3.26198  USD ILS rate for 1/27/2021\n",
       "3    1/26/2021    Tuesday  3.26567  USD ILS rate for 1/26/2021\n",
       "4    1/25/2021     Monday  3.27250  USD ILS rate for 1/25/2021\n",
       "..         ...        ...      ...                         ...\n",
       "134   8/6/2020   Thursday  3.39446   USD ILS rate for 8/6/2020\n",
       "135   8/5/2020  Wednesday  3.40728   USD ILS rate for 8/5/2020\n",
       "136   8/4/2020    Tuesday  3.40546   USD ILS rate for 8/4/2020\n",
       "137   8/3/2020     Monday  3.40340   USD ILS rate for 8/3/2020\n",
       "138   8/2/2020     Sunday  3.41623   USD ILS rate for 8/2/2020\n",
       "\n",
       "[139 rows x 4 columns]"
      ]
     },
     "execution_count": 150,
     "metadata": {},
     "output_type": "execute_result"
    }
   ],
   "source": [
    "import re\n",
    "df['Rate'] = [''.join(re.findall(\"\\d+\\.\\d+\", item)) for item in df['Rate']]\n",
    "df"
   ]
  },
  {
   "cell_type": "markdown",
   "metadata": {},
   "source": [
    "And also, if you will check it, our Rate data is a string rather then float.<br>\n",
    "So let's convert it."
   ]
  },
  {
   "cell_type": "code",
   "execution_count": 156,
   "metadata": {},
   "outputs": [
    {
     "data": {
      "text/plain": [
       "0      3.27730\n",
       "1      3.28339\n",
       "2      3.26198\n",
       "3      3.26567\n",
       "4      3.27250\n",
       "        ...   \n",
       "134    3.39446\n",
       "135    3.40728\n",
       "136    3.40546\n",
       "137    3.40340\n",
       "138    3.41623\n",
       "Name: Rate, Length: 139, dtype: float64"
      ]
     },
     "execution_count": 156,
     "metadata": {},
     "output_type": "execute_result"
    }
   ],
   "source": [
    "df['Rate'] = df['Rate'].apply(lambda x : float(x))\n",
    "df['Rate']"
   ]
  },
  {
   "cell_type": "markdown",
   "metadata": {},
   "source": [
    "Now let's try to check for the days with the highest average rate of the NIS in comparing to the USD."
   ]
  },
  {
   "cell_type": "code",
   "execution_count": 158,
   "metadata": {},
   "outputs": [
    {
     "data": {
      "text/plain": [
       "Day\n",
       "Sunday       3.410971\n",
       "Monday       3.345088\n",
       "Friday       3.341304\n",
       "Tuesday      3.340342\n",
       "Thursday     3.336425\n",
       "Wednesday    3.336420\n",
       "Name: Rate, dtype: float64"
      ]
     },
     "execution_count": 158,
     "metadata": {},
     "output_type": "execute_result"
    }
   ],
   "source": [
    "df.groupby(['Day'])['Rate'].mean().sort_values(ascending=False)"
   ]
  },
  {
   "cell_type": "markdown",
   "metadata": {},
   "source": [
    "And the result is? Well, Sunday.<br>\n",
    "\n",
    "Our guess is that its related to the fact that Sunday is weekend in the US and therefore, trade volumes are lower.\n",
    "This leads to minor affect on the Rates, in accordance to the general trend."
   ]
  },
  {
   "cell_type": "code",
   "execution_count": 160,
   "metadata": {},
   "outputs": [
    {
     "data": {
      "text/plain": [
       "Day\n",
       "Sunday       3.411200\n",
       "Tuesday      3.381480\n",
       "Wednesday    3.374810\n",
       "Monday       3.373745\n",
       "Thursday     3.369285\n",
       "Friday       3.362920\n",
       "Name: Rate, dtype: float64"
      ]
     },
     "execution_count": 160,
     "metadata": {},
     "output_type": "execute_result"
    }
   ],
   "source": [
    "df.groupby(['Day'])['Rate'].median().sort_values(ascending=False)"
   ]
  },
  {
   "cell_type": "markdown",
   "metadata": {},
   "source": [
    "Also, as seen above, this metric is true also when checking for the median."
   ]
  },
  {
   "cell_type": "markdown",
   "metadata": {},
   "source": [
    "#### Bottom line, if you are converting NIS to USD, try doing it on Sunday. You will probably get the better rate."
   ]
  },
  {
   "cell_type": "markdown",
   "metadata": {},
   "source": [
    "Beside that, note how we have used and scrapped many types of websites, side by our API.<br>\n",
    "The reason? None of them was sufficient so we had to dig deeper. and thats OK.<br>\n",
    "So, one last tip from me to you, don't be afraid of looking for your data source."
   ]
  },
  {
   "cell_type": "code",
   "execution_count": null,
   "metadata": {},
   "outputs": [],
   "source": []
  }
 ],
 "metadata": {
  "kernelspec": {
   "display_name": "conda_python3",
   "language": "python",
   "name": "conda_python3"
  },
  "language_info": {
   "codemirror_mode": {
    "name": "ipython",
    "version": 3
   },
   "file_extension": ".py",
   "mimetype": "text/x-python",
   "name": "python",
   "nbconvert_exporter": "python",
   "pygments_lexer": "ipython3",
   "version": "3.6.10"
  }
 },
 "nbformat": 4,
 "nbformat_minor": 4
}
