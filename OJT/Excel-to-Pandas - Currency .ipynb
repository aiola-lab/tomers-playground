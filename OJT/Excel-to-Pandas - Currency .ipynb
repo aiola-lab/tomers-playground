{
 "cells": [
  {
   "cell_type": "markdown",
   "metadata": {},
   "source": [
    "# Currency"
   ]
  },
  {
   "cell_type": "markdown",
   "metadata": {},
   "source": [
    "#### Money often costs too much. --Ralph Waldo Emerson"
   ]
  },
  {
   "cell_type": "markdown",
   "metadata": {},
   "source": [
    "##### A very used expression in our life, in if utilized just right, also very useful. <br>\n",
    "In this notebook, were are query a rest API in order to get the latest currency rates for all currencies out there.<br>\n",
    "It will always be as updated to the time-of-running."
   ]
  },
  {
   "cell_type": "markdown",
   "metadata": {},
   "source": [
    "### Api"
   ]
  },
  {
   "cell_type": "markdown",
   "metadata": {},
   "source": [
    "First of all, let's get our data.<br>\n",
    "In order to do so, let's start with installing all the needed libraries and get the right imports."
   ]
  },
  {
   "cell_type": "code",
   "execution_count": 3,
   "metadata": {},
   "outputs": [
    {
     "name": "stdout",
     "output_type": "stream",
     "text": [
      "Requirement already satisfied: forex-python in /home/ec2-user/anaconda3/envs/python3/lib/python3.6/site-packages (1.5)\n",
      "Requirement already satisfied: simplejson in /home/ec2-user/anaconda3/envs/python3/lib/python3.6/site-packages (from forex-python) (3.17.2)\n",
      "Requirement already satisfied: requests in /home/ec2-user/anaconda3/envs/python3/lib/python3.6/site-packages (from forex-python) (2.25.0)\n",
      "Requirement already satisfied: idna<3,>=2.5 in /home/ec2-user/anaconda3/envs/python3/lib/python3.6/site-packages (from requests->forex-python) (2.10)\n",
      "Requirement already satisfied: chardet<4,>=3.0.2 in /home/ec2-user/anaconda3/envs/python3/lib/python3.6/site-packages (from requests->forex-python) (3.0.4)\n",
      "Requirement already satisfied: certifi>=2017.4.17 in /home/ec2-user/anaconda3/envs/python3/lib/python3.6/site-packages (from requests->forex-python) (2020.11.8)\n",
      "Requirement already satisfied: urllib3<1.27,>=1.21.1 in /home/ec2-user/anaconda3/envs/python3/lib/python3.6/site-packages (from requests->forex-python) (1.25.11)\n",
      "\u001b[33mWARNING: You are using pip version 20.3; however, version 21.0.1 is available.\n",
      "You should consider upgrading via the '/home/ec2-user/anaconda3/envs/python3/bin/python -m pip install --upgrade pip' command.\u001b[0m\n"
     ]
    }
   ],
   "source": [
    "import sys\n",
    "import os\n",
    "!{sys.executable} -m pip install forex-python\n",
    "from forex_python.converter import CurrencyRates\n",
    "import pandas as pd\n",
    "import numpy as np\n",
    "from datetime import datetime"
   ]
  },
  {
   "cell_type": "markdown",
   "metadata": {},
   "source": [
    "#### Now let's get our data. <br> \n",
    "\n",
    "In that case, the function here is given by the provider of this API, and for more methods, you can go to the following URL -<br> https://forex-python.readthedocs.io/en/latest/usage.html"
   ]
  },
  {
   "cell_type": "code",
   "execution_count": 4,
   "metadata": {},
   "outputs": [],
   "source": [
    "c = CurrencyRates()\n",
    "usd_rates = c.get_rates('USD')"
   ]
  },
  {
   "cell_type": "markdown",
   "metadata": {},
   "source": [
    "Let's turn it into something more readable, by converting its type from Dictionary to DataFrame, and give its columns more informative names."
   ]
  },
  {
   "cell_type": "code",
   "execution_count": 5,
   "metadata": {
    "scrolled": true
   },
   "outputs": [
    {
     "data": {
      "text/html": [
       "<div>\n",
       "<style scoped>\n",
       "    .dataframe tbody tr th:only-of-type {\n",
       "        vertical-align: middle;\n",
       "    }\n",
       "\n",
       "    .dataframe tbody tr th {\n",
       "        vertical-align: top;\n",
       "    }\n",
       "\n",
       "    .dataframe thead th {\n",
       "        text-align: right;\n",
       "    }\n",
       "</style>\n",
       "<table border=\"1\" class=\"dataframe\">\n",
       "  <thead>\n",
       "    <tr style=\"text-align: right;\">\n",
       "      <th></th>\n",
       "      <th>Currency</th>\n",
       "      <th>Rate</th>\n",
       "    </tr>\n",
       "  </thead>\n",
       "  <tbody>\n",
       "    <tr>\n",
       "      <th>0</th>\n",
       "      <td>GBP</td>\n",
       "      <td>0.728271</td>\n",
       "    </tr>\n",
       "    <tr>\n",
       "      <th>1</th>\n",
       "      <td>HKD</td>\n",
       "      <td>7.753214</td>\n",
       "    </tr>\n",
       "    <tr>\n",
       "      <th>2</th>\n",
       "      <td>IDR</td>\n",
       "      <td>14003.098220</td>\n",
       "    </tr>\n",
       "    <tr>\n",
       "      <th>3</th>\n",
       "      <td>ILS</td>\n",
       "      <td>3.280653</td>\n",
       "    </tr>\n",
       "    <tr>\n",
       "      <th>4</th>\n",
       "      <td>DKK</td>\n",
       "      <td>6.128049</td>\n",
       "    </tr>\n",
       "    <tr>\n",
       "      <th>5</th>\n",
       "      <td>INR</td>\n",
       "      <td>72.867502</td>\n",
       "    </tr>\n",
       "    <tr>\n",
       "      <th>6</th>\n",
       "      <td>CHF</td>\n",
       "      <td>0.889750</td>\n",
       "    </tr>\n",
       "    <tr>\n",
       "      <th>7</th>\n",
       "      <td>MXN</td>\n",
       "      <td>20.222231</td>\n",
       "    </tr>\n",
       "    <tr>\n",
       "      <th>8</th>\n",
       "      <td>CZK</td>\n",
       "      <td>21.440343</td>\n",
       "    </tr>\n",
       "    <tr>\n",
       "      <th>9</th>\n",
       "      <td>SGD</td>\n",
       "      <td>1.328362</td>\n",
       "    </tr>\n",
       "    <tr>\n",
       "      <th>10</th>\n",
       "      <td>THB</td>\n",
       "      <td>29.900297</td>\n",
       "    </tr>\n",
       "    <tr>\n",
       "      <th>11</th>\n",
       "      <td>HRK</td>\n",
       "      <td>6.234179</td>\n",
       "    </tr>\n",
       "    <tr>\n",
       "      <th>12</th>\n",
       "      <td>EUR</td>\n",
       "      <td>0.823995</td>\n",
       "    </tr>\n",
       "    <tr>\n",
       "      <th>13</th>\n",
       "      <td>MYR</td>\n",
       "      <td>4.042518</td>\n",
       "    </tr>\n",
       "    <tr>\n",
       "      <th>14</th>\n",
       "      <td>NOK</td>\n",
       "      <td>8.522577</td>\n",
       "    </tr>\n",
       "    <tr>\n",
       "      <th>15</th>\n",
       "      <td>CNY</td>\n",
       "      <td>6.431032</td>\n",
       "    </tr>\n",
       "    <tr>\n",
       "      <th>16</th>\n",
       "      <td>BGN</td>\n",
       "      <td>1.611569</td>\n",
       "    </tr>\n",
       "    <tr>\n",
       "      <th>17</th>\n",
       "      <td>PHP</td>\n",
       "      <td>48.066084</td>\n",
       "    </tr>\n",
       "    <tr>\n",
       "      <th>18</th>\n",
       "      <td>PLN</td>\n",
       "      <td>3.733026</td>\n",
       "    </tr>\n",
       "    <tr>\n",
       "      <th>19</th>\n",
       "      <td>ZAR</td>\n",
       "      <td>15.083883</td>\n",
       "    </tr>\n",
       "    <tr>\n",
       "      <th>20</th>\n",
       "      <td>CAD</td>\n",
       "      <td>1.278840</td>\n",
       "    </tr>\n",
       "    <tr>\n",
       "      <th>21</th>\n",
       "      <td>ISK</td>\n",
       "      <td>128.625577</td>\n",
       "    </tr>\n",
       "    <tr>\n",
       "      <th>22</th>\n",
       "      <td>BRL</td>\n",
       "      <td>5.485168</td>\n",
       "    </tr>\n",
       "    <tr>\n",
       "      <th>23</th>\n",
       "      <td>RON</td>\n",
       "      <td>4.016974</td>\n",
       "    </tr>\n",
       "    <tr>\n",
       "      <th>24</th>\n",
       "      <td>NZD</td>\n",
       "      <td>1.389502</td>\n",
       "    </tr>\n",
       "    <tr>\n",
       "      <th>25</th>\n",
       "      <td>TRY</td>\n",
       "      <td>7.314766</td>\n",
       "    </tr>\n",
       "    <tr>\n",
       "      <th>26</th>\n",
       "      <td>JPY</td>\n",
       "      <td>104.688530</td>\n",
       "    </tr>\n",
       "    <tr>\n",
       "      <th>27</th>\n",
       "      <td>RUB</td>\n",
       "      <td>75.723385</td>\n",
       "    </tr>\n",
       "    <tr>\n",
       "      <th>28</th>\n",
       "      <td>KRW</td>\n",
       "      <td>1116.496374</td>\n",
       "    </tr>\n",
       "    <tr>\n",
       "      <th>29</th>\n",
       "      <td>USD</td>\n",
       "      <td>1.000000</td>\n",
       "    </tr>\n",
       "    <tr>\n",
       "      <th>30</th>\n",
       "      <td>AUD</td>\n",
       "      <td>1.303477</td>\n",
       "    </tr>\n",
       "    <tr>\n",
       "      <th>31</th>\n",
       "      <td>HUF</td>\n",
       "      <td>295.311470</td>\n",
       "    </tr>\n",
       "    <tr>\n",
       "      <th>32</th>\n",
       "      <td>SEK</td>\n",
       "      <td>8.331411</td>\n",
       "    </tr>\n",
       "  </tbody>\n",
       "</table>\n",
       "</div>"
      ],
      "text/plain": [
       "   Currency          Rate\n",
       "0       GBP      0.728271\n",
       "1       HKD      7.753214\n",
       "2       IDR  14003.098220\n",
       "3       ILS      3.280653\n",
       "4       DKK      6.128049\n",
       "5       INR     72.867502\n",
       "6       CHF      0.889750\n",
       "7       MXN     20.222231\n",
       "8       CZK     21.440343\n",
       "9       SGD      1.328362\n",
       "10      THB     29.900297\n",
       "11      HRK      6.234179\n",
       "12      EUR      0.823995\n",
       "13      MYR      4.042518\n",
       "14      NOK      8.522577\n",
       "15      CNY      6.431032\n",
       "16      BGN      1.611569\n",
       "17      PHP     48.066084\n",
       "18      PLN      3.733026\n",
       "19      ZAR     15.083883\n",
       "20      CAD      1.278840\n",
       "21      ISK    128.625577\n",
       "22      BRL      5.485168\n",
       "23      RON      4.016974\n",
       "24      NZD      1.389502\n",
       "25      TRY      7.314766\n",
       "26      JPY    104.688530\n",
       "27      RUB     75.723385\n",
       "28      KRW   1116.496374\n",
       "29      USD      1.000000\n",
       "30      AUD      1.303477\n",
       "31      HUF    295.311470\n",
       "32      SEK      8.331411"
      ]
     },
     "execution_count": 5,
     "metadata": {},
     "output_type": "execute_result"
    }
   ],
   "source": [
    "usd_rates = (pd.DataFrame.from_dict(usd_rates, orient='index')\n",
    "             .reset_index()\n",
    "             .rename(columns={0 : 'Rate', 'index' : 'Currency'}))\n",
    "usd_rates"
   ]
  },
  {
   "cell_type": "markdown",
   "metadata": {},
   "source": [
    "Now, I'm guessing we could all agree that even as is, this could be one of the most useful datasets for any organization."
   ]
  },
  {
   "cell_type": "markdown",
   "metadata": {},
   "source": [
    "One more useful function, checking the rate on a specific day. <br>\n",
    "And also on this case, the function itself will be based on a given method from the API provider."
   ]
  },
  {
   "cell_type": "code",
   "execution_count": 6,
   "metadata": {
    "scrolled": true
   },
   "outputs": [
    {
     "data": {
      "text/plain": [
       "{'GBP': 0.8213774762,\n",
       " 'HKD': 7.7559611152,\n",
       " 'IDR': 14901.9992663243,\n",
       " 'ILS': 3.527054292,\n",
       " 'DKK': 6.8395084373,\n",
       " 'INR': 75.8680300807,\n",
       " 'CHF': 0.9712949376,\n",
       " 'MXN': 22.9686353632,\n",
       " 'CZK': 24.9541452678,\n",
       " 'SGD': 1.4234225972,\n",
       " 'THB': 31.8947175348,\n",
       " 'HRK': 6.9557043287,\n",
       " 'EUR': 0.9170946442,\n",
       " 'MYR': 4.3625275128,\n",
       " 'NOK': 10.0034849596,\n",
       " 'CNY': 7.1347212032,\n",
       " 'BGN': 1.7936537051,\n",
       " 'PHP': 50.76027146,\n",
       " 'PLN': 4.1460931768,\n",
       " 'ZAR': 17.6518708731,\n",
       " 'CAD': 1.40067865,\n",
       " 'ISK': 143.3418928833,\n",
       " 'BRL': 5.581162876,\n",
       " 'RON': 4.441947909,\n",
       " 'NZD': 1.6388481291,\n",
       " 'TRY': 6.8073184153,\n",
       " 'JPY': 107.5385179751,\n",
       " 'RUB': 71.4544203962,\n",
       " 'KRW': 1241.2967718269,\n",
       " 'USD': 1.0,\n",
       " 'AUD': 1.530997799,\n",
       " 'HUF': 320.432868672,\n",
       " 'SEK': 9.663701394}"
      ]
     },
     "execution_count": 6,
     "metadata": {},
     "output_type": "execute_result"
    }
   ],
   "source": [
    "date_time_obj = datetime(2020, 5, 23, 18, 1, 1, 1)\n",
    "usd_rate_on_date = c.get_rates('USD', date_time_obj)\n",
    "usd_rate_on_date"
   ]
  },
  {
   "cell_type": "markdown",
   "metadata": {},
   "source": [
    "Now, try to use the functions showed prior in order to convert it into a dataframe."
   ]
  },
  {
   "cell_type": "code",
   "execution_count": 7,
   "metadata": {},
   "outputs": [],
   "source": [
    "# Enter your code here\n"
   ]
  },
  {
   "cell_type": "markdown",
   "metadata": {},
   "source": [
    "And in case you wondered how to do so."
   ]
  },
  {
   "cell_type": "code",
   "execution_count": 8,
   "metadata": {
    "scrolled": true
   },
   "outputs": [
    {
     "data": {
      "text/html": [
       "<div>\n",
       "<style scoped>\n",
       "    .dataframe tbody tr th:only-of-type {\n",
       "        vertical-align: middle;\n",
       "    }\n",
       "\n",
       "    .dataframe tbody tr th {\n",
       "        vertical-align: top;\n",
       "    }\n",
       "\n",
       "    .dataframe thead th {\n",
       "        text-align: right;\n",
       "    }\n",
       "</style>\n",
       "<table border=\"1\" class=\"dataframe\">\n",
       "  <thead>\n",
       "    <tr style=\"text-align: right;\">\n",
       "      <th></th>\n",
       "      <th>Currency</th>\n",
       "      <th>Rate</th>\n",
       "    </tr>\n",
       "  </thead>\n",
       "  <tbody>\n",
       "    <tr>\n",
       "      <th>0</th>\n",
       "      <td>GBP</td>\n",
       "      <td>0.821377</td>\n",
       "    </tr>\n",
       "    <tr>\n",
       "      <th>1</th>\n",
       "      <td>HKD</td>\n",
       "      <td>7.755961</td>\n",
       "    </tr>\n",
       "    <tr>\n",
       "      <th>2</th>\n",
       "      <td>IDR</td>\n",
       "      <td>14901.999266</td>\n",
       "    </tr>\n",
       "    <tr>\n",
       "      <th>3</th>\n",
       "      <td>ILS</td>\n",
       "      <td>3.527054</td>\n",
       "    </tr>\n",
       "    <tr>\n",
       "      <th>4</th>\n",
       "      <td>DKK</td>\n",
       "      <td>6.839508</td>\n",
       "    </tr>\n",
       "    <tr>\n",
       "      <th>5</th>\n",
       "      <td>INR</td>\n",
       "      <td>75.868030</td>\n",
       "    </tr>\n",
       "    <tr>\n",
       "      <th>6</th>\n",
       "      <td>CHF</td>\n",
       "      <td>0.971295</td>\n",
       "    </tr>\n",
       "    <tr>\n",
       "      <th>7</th>\n",
       "      <td>MXN</td>\n",
       "      <td>22.968635</td>\n",
       "    </tr>\n",
       "    <tr>\n",
       "      <th>8</th>\n",
       "      <td>CZK</td>\n",
       "      <td>24.954145</td>\n",
       "    </tr>\n",
       "    <tr>\n",
       "      <th>9</th>\n",
       "      <td>SGD</td>\n",
       "      <td>1.423423</td>\n",
       "    </tr>\n",
       "    <tr>\n",
       "      <th>10</th>\n",
       "      <td>THB</td>\n",
       "      <td>31.894718</td>\n",
       "    </tr>\n",
       "    <tr>\n",
       "      <th>11</th>\n",
       "      <td>HRK</td>\n",
       "      <td>6.955704</td>\n",
       "    </tr>\n",
       "    <tr>\n",
       "      <th>12</th>\n",
       "      <td>EUR</td>\n",
       "      <td>0.917095</td>\n",
       "    </tr>\n",
       "    <tr>\n",
       "      <th>13</th>\n",
       "      <td>MYR</td>\n",
       "      <td>4.362528</td>\n",
       "    </tr>\n",
       "    <tr>\n",
       "      <th>14</th>\n",
       "      <td>NOK</td>\n",
       "      <td>10.003485</td>\n",
       "    </tr>\n",
       "    <tr>\n",
       "      <th>15</th>\n",
       "      <td>CNY</td>\n",
       "      <td>7.134721</td>\n",
       "    </tr>\n",
       "    <tr>\n",
       "      <th>16</th>\n",
       "      <td>BGN</td>\n",
       "      <td>1.793654</td>\n",
       "    </tr>\n",
       "    <tr>\n",
       "      <th>17</th>\n",
       "      <td>PHP</td>\n",
       "      <td>50.760271</td>\n",
       "    </tr>\n",
       "    <tr>\n",
       "      <th>18</th>\n",
       "      <td>PLN</td>\n",
       "      <td>4.146093</td>\n",
       "    </tr>\n",
       "    <tr>\n",
       "      <th>19</th>\n",
       "      <td>ZAR</td>\n",
       "      <td>17.651871</td>\n",
       "    </tr>\n",
       "    <tr>\n",
       "      <th>20</th>\n",
       "      <td>CAD</td>\n",
       "      <td>1.400679</td>\n",
       "    </tr>\n",
       "    <tr>\n",
       "      <th>21</th>\n",
       "      <td>ISK</td>\n",
       "      <td>143.341893</td>\n",
       "    </tr>\n",
       "    <tr>\n",
       "      <th>22</th>\n",
       "      <td>BRL</td>\n",
       "      <td>5.581163</td>\n",
       "    </tr>\n",
       "    <tr>\n",
       "      <th>23</th>\n",
       "      <td>RON</td>\n",
       "      <td>4.441948</td>\n",
       "    </tr>\n",
       "    <tr>\n",
       "      <th>24</th>\n",
       "      <td>NZD</td>\n",
       "      <td>1.638848</td>\n",
       "    </tr>\n",
       "    <tr>\n",
       "      <th>25</th>\n",
       "      <td>TRY</td>\n",
       "      <td>6.807318</td>\n",
       "    </tr>\n",
       "    <tr>\n",
       "      <th>26</th>\n",
       "      <td>JPY</td>\n",
       "      <td>107.538518</td>\n",
       "    </tr>\n",
       "    <tr>\n",
       "      <th>27</th>\n",
       "      <td>RUB</td>\n",
       "      <td>71.454420</td>\n",
       "    </tr>\n",
       "    <tr>\n",
       "      <th>28</th>\n",
       "      <td>KRW</td>\n",
       "      <td>1241.296772</td>\n",
       "    </tr>\n",
       "    <tr>\n",
       "      <th>29</th>\n",
       "      <td>USD</td>\n",
       "      <td>1.000000</td>\n",
       "    </tr>\n",
       "    <tr>\n",
       "      <th>30</th>\n",
       "      <td>AUD</td>\n",
       "      <td>1.530998</td>\n",
       "    </tr>\n",
       "    <tr>\n",
       "      <th>31</th>\n",
       "      <td>HUF</td>\n",
       "      <td>320.432869</td>\n",
       "    </tr>\n",
       "    <tr>\n",
       "      <th>32</th>\n",
       "      <td>SEK</td>\n",
       "      <td>9.663701</td>\n",
       "    </tr>\n",
       "  </tbody>\n",
       "</table>\n",
       "</div>"
      ],
      "text/plain": [
       "   Currency          Rate\n",
       "0       GBP      0.821377\n",
       "1       HKD      7.755961\n",
       "2       IDR  14901.999266\n",
       "3       ILS      3.527054\n",
       "4       DKK      6.839508\n",
       "5       INR     75.868030\n",
       "6       CHF      0.971295\n",
       "7       MXN     22.968635\n",
       "8       CZK     24.954145\n",
       "9       SGD      1.423423\n",
       "10      THB     31.894718\n",
       "11      HRK      6.955704\n",
       "12      EUR      0.917095\n",
       "13      MYR      4.362528\n",
       "14      NOK     10.003485\n",
       "15      CNY      7.134721\n",
       "16      BGN      1.793654\n",
       "17      PHP     50.760271\n",
       "18      PLN      4.146093\n",
       "19      ZAR     17.651871\n",
       "20      CAD      1.400679\n",
       "21      ISK    143.341893\n",
       "22      BRL      5.581163\n",
       "23      RON      4.441948\n",
       "24      NZD      1.638848\n",
       "25      TRY      6.807318\n",
       "26      JPY    107.538518\n",
       "27      RUB     71.454420\n",
       "28      KRW   1241.296772\n",
       "29      USD      1.000000\n",
       "30      AUD      1.530998\n",
       "31      HUF    320.432869\n",
       "32      SEK      9.663701"
      ]
     },
     "execution_count": 8,
     "metadata": {},
     "output_type": "execute_result"
    }
   ],
   "source": [
    "usd_rate_on_date = (pd.DataFrame.from_dict(usd_rate_on_date, orient='index')\n",
    "             .reset_index()\n",
    "             .rename(columns={0 : 'Rate', 'index' : 'Currency'}))\n",
    "usd_rate_on_date"
   ]
  },
  {
   "cell_type": "markdown",
   "metadata": {},
   "source": [
    "Now, we will use the same method, but with another parameter, in order to pull the conversion rate, on a specific date."
   ]
  },
  {
   "cell_type": "code",
   "execution_count": 9,
   "metadata": {},
   "outputs": [
    {
     "data": {
      "text/plain": [
       "{'GBP': 0.5938004402,\n",
       " 'HKD': 7.7518708731,\n",
       " 'IDR': 11612.4431401321,\n",
       " 'ILS': 3.486133529,\n",
       " 'DKK': 5.4762289068,\n",
       " 'INR': 58.5085840059,\n",
       " 'CHF': 0.8958180484,\n",
       " 'MXN': 12.8934702861,\n",
       " 'SGD': 1.2526779164,\n",
       " 'CZK': 20.1305942773,\n",
       " 'THB': 32.6001467351,\n",
       " 'HRK': 5.5750550257,\n",
       " 'EUR': 0.7336757153,\n",
       " 'MYR': 3.2100513573,\n",
       " 'NOK': 5.9651504035,\n",
       " 'CNY': 6.2377109318,\n",
       " 'BGN': 1.434922964,\n",
       " 'PLN': 3.0543653705,\n",
       " 'LTL': 2.5332355099,\n",
       " 'ZAR': 10.3557593544,\n",
       " 'CAD': 1.0900953778,\n",
       " 'PHP': 43.7212032282,\n",
       " 'BRL': 2.2178283199,\n",
       " 'RON': 3.2358767425,\n",
       " 'NZD': 1.170726339,\n",
       " 'TRY': 2.0888481291,\n",
       " 'JPY': 101.9222303742,\n",
       " 'RUB': 34.1217168012,\n",
       " 'KRW': 1024.8569332355,\n",
       " 'USD': 1.0,\n",
       " 'AUD': 1.0845194424,\n",
       " 'HUF': 222.6632428467,\n",
       " 'SEK': 6.6471019809}"
      ]
     },
     "execution_count": 9,
     "metadata": {},
     "output_type": "execute_result"
    }
   ],
   "source": [
    "date_obj = datetime(2014, 5, 23, 18, 36, 28, 151012)\n",
    "c.get_rates('USD', date_obj)"
   ]
  },
  {
   "cell_type": "markdown",
   "metadata": {},
   "source": [
    "### Functions as a way to simplify repeated actions"
   ]
  },
  {
   "cell_type": "markdown",
   "metadata": {},
   "source": [
    "And since most of us don't remember or even have the actual time they bought the currency, let's try to simplify it."
   ]
  },
  {
   "cell_type": "markdown",
   "metadata": {},
   "source": [
    "The following conversion of data types will be used in order to convert a date to the full date and time format.<br>\n",
    "The value that we will get in the end, will include the data and a default hour, in our case 00:00:00."
   ]
  },
  {
   "cell_type": "code",
   "execution_count": 10,
   "metadata": {},
   "outputs": [
    {
     "data": {
      "text/plain": [
       "{'GBP': 0.7397898774,\n",
       " 'HKD': 7.8145584925,\n",
       " 'IDR': 13540.4986241974,\n",
       " 'ILS': 3.4716084383,\n",
       " 'DKK': 6.2077044943,\n",
       " 'INR': 63.8751771867,\n",
       " 'CHF': 0.9757358459,\n",
       " 'MXN': 19.7291753523,\n",
       " 'CZK': 21.2915867589,\n",
       " 'SGD': 1.3361127324,\n",
       " 'THB': 32.6198615859,\n",
       " 'HRK': 6.2036187776,\n",
       " 'EUR': 0.8338197282,\n",
       " 'MYR': 4.0470274327,\n",
       " 'NOK': 8.2050362712,\n",
       " 'CNY': 6.5074626866,\n",
       " 'BGN': 1.6307846244,\n",
       " 'PHP': 49.8582506462,\n",
       " 'PLN': 3.4828650046,\n",
       " 'ZAR': 12.3450346035,\n",
       " 'CAD': 1.2539814892,\n",
       " 'BRL': 3.3126823981,\n",
       " 'RON': 3.8843492037,\n",
       " 'NZD': 1.404986242,\n",
       " 'TRY': 3.7908780122,\n",
       " 'JPY': 112.5740015009,\n",
       " 'RUB': 57.8604185775,\n",
       " 'KRW': 1066.9640623697,\n",
       " 'USD': 1.0,\n",
       " 'AUD': 1.2795797549,\n",
       " 'HUF': 258.7592762445,\n",
       " 'SEK': 8.2079546402}"
      ]
     },
     "execution_count": 10,
     "metadata": {},
     "output_type": "execute_result"
    }
   ],
   "source": [
    "date_str = '01-01-2018'\n",
    "date_object = pd.Timestamp(datetime.strptime(date_str, '%d-%m-%Y').date())\n",
    "c.get_rates('USD', date_object)"
   ]
  },
  {
   "cell_type": "markdown",
   "metadata": {},
   "source": [
    "Or, we can conduct it as part of a function, in order to simplify it even more."
   ]
  },
  {
   "cell_type": "code",
   "execution_count": 11,
   "metadata": {},
   "outputs": [
    {
     "ename": "RatesNotAvailableError",
     "evalue": "Currency Rates Source Not Ready",
     "output_type": "error",
     "traceback": [
      "\u001b[0;31m---------------------------------------------------------------------------\u001b[0m",
      "\u001b[0;31mRatesNotAvailableError\u001b[0m                    Traceback (most recent call last)",
      "\u001b[0;32m<ipython-input-11-5489e3943217>\u001b[0m in \u001b[0;36m<module>\u001b[0;34m\u001b[0m\n\u001b[1;32m      8\u001b[0m \u001b[0;34m\u001b[0m\u001b[0m\n\u001b[1;32m      9\u001b[0m \u001b[0mdate_object\u001b[0m \u001b[0;34m=\u001b[0m \u001b[0mdate_convert\u001b[0m\u001b[0;34m(\u001b[0m\u001b[0;34m'13-03-1996'\u001b[0m\u001b[0;34m)\u001b[0m\u001b[0;34m\u001b[0m\u001b[0;34m\u001b[0m\u001b[0m\n\u001b[0;32m---> 10\u001b[0;31m \u001b[0mc\u001b[0m\u001b[0;34m.\u001b[0m\u001b[0mget_rates\u001b[0m\u001b[0;34m(\u001b[0m\u001b[0;34m'USD'\u001b[0m\u001b[0;34m,\u001b[0m \u001b[0mdate_object\u001b[0m\u001b[0;34m)\u001b[0m\u001b[0;34m\u001b[0m\u001b[0;34m\u001b[0m\u001b[0m\n\u001b[0m",
      "\u001b[0;32m~/anaconda3/envs/python3/lib/python3.6/site-packages/forex_python/converter.py\u001b[0m in \u001b[0;36mget_rates\u001b[0;34m(self, base_cur, date_obj)\u001b[0m\n\u001b[1;32m     54\u001b[0m             \u001b[0mrates\u001b[0m \u001b[0;34m=\u001b[0m \u001b[0mself\u001b[0m\u001b[0;34m.\u001b[0m\u001b[0m_decode_rates\u001b[0m\u001b[0;34m(\u001b[0m\u001b[0mresponse\u001b[0m\u001b[0;34m)\u001b[0m\u001b[0;34m\u001b[0m\u001b[0;34m\u001b[0m\u001b[0m\n\u001b[1;32m     55\u001b[0m             \u001b[0;32mreturn\u001b[0m \u001b[0mrates\u001b[0m\u001b[0;34m\u001b[0m\u001b[0;34m\u001b[0m\u001b[0m\n\u001b[0;32m---> 56\u001b[0;31m         \u001b[0;32mraise\u001b[0m \u001b[0mRatesNotAvailableError\u001b[0m\u001b[0;34m(\u001b[0m\u001b[0;34m\"Currency Rates Source Not Ready\"\u001b[0m\u001b[0;34m)\u001b[0m\u001b[0;34m\u001b[0m\u001b[0;34m\u001b[0m\u001b[0m\n\u001b[0m\u001b[1;32m     57\u001b[0m \u001b[0;34m\u001b[0m\u001b[0m\n\u001b[1;32m     58\u001b[0m     \u001b[0;32mdef\u001b[0m \u001b[0mget_rate\u001b[0m\u001b[0;34m(\u001b[0m\u001b[0mself\u001b[0m\u001b[0;34m,\u001b[0m \u001b[0mbase_cur\u001b[0m\u001b[0;34m,\u001b[0m \u001b[0mdest_cur\u001b[0m\u001b[0;34m,\u001b[0m \u001b[0mdate_obj\u001b[0m\u001b[0;34m=\u001b[0m\u001b[0;32mNone\u001b[0m\u001b[0;34m)\u001b[0m\u001b[0;34m:\u001b[0m\u001b[0;34m\u001b[0m\u001b[0;34m\u001b[0m\u001b[0m\n",
      "\u001b[0;31mRatesNotAvailableError\u001b[0m: Currency Rates Source Not Ready"
     ]
    }
   ],
   "source": [
    "def date_convert(date_of_conversion):\n",
    "    if (date_str[2] == '-') and (date_str[5] == '-'):\n",
    "        date_object = pd.Timestamp(datetime.strptime(date_of_conversion, '%d-%m-%Y').date())\n",
    "        return date_object\n",
    "    else:\n",
    "        message = 'Make sure you have entered the date in the right format (dd-mm-yyyy)'\n",
    "        return message\n",
    "\n",
    "date_object = date_convert('13-03-1996')\n",
    "c.get_rates('USD', date_object)"
   ]
  },
  {
   "cell_type": "markdown",
   "metadata": {},
   "source": [
    "Now try it yourself"
   ]
  },
  {
   "cell_type": "code",
   "execution_count": null,
   "metadata": {},
   "outputs": [],
   "source": [
    "date_object = date_convert('Enter your date here')\n",
    "c.get_rates('USD', date_object)"
   ]
  },
  {
   "cell_type": "markdown",
   "metadata": {},
   "source": [
    "Now, let's create a calculator that get's the amount of money we got/payed and in which currency, <br> and returns the values of the transaction, in the type of currency we have converted to.\n"
   ]
  },
  {
   "cell_type": "code",
   "execution_count": null,
   "metadata": {},
   "outputs": [],
   "source": [
    "def deal_convert(date, amount, from_currency, to_currency):\n",
    "    date_object = date_convert(date)\n",
    "    return (c.convert(from_currency, to_currency, amount))\n",
    "\n",
    "deal_convert('01-01-2019', 100, 'USD', 'EUR')"
   ]
  },
  {
   "cell_type": "markdown",
   "metadata": {},
   "source": [
    "Now this data is extremly useful while trying to calculate all sort of financial related data."
   ]
  },
  {
   "cell_type": "markdown",
   "metadata": {},
   "source": [
    "And for cases when the wanted currency is not available through the API, there is always the option of scrapping it.<br>\n",
    "Here is example of scrapping NIS rate to USD from one of the popular financial websites in Israel."
   ]
  },
  {
   "cell_type": "code",
   "execution_count": 12,
   "metadata": {},
   "outputs": [
    {
     "data": {
      "text/plain": [
       "'3.288'"
      ]
     },
     "execution_count": 12,
     "metadata": {},
     "output_type": "execute_result"
    }
   ],
   "source": [
    "df = pd.read_html('https://www.globes.co.il/portal/instrument.aspx?instrumentid=10463')[0]\n",
    "df = df.drop(columns=[0])\n",
    "USD_NIS = df[1][1]\n",
    "USD_NIS"
   ]
  },
  {
   "cell_type": "markdown",
   "metadata": {},
   "source": [
    "In this example we have scrapped the currency rate from a non-API based website for our use.<br>\n",
    "As for this example, this technique is relevent for many optional analysis."
   ]
  },
  {
   "cell_type": "markdown",
   "metadata": {},
   "source": [
    "### Analysis Use-case"
   ]
  },
  {
   "cell_type": "markdown",
   "metadata": {},
   "source": [
    "##### Now, use case to show how useful descion based data regarding currency could be."
   ]
  },
  {
   "cell_type": "markdown",
   "metadata": {},
   "source": [
    "In order to show that, we will scrap a dataframe of the rates of the NIS-USD for the last almost full year."
   ]
  },
  {
   "cell_type": "code",
   "execution_count": 365,
   "metadata": {},
   "outputs": [],
   "source": [
    "df = pd.read_html('https://www.exchange-rates.org/history/ILS/USD/T')[0]"
   ]
  },
  {
   "cell_type": "markdown",
   "metadata": {},
   "source": [
    "Renaming columns in order to ease the analysis."
   ]
  },
  {
   "cell_type": "code",
   "execution_count": 366,
   "metadata": {},
   "outputs": [
    {
     "data": {
      "text/html": [
       "<div>\n",
       "<style scoped>\n",
       "    .dataframe tbody tr th:only-of-type {\n",
       "        vertical-align: middle;\n",
       "    }\n",
       "\n",
       "    .dataframe tbody tr th {\n",
       "        vertical-align: top;\n",
       "    }\n",
       "\n",
       "    .dataframe thead th {\n",
       "        text-align: right;\n",
       "    }\n",
       "</style>\n",
       "<table border=\"1\" class=\"dataframe\">\n",
       "  <thead>\n",
       "    <tr style=\"text-align: right;\">\n",
       "      <th></th>\n",
       "      <th>Date</th>\n",
       "      <th>Day</th>\n",
       "      <th>Rate</th>\n",
       "      <th>Notes</th>\n",
       "    </tr>\n",
       "  </thead>\n",
       "  <tbody>\n",
       "    <tr>\n",
       "      <th>0</th>\n",
       "      <td>2/1/2021</td>\n",
       "      <td>Monday</td>\n",
       "      <td>3.29927 ILS</td>\n",
       "      <td>USD ILS rate for 2/1/2021</td>\n",
       "    </tr>\n",
       "    <tr>\n",
       "      <th>1</th>\n",
       "      <td>1/29/2021</td>\n",
       "      <td>Friday</td>\n",
       "      <td>3.27730 ILS</td>\n",
       "      <td>USD ILS rate for 1/29/2021</td>\n",
       "    </tr>\n",
       "    <tr>\n",
       "      <th>2</th>\n",
       "      <td>1/28/2021</td>\n",
       "      <td>Thursday</td>\n",
       "      <td>3.28339 ILS</td>\n",
       "      <td>USD ILS rate for 1/28/2021</td>\n",
       "    </tr>\n",
       "    <tr>\n",
       "      <th>3</th>\n",
       "      <td>1/27/2021</td>\n",
       "      <td>Wednesday</td>\n",
       "      <td>3.26198 ILS</td>\n",
       "      <td>USD ILS rate for 1/27/2021</td>\n",
       "    </tr>\n",
       "    <tr>\n",
       "      <th>4</th>\n",
       "      <td>1/26/2021</td>\n",
       "      <td>Tuesday</td>\n",
       "      <td>3.26567 ILS</td>\n",
       "      <td>USD ILS rate for 1/26/2021</td>\n",
       "    </tr>\n",
       "    <tr>\n",
       "      <th>...</th>\n",
       "      <td>...</td>\n",
       "      <td>...</td>\n",
       "      <td>...</td>\n",
       "      <td>...</td>\n",
       "    </tr>\n",
       "    <tr>\n",
       "      <th>132</th>\n",
       "      <td>8/10/2020</td>\n",
       "      <td>Monday</td>\n",
       "      <td>3.41772 ILS</td>\n",
       "      <td>USD ILS rate for 8/10/2020</td>\n",
       "    </tr>\n",
       "    <tr>\n",
       "      <th>133</th>\n",
       "      <td>8/9/2020</td>\n",
       "      <td>Sunday</td>\n",
       "      <td>3.41120 ILS</td>\n",
       "      <td>USD ILS rate for 8/9/2020</td>\n",
       "    </tr>\n",
       "    <tr>\n",
       "      <th>134</th>\n",
       "      <td>8/7/2020</td>\n",
       "      <td>Friday</td>\n",
       "      <td>3.41111 ILS</td>\n",
       "      <td>USD ILS rate for 8/7/2020</td>\n",
       "    </tr>\n",
       "    <tr>\n",
       "      <th>135</th>\n",
       "      <td>8/6/2020</td>\n",
       "      <td>Thursday</td>\n",
       "      <td>3.39446 ILS</td>\n",
       "      <td>USD ILS rate for 8/6/2020</td>\n",
       "    </tr>\n",
       "    <tr>\n",
       "      <th>136</th>\n",
       "      <td>8/5/2020</td>\n",
       "      <td>Wednesday</td>\n",
       "      <td>3.40728 ILS</td>\n",
       "      <td>USD ILS rate for 8/5/2020</td>\n",
       "    </tr>\n",
       "  </tbody>\n",
       "</table>\n",
       "<p>137 rows × 4 columns</p>\n",
       "</div>"
      ],
      "text/plain": [
       "          Date        Day         Rate                       Notes\n",
       "0     2/1/2021     Monday  3.29927 ILS   USD ILS rate for 2/1/2021\n",
       "1    1/29/2021     Friday  3.27730 ILS  USD ILS rate for 1/29/2021\n",
       "2    1/28/2021   Thursday  3.28339 ILS  USD ILS rate for 1/28/2021\n",
       "3    1/27/2021  Wednesday  3.26198 ILS  USD ILS rate for 1/27/2021\n",
       "4    1/26/2021    Tuesday  3.26567 ILS  USD ILS rate for 1/26/2021\n",
       "..         ...        ...          ...                         ...\n",
       "132  8/10/2020     Monday  3.41772 ILS  USD ILS rate for 8/10/2020\n",
       "133   8/9/2020     Sunday  3.41120 ILS   USD ILS rate for 8/9/2020\n",
       "134   8/7/2020     Friday  3.41111 ILS   USD ILS rate for 8/7/2020\n",
       "135   8/6/2020   Thursday  3.39446 ILS   USD ILS rate for 8/6/2020\n",
       "136   8/5/2020  Wednesday  3.40728 ILS   USD ILS rate for 8/5/2020\n",
       "\n",
       "[137 rows x 4 columns]"
      ]
     },
     "execution_count": 366,
     "metadata": {},
     "output_type": "execute_result"
    }
   ],
   "source": [
    "df = df.rename(columns = {0 : 'Date', 1: 'Day', 2 : 'Rate', 3 : 'Notes'})\n",
    "df"
   ]
  },
  {
   "cell_type": "markdown",
   "metadata": {},
   "source": [
    "Now let's check in which day of the week, does the rate of the ILS is \"stronger\", in accordance to the USD.<br>\n",
    "This data could be useful in order to maximize the rate when doing currency conversions on a regular basis."
   ]
  },
  {
   "cell_type": "markdown",
   "metadata": {},
   "source": [
    "But first, let's \"clean\" the Rate column using regular expressions."
   ]
  },
  {
   "cell_type": "code",
   "execution_count": 367,
   "metadata": {},
   "outputs": [
    {
     "data": {
      "text/html": [
       "<div>\n",
       "<style scoped>\n",
       "    .dataframe tbody tr th:only-of-type {\n",
       "        vertical-align: middle;\n",
       "    }\n",
       "\n",
       "    .dataframe tbody tr th {\n",
       "        vertical-align: top;\n",
       "    }\n",
       "\n",
       "    .dataframe thead th {\n",
       "        text-align: right;\n",
       "    }\n",
       "</style>\n",
       "<table border=\"1\" class=\"dataframe\">\n",
       "  <thead>\n",
       "    <tr style=\"text-align: right;\">\n",
       "      <th></th>\n",
       "      <th>Date</th>\n",
       "      <th>Day</th>\n",
       "      <th>Rate</th>\n",
       "      <th>Notes</th>\n",
       "    </tr>\n",
       "  </thead>\n",
       "  <tbody>\n",
       "    <tr>\n",
       "      <th>0</th>\n",
       "      <td>2/1/2021</td>\n",
       "      <td>Monday</td>\n",
       "      <td>3.29927</td>\n",
       "      <td>USD ILS rate for 2/1/2021</td>\n",
       "    </tr>\n",
       "    <tr>\n",
       "      <th>1</th>\n",
       "      <td>1/29/2021</td>\n",
       "      <td>Friday</td>\n",
       "      <td>3.27730</td>\n",
       "      <td>USD ILS rate for 1/29/2021</td>\n",
       "    </tr>\n",
       "    <tr>\n",
       "      <th>2</th>\n",
       "      <td>1/28/2021</td>\n",
       "      <td>Thursday</td>\n",
       "      <td>3.28339</td>\n",
       "      <td>USD ILS rate for 1/28/2021</td>\n",
       "    </tr>\n",
       "    <tr>\n",
       "      <th>3</th>\n",
       "      <td>1/27/2021</td>\n",
       "      <td>Wednesday</td>\n",
       "      <td>3.26198</td>\n",
       "      <td>USD ILS rate for 1/27/2021</td>\n",
       "    </tr>\n",
       "    <tr>\n",
       "      <th>4</th>\n",
       "      <td>1/26/2021</td>\n",
       "      <td>Tuesday</td>\n",
       "      <td>3.26567</td>\n",
       "      <td>USD ILS rate for 1/26/2021</td>\n",
       "    </tr>\n",
       "    <tr>\n",
       "      <th>...</th>\n",
       "      <td>...</td>\n",
       "      <td>...</td>\n",
       "      <td>...</td>\n",
       "      <td>...</td>\n",
       "    </tr>\n",
       "    <tr>\n",
       "      <th>132</th>\n",
       "      <td>8/10/2020</td>\n",
       "      <td>Monday</td>\n",
       "      <td>3.41772</td>\n",
       "      <td>USD ILS rate for 8/10/2020</td>\n",
       "    </tr>\n",
       "    <tr>\n",
       "      <th>133</th>\n",
       "      <td>8/9/2020</td>\n",
       "      <td>Sunday</td>\n",
       "      <td>3.41120</td>\n",
       "      <td>USD ILS rate for 8/9/2020</td>\n",
       "    </tr>\n",
       "    <tr>\n",
       "      <th>134</th>\n",
       "      <td>8/7/2020</td>\n",
       "      <td>Friday</td>\n",
       "      <td>3.41111</td>\n",
       "      <td>USD ILS rate for 8/7/2020</td>\n",
       "    </tr>\n",
       "    <tr>\n",
       "      <th>135</th>\n",
       "      <td>8/6/2020</td>\n",
       "      <td>Thursday</td>\n",
       "      <td>3.39446</td>\n",
       "      <td>USD ILS rate for 8/6/2020</td>\n",
       "    </tr>\n",
       "    <tr>\n",
       "      <th>136</th>\n",
       "      <td>8/5/2020</td>\n",
       "      <td>Wednesday</td>\n",
       "      <td>3.40728</td>\n",
       "      <td>USD ILS rate for 8/5/2020</td>\n",
       "    </tr>\n",
       "  </tbody>\n",
       "</table>\n",
       "<p>137 rows × 4 columns</p>\n",
       "</div>"
      ],
      "text/plain": [
       "          Date        Day     Rate                       Notes\n",
       "0     2/1/2021     Monday  3.29927   USD ILS rate for 2/1/2021\n",
       "1    1/29/2021     Friday  3.27730  USD ILS rate for 1/29/2021\n",
       "2    1/28/2021   Thursday  3.28339  USD ILS rate for 1/28/2021\n",
       "3    1/27/2021  Wednesday  3.26198  USD ILS rate for 1/27/2021\n",
       "4    1/26/2021    Tuesday  3.26567  USD ILS rate for 1/26/2021\n",
       "..         ...        ...      ...                         ...\n",
       "132  8/10/2020     Monday  3.41772  USD ILS rate for 8/10/2020\n",
       "133   8/9/2020     Sunday  3.41120   USD ILS rate for 8/9/2020\n",
       "134   8/7/2020     Friday  3.41111   USD ILS rate for 8/7/2020\n",
       "135   8/6/2020   Thursday  3.39446   USD ILS rate for 8/6/2020\n",
       "136   8/5/2020  Wednesday  3.40728   USD ILS rate for 8/5/2020\n",
       "\n",
       "[137 rows x 4 columns]"
      ]
     },
     "execution_count": 367,
     "metadata": {},
     "output_type": "execute_result"
    }
   ],
   "source": [
    "import re\n",
    "df['Rate'] = [''.join(re.findall(\"\\d+\\.\\d+\", item)) for item in df['Rate']]\n",
    "df"
   ]
  },
  {
   "cell_type": "markdown",
   "metadata": {},
   "source": [
    "And also, if you will check it, our Rate data is a string rather then float.<br>\n",
    "So let's also convert it to float."
   ]
  },
  {
   "cell_type": "code",
   "execution_count": 368,
   "metadata": {},
   "outputs": [
    {
     "data": {
      "text/plain": [
       "0      3.29927\n",
       "1      3.27730\n",
       "2      3.28339\n",
       "3      3.26198\n",
       "4      3.26567\n",
       "        ...   \n",
       "132    3.41772\n",
       "133    3.41120\n",
       "134    3.41111\n",
       "135    3.39446\n",
       "136    3.40728\n",
       "Name: Rate, Length: 137, dtype: float64"
      ]
     },
     "execution_count": 368,
     "metadata": {},
     "output_type": "execute_result"
    }
   ],
   "source": [
    "df['Rate'] = df['Rate'].apply(lambda x : float(x))\n",
    "df['Rate']"
   ]
  },
  {
   "cell_type": "markdown",
   "metadata": {},
   "source": [
    "Now let's try to check for the days with the highest average rate of the NIS in comparing to the USD.<br>\n",
    "In order to do so, we will aggregate with Group-by, all of the values by the Day of the week, and check for the average (mean) value for each day.<br>\n",
    "Beside that, let's also orgnaize our data by some order, in order case descending."
   ]
  },
  {
   "cell_type": "code",
   "execution_count": 369,
   "metadata": {},
   "outputs": [
    {
     "data": {
      "text/plain": [
       "Day\n",
       "Sunday       3.410314\n",
       "Friday       3.341304\n",
       "Monday       3.341083\n",
       "Tuesday      3.337737\n",
       "Thursday     3.336425\n",
       "Wednesday    3.336420\n",
       "Name: Rate, dtype: float64"
      ]
     },
     "execution_count": 369,
     "metadata": {},
     "output_type": "execute_result"
    }
   ],
   "source": [
    "df.groupby(['Day'])['Rate'].mean().sort_values(ascending=False)"
   ]
  },
  {
   "cell_type": "markdown",
   "metadata": {},
   "source": [
    "And the result is? Well, Sunday.<br>\n",
    "\n",
    "Our guess is that its related to the fact that Sunday is weekend in the US and therefore, trade volumes are lower.<br> \n",
    "This, we assess, reduces the affect of the general trend."
   ]
  },
  {
   "cell_type": "markdown",
   "metadata": {},
   "source": [
    "Another test, would be to do the same, but with the median value for each week day."
   ]
  },
  {
   "cell_type": "code",
   "execution_count": 370,
   "metadata": {},
   "outputs": [
    {
     "data": {
      "text/plain": [
       "Day\n",
       "Sunday       3.406880\n",
       "Tuesday      3.381130\n",
       "Wednesday    3.374810\n",
       "Thursday     3.369285\n",
       "Friday       3.362920\n",
       "Monday       3.362670\n",
       "Name: Rate, dtype: float64"
      ]
     },
     "execution_count": 370,
     "metadata": {},
     "output_type": "execute_result"
    }
   ],
   "source": [
    "df.groupby(['Day'])['Rate'].median().sort_values(ascending=False)"
   ]
  },
  {
   "cell_type": "markdown",
   "metadata": {},
   "source": [
    "#### Bottom line, if you are converting NIS to USD, try doing it on Sunday. You will probably get the better rate.\n",
    "#### On the other hand, if you are trading USD to NIS, just don't do it on Sunday."
   ]
  },
  {
   "cell_type": "markdown",
   "metadata": {},
   "source": [
    "One more note, did you notice how we used and scrapped many types of websites, side by our API.<br>\n",
    "The reason? None of them was sufficient so we had to dig deeper. and thats OK.<br>\n",
    "So, one last tip from us to you, don't be afraid of looking for your data source."
   ]
  },
  {
   "cell_type": "markdown",
   "metadata": {},
   "source": [
    "### Visualization "
   ]
  },
  {
   "cell_type": "markdown",
   "metadata": {},
   "source": [
    "#### Line Char"
   ]
  },
  {
   "cell_type": "markdown",
   "metadata": {},
   "source": [
    "Now, let's try to better see and and possibly explorate, the results we just recieved."
   ]
  },
  {
   "cell_type": "markdown",
   "metadata": {},
   "source": [
    "First, few actions needs to be done in prior."
   ]
  },
  {
   "cell_type": "code",
   "execution_count": 371,
   "metadata": {},
   "outputs": [],
   "source": [
    "import matplotlib.pyplot as plt"
   ]
  },
  {
   "cell_type": "code",
   "execution_count": 372,
   "metadata": {},
   "outputs": [],
   "source": [
    "df['Date'] = pd.to_datetime(df['Date'])"
   ]
  },
  {
   "cell_type": "code",
   "execution_count": 373,
   "metadata": {},
   "outputs": [],
   "source": [
    "df = df.set_index('Date')"
   ]
  },
  {
   "cell_type": "markdown",
   "metadata": {},
   "source": [
    "Conduction the plot"
   ]
  },
  {
   "cell_type": "code",
   "execution_count": 374,
   "metadata": {},
   "outputs": [
    {
     "data": {
      "text/plain": [
       "<matplotlib.axes._subplots.AxesSubplot at 0x7f88f04632b0>"
      ]
     },
     "execution_count": 374,
     "metadata": {},
     "output_type": "execute_result"
    },
    {
     "data": {
      "image/png": "[encoded data removed]",
      "text/plain": [
       "<Figure size 432x288 with 1 Axes>"
      ]
     },
     "metadata": {
      "needs_background": "light"
     },
     "output_type": "display_data"
    }
   ],
   "source": [
    "df['Rate'].plot()"
   ]
  },
  {
   "cell_type": "markdown",
   "metadata": {},
   "source": [
    "#### Scatter "
   ]
  },
  {
   "cell_type": "markdown",
   "metadata": {},
   "source": [
    "Now let's try something else, to demonstrate the differences between the days."
   ]
  },
  {
   "cell_type": "code",
   "execution_count": 375,
   "metadata": {},
   "outputs": [
    {
     "data": {
      "text/html": [
       "<div>\n",
       "<style scoped>\n",
       "    .dataframe tbody tr th:only-of-type {\n",
       "        vertical-align: middle;\n",
       "    }\n",
       "\n",
       "    .dataframe tbody tr th {\n",
       "        vertical-align: top;\n",
       "    }\n",
       "\n",
       "    .dataframe thead th {\n",
       "        text-align: right;\n",
       "    }\n",
       "</style>\n",
       "<table border=\"1\" class=\"dataframe\">\n",
       "  <thead>\n",
       "    <tr style=\"text-align: right;\">\n",
       "      <th></th>\n",
       "      <th>Date</th>\n",
       "      <th>Day</th>\n",
       "      <th>Rate</th>\n",
       "      <th>Notes</th>\n",
       "    </tr>\n",
       "  </thead>\n",
       "  <tbody>\n",
       "    <tr>\n",
       "      <th>0</th>\n",
       "      <td>2021-02-01</td>\n",
       "      <td>Monday</td>\n",
       "      <td>3.29927</td>\n",
       "      <td>USD ILS rate for 2/1/2021</td>\n",
       "    </tr>\n",
       "    <tr>\n",
       "      <th>1</th>\n",
       "      <td>2021-01-29</td>\n",
       "      <td>Friday</td>\n",
       "      <td>3.27730</td>\n",
       "      <td>USD ILS rate for 1/29/2021</td>\n",
       "    </tr>\n",
       "    <tr>\n",
       "      <th>2</th>\n",
       "      <td>2021-01-28</td>\n",
       "      <td>Thursday</td>\n",
       "      <td>3.28339</td>\n",
       "      <td>USD ILS rate for 1/28/2021</td>\n",
       "    </tr>\n",
       "    <tr>\n",
       "      <th>3</th>\n",
       "      <td>2021-01-27</td>\n",
       "      <td>Wednesday</td>\n",
       "      <td>3.26198</td>\n",
       "      <td>USD ILS rate for 1/27/2021</td>\n",
       "    </tr>\n",
       "    <tr>\n",
       "      <th>4</th>\n",
       "      <td>2021-01-26</td>\n",
       "      <td>Tuesday</td>\n",
       "      <td>3.26567</td>\n",
       "      <td>USD ILS rate for 1/26/2021</td>\n",
       "    </tr>\n",
       "    <tr>\n",
       "      <th>...</th>\n",
       "      <td>...</td>\n",
       "      <td>...</td>\n",
       "      <td>...</td>\n",
       "      <td>...</td>\n",
       "    </tr>\n",
       "    <tr>\n",
       "      <th>132</th>\n",
       "      <td>2020-08-10</td>\n",
       "      <td>Monday</td>\n",
       "      <td>3.41772</td>\n",
       "      <td>USD ILS rate for 8/10/2020</td>\n",
       "    </tr>\n",
       "    <tr>\n",
       "      <th>133</th>\n",
       "      <td>2020-08-09</td>\n",
       "      <td>Sunday</td>\n",
       "      <td>3.41120</td>\n",
       "      <td>USD ILS rate for 8/9/2020</td>\n",
       "    </tr>\n",
       "    <tr>\n",
       "      <th>134</th>\n",
       "      <td>2020-08-07</td>\n",
       "      <td>Friday</td>\n",
       "      <td>3.41111</td>\n",
       "      <td>USD ILS rate for 8/7/2020</td>\n",
       "    </tr>\n",
       "    <tr>\n",
       "      <th>135</th>\n",
       "      <td>2020-08-06</td>\n",
       "      <td>Thursday</td>\n",
       "      <td>3.39446</td>\n",
       "      <td>USD ILS rate for 8/6/2020</td>\n",
       "    </tr>\n",
       "    <tr>\n",
       "      <th>136</th>\n",
       "      <td>2020-08-05</td>\n",
       "      <td>Wednesday</td>\n",
       "      <td>3.40728</td>\n",
       "      <td>USD ILS rate for 8/5/2020</td>\n",
       "    </tr>\n",
       "  </tbody>\n",
       "</table>\n",
       "<p>137 rows × 4 columns</p>\n",
       "</div>"
      ],
      "text/plain": [
       "          Date        Day     Rate                       Notes\n",
       "0   2021-02-01     Monday  3.29927   USD ILS rate for 2/1/2021\n",
       "1   2021-01-29     Friday  3.27730  USD ILS rate for 1/29/2021\n",
       "2   2021-01-28   Thursday  3.28339  USD ILS rate for 1/28/2021\n",
       "3   2021-01-27  Wednesday  3.26198  USD ILS rate for 1/27/2021\n",
       "4   2021-01-26    Tuesday  3.26567  USD ILS rate for 1/26/2021\n",
       "..         ...        ...      ...                         ...\n",
       "132 2020-08-10     Monday  3.41772  USD ILS rate for 8/10/2020\n",
       "133 2020-08-09     Sunday  3.41120   USD ILS rate for 8/9/2020\n",
       "134 2020-08-07     Friday  3.41111   USD ILS rate for 8/7/2020\n",
       "135 2020-08-06   Thursday  3.39446   USD ILS rate for 8/6/2020\n",
       "136 2020-08-05  Wednesday  3.40728   USD ILS rate for 8/5/2020\n",
       "\n",
       "[137 rows x 4 columns]"
      ]
     },
     "execution_count": 375,
     "metadata": {},
     "output_type": "execute_result"
    }
   ],
   "source": [
    "df = df.reset_index()\n",
    "df"
   ]
  },
  {
   "cell_type": "code",
   "execution_count": 376,
   "metadata": {},
   "outputs": [
    {
     "data": {
      "image/png": "[encoded data removed]",
      "text/plain": [
       "<Figure size 432x288 with 1 Axes>"
      ]
     },
     "metadata": {
      "needs_background": "light"
     },
     "output_type": "display_data"
    }
   ],
   "source": [
    "ax1 = df.plot.scatter(x='Day',\n",
    "                      y='Rate',\n",
    "                      c='Red')"
   ]
  },
  {
   "cell_type": "markdown",
   "metadata": {},
   "source": [
    "Something here looks odd. it appears there are less trading 'Sundays', which could be the reason for our former result.<br>\n",
    "Let's check it."
   ]
  },
  {
   "cell_type": "code",
   "execution_count": 377,
   "metadata": {},
   "outputs": [
    {
     "data": {
      "text/plain": [
       "(8, 26, 25)"
      ]
     },
     "execution_count": 377,
     "metadata": {},
     "output_type": "execute_result"
    }
   ],
   "source": [
    "len(df.loc[df['Day'] == 'Sunday']), len(df.loc[df['Day'] == 'Monday']), len(df.loc[df['Day'] == 'Tuesday'])"
   ]
  },
  {
   "cell_type": "markdown",
   "metadata": {},
   "source": [
    "Yep, totally true. therefore, let's check for the all the other days excluding Sunday.<br>\n",
    "Filtering the Dataframe to exclude Sundays."
   ]
  },
  {
   "cell_type": "markdown",
   "metadata": {},
   "source": [
    "And one more data cleaning"
   ]
  },
  {
   "cell_type": "code",
   "execution_count": 378,
   "metadata": {},
   "outputs": [],
   "source": [
    "df = df.loc[df['Day'] != 'Sunday']"
   ]
  },
  {
   "cell_type": "code",
   "execution_count": 379,
   "metadata": {},
   "outputs": [
    {
     "data": {
      "image/png": "[encoded data removed]",
      "text/plain": [
       "<Figure size 432x288 with 1 Axes>"
      ]
     },
     "metadata": {
      "needs_background": "light"
     },
     "output_type": "display_data"
    }
   ],
   "source": [
    "ax1 = df.plot.scatter(x='Day',\n",
    "                      y='Rate',\n",
    "                      c='Green')"
   ]
  },
  {
   "cell_type": "markdown",
   "metadata": {},
   "source": [
    "And based on the most lower points, we can now see that the lowest days occurs in the mid-of-the-week days.<br>"
   ]
  },
  {
   "cell_type": "markdown",
   "metadata": {},
   "source": [
    "#### Groupby"
   ]
  },
  {
   "cell_type": "markdown",
   "metadata": {},
   "source": [
    "Another cool way to possible be able to better identifiy the aforementioned trend, check the max & min weekly rate, and on which day did it happen.<br>\n",
    "First, let's set up our data in a way that will allow us to analyze it."
   ]
  },
  {
   "cell_type": "code",
   "execution_count": 380,
   "metadata": {},
   "outputs": [
    {
     "name": "stderr",
     "output_type": "stream",
     "text": [
      "/home/ec2-user/anaconda3/envs/python3/lib/python3.6/site-packages/ipykernel/__main__.py:1: SettingWithCopyWarning: \n",
      "A value is trying to be set on a copy of a slice from a DataFrame.\n",
      "Try using .loc[row_indexer,col_indexer] = value instead\n",
      "\n",
      "See the caveats in the documentation: https://pandas.pydata.org/pandas-docs/stable/user_guide/indexing.html#returning-a-view-versus-a-copy\n",
      "  if __name__ == '__main__':\n"
     ]
    },
    {
     "data": {
      "text/html": [
       "<div>\n",
       "<style scoped>\n",
       "    .dataframe tbody tr th:only-of-type {\n",
       "        vertical-align: middle;\n",
       "    }\n",
       "\n",
       "    .dataframe tbody tr th {\n",
       "        vertical-align: top;\n",
       "    }\n",
       "\n",
       "    .dataframe thead th {\n",
       "        text-align: right;\n",
       "    }\n",
       "</style>\n",
       "<table border=\"1\" class=\"dataframe\">\n",
       "  <thead>\n",
       "    <tr style=\"text-align: right;\">\n",
       "      <th></th>\n",
       "      <th>Date</th>\n",
       "      <th>Day</th>\n",
       "      <th>Rate</th>\n",
       "      <th>Notes</th>\n",
       "      <th>Week</th>\n",
       "    </tr>\n",
       "  </thead>\n",
       "  <tbody>\n",
       "    <tr>\n",
       "      <th>0</th>\n",
       "      <td>2021-02-01</td>\n",
       "      <td>Monday</td>\n",
       "      <td>3.29927</td>\n",
       "      <td>USD ILS rate for 2/1/2021</td>\n",
       "      <td>5</td>\n",
       "    </tr>\n",
       "    <tr>\n",
       "      <th>1</th>\n",
       "      <td>2021-01-29</td>\n",
       "      <td>Friday</td>\n",
       "      <td>3.27730</td>\n",
       "      <td>USD ILS rate for 1/29/2021</td>\n",
       "      <td>4</td>\n",
       "    </tr>\n",
       "    <tr>\n",
       "      <th>2</th>\n",
       "      <td>2021-01-28</td>\n",
       "      <td>Thursday</td>\n",
       "      <td>3.28339</td>\n",
       "      <td>USD ILS rate for 1/28/2021</td>\n",
       "      <td>4</td>\n",
       "    </tr>\n",
       "    <tr>\n",
       "      <th>3</th>\n",
       "      <td>2021-01-27</td>\n",
       "      <td>Wednesday</td>\n",
       "      <td>3.26198</td>\n",
       "      <td>USD ILS rate for 1/27/2021</td>\n",
       "      <td>4</td>\n",
       "    </tr>\n",
       "    <tr>\n",
       "      <th>4</th>\n",
       "      <td>2021-01-26</td>\n",
       "      <td>Tuesday</td>\n",
       "      <td>3.26567</td>\n",
       "      <td>USD ILS rate for 1/26/2021</td>\n",
       "      <td>4</td>\n",
       "    </tr>\n",
       "    <tr>\n",
       "      <th>...</th>\n",
       "      <td>...</td>\n",
       "      <td>...</td>\n",
       "      <td>...</td>\n",
       "      <td>...</td>\n",
       "      <td>...</td>\n",
       "    </tr>\n",
       "    <tr>\n",
       "      <th>131</th>\n",
       "      <td>2020-08-11</td>\n",
       "      <td>Tuesday</td>\n",
       "      <td>3.41368</td>\n",
       "      <td>USD ILS rate for 8/11/2020</td>\n",
       "      <td>33</td>\n",
       "    </tr>\n",
       "    <tr>\n",
       "      <th>132</th>\n",
       "      <td>2020-08-10</td>\n",
       "      <td>Monday</td>\n",
       "      <td>3.41772</td>\n",
       "      <td>USD ILS rate for 8/10/2020</td>\n",
       "      <td>33</td>\n",
       "    </tr>\n",
       "    <tr>\n",
       "      <th>134</th>\n",
       "      <td>2020-08-07</td>\n",
       "      <td>Friday</td>\n",
       "      <td>3.41111</td>\n",
       "      <td>USD ILS rate for 8/7/2020</td>\n",
       "      <td>32</td>\n",
       "    </tr>\n",
       "    <tr>\n",
       "      <th>135</th>\n",
       "      <td>2020-08-06</td>\n",
       "      <td>Thursday</td>\n",
       "      <td>3.39446</td>\n",
       "      <td>USD ILS rate for 8/6/2020</td>\n",
       "      <td>32</td>\n",
       "    </tr>\n",
       "    <tr>\n",
       "      <th>136</th>\n",
       "      <td>2020-08-05</td>\n",
       "      <td>Wednesday</td>\n",
       "      <td>3.40728</td>\n",
       "      <td>USD ILS rate for 8/5/2020</td>\n",
       "      <td>32</td>\n",
       "    </tr>\n",
       "  </tbody>\n",
       "</table>\n",
       "<p>129 rows × 5 columns</p>\n",
       "</div>"
      ],
      "text/plain": [
       "          Date        Day     Rate                       Notes  Week\n",
       "0   2021-02-01     Monday  3.29927   USD ILS rate for 2/1/2021     5\n",
       "1   2021-01-29     Friday  3.27730  USD ILS rate for 1/29/2021     4\n",
       "2   2021-01-28   Thursday  3.28339  USD ILS rate for 1/28/2021     4\n",
       "3   2021-01-27  Wednesday  3.26198  USD ILS rate for 1/27/2021     4\n",
       "4   2021-01-26    Tuesday  3.26567  USD ILS rate for 1/26/2021     4\n",
       "..         ...        ...      ...                         ...   ...\n",
       "131 2020-08-11    Tuesday  3.41368  USD ILS rate for 8/11/2020    33\n",
       "132 2020-08-10     Monday  3.41772  USD ILS rate for 8/10/2020    33\n",
       "134 2020-08-07     Friday  3.41111   USD ILS rate for 8/7/2020    32\n",
       "135 2020-08-06   Thursday  3.39446   USD ILS rate for 8/6/2020    32\n",
       "136 2020-08-05  Wednesday  3.40728   USD ILS rate for 8/5/2020    32\n",
       "\n",
       "[129 rows x 5 columns]"
      ]
     },
     "execution_count": 380,
     "metadata": {},
     "output_type": "execute_result"
    }
   ],
   "source": [
    "df['Week'] = df['Date'].apply(lambda x : x.week)\n",
    "df"
   ]
  },
  {
   "cell_type": "markdown",
   "metadata": {},
   "source": [
    "And by a grouped table, which will show the day of each week which the highest, and later the lowest rate occured on."
   ]
  },
  {
   "cell_type": "code",
   "execution_count": 415,
   "metadata": {},
   "outputs": [
    {
     "name": "stderr",
     "output_type": "stream",
     "text": [
      "/home/ec2-user/anaconda3/envs/python3/lib/python3.6/site-packages/ipykernel/__main__.py:4: FutureWarning: Indexing with multiple keys (implicitly converted to a tuple of keys) will be deprecated, use a list instead.\n"
     ]
    },
    {
     "data": {
      "text/html": [
       "<style  type=\"text/css\" >\n",
       "    #T_44ab74e6_6571_11eb_8437_f7c881e899a7row0_col1 {\n",
       "            background-color:  #008066;\n",
       "            color:  #f1f1f1;\n",
       "        }    #T_44ab74e6_6571_11eb_8437_f7c881e899a7row1_col1 {\n",
       "            background-color:  #399c66;\n",
       "            color:  #000000;\n",
       "        }    #T_44ab74e6_6571_11eb_8437_f7c881e899a7row2_col1 {\n",
       "            background-color:  #399c66;\n",
       "            color:  #000000;\n",
       "        }    #T_44ab74e6_6571_11eb_8437_f7c881e899a7row3_col1 {\n",
       "            background-color:  #43a166;\n",
       "            color:  #000000;\n",
       "        }    #T_44ab74e6_6571_11eb_8437_f7c881e899a7row4_col1 {\n",
       "            background-color:  #52a866;\n",
       "            color:  #000000;\n",
       "        }    #T_44ab74e6_6571_11eb_8437_f7c881e899a7row5_col1 {\n",
       "            background-color:  #c0e066;\n",
       "            color:  #000000;\n",
       "        }    #T_44ab74e6_6571_11eb_8437_f7c881e899a7row6_col1 {\n",
       "            background-color:  #c6e266;\n",
       "            color:  #000000;\n",
       "        }    #T_44ab74e6_6571_11eb_8437_f7c881e899a7row7_col1 {\n",
       "            background-color:  #c6e266;\n",
       "            color:  #000000;\n",
       "        }    #T_44ab74e6_6571_11eb_8437_f7c881e899a7row8_col1 {\n",
       "            background-color:  #bcde66;\n",
       "            color:  #000000;\n",
       "        }    #T_44ab74e6_6571_11eb_8437_f7c881e899a7row9_col1 {\n",
       "            background-color:  #95ca66;\n",
       "            color:  #000000;\n",
       "        }    #T_44ab74e6_6571_11eb_8437_f7c881e899a7row10_col1 {\n",
       "            background-color:  #eaf466;\n",
       "            color:  #000000;\n",
       "        }    #T_44ab74e6_6571_11eb_8437_f7c881e899a7row11_col1 {\n",
       "            background-color:  #d6eb66;\n",
       "            color:  #000000;\n",
       "        }    #T_44ab74e6_6571_11eb_8437_f7c881e899a7row12_col1 {\n",
       "            background-color:  #ffff66;\n",
       "            color:  #000000;\n",
       "        }    #T_44ab74e6_6571_11eb_8437_f7c881e899a7row13_col1 {\n",
       "            background-color:  #ecf666;\n",
       "            color:  #000000;\n",
       "        }    #T_44ab74e6_6571_11eb_8437_f7c881e899a7row14_col1 {\n",
       "            background-color:  #cbe566;\n",
       "            color:  #000000;\n",
       "        }    #T_44ab74e6_6571_11eb_8437_f7c881e899a7row15_col1 {\n",
       "            background-color:  #abd566;\n",
       "            color:  #000000;\n",
       "        }    #T_44ab74e6_6571_11eb_8437_f7c881e899a7row16_col1 {\n",
       "            background-color:  #abd566;\n",
       "            color:  #000000;\n",
       "        }    #T_44ab74e6_6571_11eb_8437_f7c881e899a7row17_col1 {\n",
       "            background-color:  #c6e266;\n",
       "            color:  #000000;\n",
       "        }    #T_44ab74e6_6571_11eb_8437_f7c881e899a7row18_col1 {\n",
       "            background-color:  #c0e066;\n",
       "            color:  #000000;\n",
       "        }    #T_44ab74e6_6571_11eb_8437_f7c881e899a7row19_col1 {\n",
       "            background-color:  #a3d166;\n",
       "            color:  #000000;\n",
       "        }    #T_44ab74e6_6571_11eb_8437_f7c881e899a7row20_col1 {\n",
       "            background-color:  #93c966;\n",
       "            color:  #000000;\n",
       "        }    #T_44ab74e6_6571_11eb_8437_f7c881e899a7row21_col1 {\n",
       "            background-color:  #80c066;\n",
       "            color:  #000000;\n",
       "        }    #T_44ab74e6_6571_11eb_8437_f7c881e899a7row22_col1 {\n",
       "            background-color:  #61b066;\n",
       "            color:  #000000;\n",
       "        }    #T_44ab74e6_6571_11eb_8437_f7c881e899a7row23_col1 {\n",
       "            background-color:  #2d9666;\n",
       "            color:  #000000;\n",
       "        }    #T_44ab74e6_6571_11eb_8437_f7c881e899a7row24_col1 {\n",
       "            background-color:  #279366;\n",
       "            color:  #000000;\n",
       "        }    #T_44ab74e6_6571_11eb_8437_f7c881e899a7row25_col1 {\n",
       "            background-color:  #1d8e66;\n",
       "            color:  #000000;\n",
       "        }    #T_44ab74e6_6571_11eb_8437_f7c881e899a7row26_col1 {\n",
       "            background-color:  #168a66;\n",
       "            color:  #000000;\n",
       "        }</style><table id=\"T_44ab74e6_6571_11eb_8437_f7c881e899a7\" ><thead>    <tr>        <th class=\"blank level0\" ></th>        <th class=\"col_heading level0 col0\" >Day</th>        <th class=\"col_heading level0 col1\" >Rate</th>    </tr>    <tr>        <th class=\"index_name level0\" >Week</th>        <th class=\"blank\" ></th>        <th class=\"blank\" ></th>    </tr></thead><tbody>\n",
       "                <tr>\n",
       "                        <th id=\"T_44ab74e6_6571_11eb_8437_f7c881e899a7level0_row0\" class=\"row_heading level0 row0\" >1</th>\n",
       "                        <td id=\"T_44ab74e6_6571_11eb_8437_f7c881e899a7row0_col0\" class=\"data row0 col0\" >Wednesday</td>\n",
       "                        <td id=\"T_44ab74e6_6571_11eb_8437_f7c881e899a7row0_col1\" class=\"data row0 col1\" >3.214590</td>\n",
       "            </tr>\n",
       "            <tr>\n",
       "                        <th id=\"T_44ab74e6_6571_11eb_8437_f7c881e899a7level0_row1\" class=\"row_heading level0 row1\" >2</th>\n",
       "                        <td id=\"T_44ab74e6_6571_11eb_8437_f7c881e899a7row1_col0\" class=\"data row1 col0\" >Wednesday</td>\n",
       "                        <td id=\"T_44ab74e6_6571_11eb_8437_f7c881e899a7row1_col1\" class=\"data row1 col1\" >3.273360</td>\n",
       "            </tr>\n",
       "            <tr>\n",
       "                        <th id=\"T_44ab74e6_6571_11eb_8437_f7c881e899a7level0_row2\" class=\"row_heading level0 row2\" >3</th>\n",
       "                        <td id=\"T_44ab74e6_6571_11eb_8437_f7c881e899a7row2_col0\" class=\"data row2 col0\" >Wednesday</td>\n",
       "                        <td id=\"T_44ab74e6_6571_11eb_8437_f7c881e899a7row2_col1\" class=\"data row2 col1\" >3.272890</td>\n",
       "            </tr>\n",
       "            <tr>\n",
       "                        <th id=\"T_44ab74e6_6571_11eb_8437_f7c881e899a7level0_row3\" class=\"row_heading level0 row3\" >4</th>\n",
       "                        <td id=\"T_44ab74e6_6571_11eb_8437_f7c881e899a7row3_col0\" class=\"data row3 col0\" >Wednesday</td>\n",
       "                        <td id=\"T_44ab74e6_6571_11eb_8437_f7c881e899a7row3_col1\" class=\"data row3 col1\" >3.283390</td>\n",
       "            </tr>\n",
       "            <tr>\n",
       "                        <th id=\"T_44ab74e6_6571_11eb_8437_f7c881e899a7level0_row4\" class=\"row_heading level0 row4\" >5</th>\n",
       "                        <td id=\"T_44ab74e6_6571_11eb_8437_f7c881e899a7row4_col0\" class=\"data row4 col0\" >Monday</td>\n",
       "                        <td id=\"T_44ab74e6_6571_11eb_8437_f7c881e899a7row4_col1\" class=\"data row4 col1\" >3.299270</td>\n",
       "            </tr>\n",
       "            <tr>\n",
       "                        <th id=\"T_44ab74e6_6571_11eb_8437_f7c881e899a7level0_row5\" class=\"row_heading level0 row5\" >32</th>\n",
       "                        <td id=\"T_44ab74e6_6571_11eb_8437_f7c881e899a7row5_col0\" class=\"data row5 col0\" >Wednesday</td>\n",
       "                        <td id=\"T_44ab74e6_6571_11eb_8437_f7c881e899a7row5_col1\" class=\"data row5 col1\" >3.411110</td>\n",
       "            </tr>\n",
       "            <tr>\n",
       "                        <th id=\"T_44ab74e6_6571_11eb_8437_f7c881e899a7level0_row6\" class=\"row_heading level0 row6\" >33</th>\n",
       "                        <td id=\"T_44ab74e6_6571_11eb_8437_f7c881e899a7row6_col0\" class=\"data row6 col0\" >Wednesday</td>\n",
       "                        <td id=\"T_44ab74e6_6571_11eb_8437_f7c881e899a7row6_col1\" class=\"data row6 col1\" >3.417720</td>\n",
       "            </tr>\n",
       "            <tr>\n",
       "                        <th id=\"T_44ab74e6_6571_11eb_8437_f7c881e899a7level0_row7\" class=\"row_heading level0 row7\" >34</th>\n",
       "                        <td id=\"T_44ab74e6_6571_11eb_8437_f7c881e899a7row7_col0\" class=\"data row7 col0\" >Wednesday</td>\n",
       "                        <td id=\"T_44ab74e6_6571_11eb_8437_f7c881e899a7row7_col1\" class=\"data row7 col1\" >3.417870</td>\n",
       "            </tr>\n",
       "            <tr>\n",
       "                        <th id=\"T_44ab74e6_6571_11eb_8437_f7c881e899a7level0_row8\" class=\"row_heading level0 row8\" >35</th>\n",
       "                        <td id=\"T_44ab74e6_6571_11eb_8437_f7c881e899a7row8_col0\" class=\"data row8 col0\" >Wednesday</td>\n",
       "                        <td id=\"T_44ab74e6_6571_11eb_8437_f7c881e899a7row8_col1\" class=\"data row8 col1\" >3.406910</td>\n",
       "            </tr>\n",
       "            <tr>\n",
       "                        <th id=\"T_44ab74e6_6571_11eb_8437_f7c881e899a7level0_row9\" class=\"row_heading level0 row9\" >36</th>\n",
       "                        <td id=\"T_44ab74e6_6571_11eb_8437_f7c881e899a7row9_col0\" class=\"data row9 col0\" >Wednesday</td>\n",
       "                        <td id=\"T_44ab74e6_6571_11eb_8437_f7c881e899a7row9_col1\" class=\"data row9 col1\" >3.367810</td>\n",
       "            </tr>\n",
       "            <tr>\n",
       "                        <th id=\"T_44ab74e6_6571_11eb_8437_f7c881e899a7level0_row10\" class=\"row_heading level0 row10\" >37</th>\n",
       "                        <td id=\"T_44ab74e6_6571_11eb_8437_f7c881e899a7row10_col0\" class=\"data row10 col0\" >Wednesday</td>\n",
       "                        <td id=\"T_44ab74e6_6571_11eb_8437_f7c881e899a7row10_col1\" class=\"data row10 col1\" >3.454420</td>\n",
       "            </tr>\n",
       "            <tr>\n",
       "                        <th id=\"T_44ab74e6_6571_11eb_8437_f7c881e899a7level0_row11\" class=\"row_heading level0 row11\" >38</th>\n",
       "                        <td id=\"T_44ab74e6_6571_11eb_8437_f7c881e899a7row11_col0\" class=\"data row11 col0\" >Wednesday</td>\n",
       "                        <td id=\"T_44ab74e6_6571_11eb_8437_f7c881e899a7row11_col1\" class=\"data row11 col1\" >3.433940</td>\n",
       "            </tr>\n",
       "            <tr>\n",
       "                        <th id=\"T_44ab74e6_6571_11eb_8437_f7c881e899a7level0_row12\" class=\"row_heading level0 row12\" >39</th>\n",
       "                        <td id=\"T_44ab74e6_6571_11eb_8437_f7c881e899a7row12_col0\" class=\"data row12 col0\" >Wednesday</td>\n",
       "                        <td id=\"T_44ab74e6_6571_11eb_8437_f7c881e899a7row12_col1\" class=\"data row12 col1\" >3.476130</td>\n",
       "            </tr>\n",
       "            <tr>\n",
       "                        <th id=\"T_44ab74e6_6571_11eb_8437_f7c881e899a7level0_row13\" class=\"row_heading level0 row13\" >40</th>\n",
       "                        <td id=\"T_44ab74e6_6571_11eb_8437_f7c881e899a7row13_col0\" class=\"data row13 col0\" >Wednesday</td>\n",
       "                        <td id=\"T_44ab74e6_6571_11eb_8437_f7c881e899a7row13_col1\" class=\"data row13 col1\" >3.456290</td>\n",
       "            </tr>\n",
       "            <tr>\n",
       "                        <th id=\"T_44ab74e6_6571_11eb_8437_f7c881e899a7level0_row14\" class=\"row_heading level0 row14\" >41</th>\n",
       "                        <td id=\"T_44ab74e6_6571_11eb_8437_f7c881e899a7row14_col0\" class=\"data row14 col0\" >Wednesday</td>\n",
       "                        <td id=\"T_44ab74e6_6571_11eb_8437_f7c881e899a7row14_col1\" class=\"data row14 col1\" >3.422490</td>\n",
       "            </tr>\n",
       "            <tr>\n",
       "                        <th id=\"T_44ab74e6_6571_11eb_8437_f7c881e899a7level0_row15\" class=\"row_heading level0 row15\" >42</th>\n",
       "                        <td id=\"T_44ab74e6_6571_11eb_8437_f7c881e899a7row15_col0\" class=\"data row15 col0\" >Wednesday</td>\n",
       "                        <td id=\"T_44ab74e6_6571_11eb_8437_f7c881e899a7row15_col1\" class=\"data row15 col1\" >3.389590</td>\n",
       "            </tr>\n",
       "            <tr>\n",
       "                        <th id=\"T_44ab74e6_6571_11eb_8437_f7c881e899a7level0_row16\" class=\"row_heading level0 row16\" >43</th>\n",
       "                        <td id=\"T_44ab74e6_6571_11eb_8437_f7c881e899a7row16_col0\" class=\"data row16 col0\" >Wednesday</td>\n",
       "                        <td id=\"T_44ab74e6_6571_11eb_8437_f7c881e899a7row16_col1\" class=\"data row16 col1\" >3.389790</td>\n",
       "            </tr>\n",
       "            <tr>\n",
       "                        <th id=\"T_44ab74e6_6571_11eb_8437_f7c881e899a7level0_row17\" class=\"row_heading level0 row17\" >44</th>\n",
       "                        <td id=\"T_44ab74e6_6571_11eb_8437_f7c881e899a7row17_col0\" class=\"data row17 col0\" >Wednesday</td>\n",
       "                        <td id=\"T_44ab74e6_6571_11eb_8437_f7c881e899a7row17_col1\" class=\"data row17 col1\" >3.417380</td>\n",
       "            </tr>\n",
       "            <tr>\n",
       "                        <th id=\"T_44ab74e6_6571_11eb_8437_f7c881e899a7level0_row18\" class=\"row_heading level0 row18\" >45</th>\n",
       "                        <td id=\"T_44ab74e6_6571_11eb_8437_f7c881e899a7row18_col0\" class=\"data row18 col0\" >Wednesday</td>\n",
       "                        <td id=\"T_44ab74e6_6571_11eb_8437_f7c881e899a7row18_col1\" class=\"data row18 col1\" >3.411570</td>\n",
       "            </tr>\n",
       "            <tr>\n",
       "                        <th id=\"T_44ab74e6_6571_11eb_8437_f7c881e899a7level0_row19\" class=\"row_heading level0 row19\" >46</th>\n",
       "                        <td id=\"T_44ab74e6_6571_11eb_8437_f7c881e899a7row19_col0\" class=\"data row19 col0\" >Wednesday</td>\n",
       "                        <td id=\"T_44ab74e6_6571_11eb_8437_f7c881e899a7row19_col1\" class=\"data row19 col1\" >3.381830</td>\n",
       "            </tr>\n",
       "            <tr>\n",
       "                        <th id=\"T_44ab74e6_6571_11eb_8437_f7c881e899a7level0_row20\" class=\"row_heading level0 row20\" >47</th>\n",
       "                        <td id=\"T_44ab74e6_6571_11eb_8437_f7c881e899a7row20_col0\" class=\"data row20 col0\" >Wednesday</td>\n",
       "                        <td id=\"T_44ab74e6_6571_11eb_8437_f7c881e899a7row20_col1\" class=\"data row20 col1\" >3.364970</td>\n",
       "            </tr>\n",
       "            <tr>\n",
       "                        <th id=\"T_44ab74e6_6571_11eb_8437_f7c881e899a7level0_row21\" class=\"row_heading level0 row21\" >48</th>\n",
       "                        <td id=\"T_44ab74e6_6571_11eb_8437_f7c881e899a7row21_col0\" class=\"data row21 col0\" >Wednesday</td>\n",
       "                        <td id=\"T_44ab74e6_6571_11eb_8437_f7c881e899a7row21_col1\" class=\"data row21 col1\" >3.345720</td>\n",
       "            </tr>\n",
       "            <tr>\n",
       "                        <th id=\"T_44ab74e6_6571_11eb_8437_f7c881e899a7level0_row22\" class=\"row_heading level0 row22\" >49</th>\n",
       "                        <td id=\"T_44ab74e6_6571_11eb_8437_f7c881e899a7row22_col0\" class=\"data row22 col0\" >Wednesday</td>\n",
       "                        <td id=\"T_44ab74e6_6571_11eb_8437_f7c881e899a7row22_col1\" class=\"data row22 col1\" >3.314280</td>\n",
       "            </tr>\n",
       "            <tr>\n",
       "                        <th id=\"T_44ab74e6_6571_11eb_8437_f7c881e899a7level0_row23\" class=\"row_heading level0 row23\" >50</th>\n",
       "                        <td id=\"T_44ab74e6_6571_11eb_8437_f7c881e899a7row23_col0\" class=\"data row23 col0\" >Wednesday</td>\n",
       "                        <td id=\"T_44ab74e6_6571_11eb_8437_f7c881e899a7row23_col1\" class=\"data row23 col1\" >3.261470</td>\n",
       "            </tr>\n",
       "            <tr>\n",
       "                        <th id=\"T_44ab74e6_6571_11eb_8437_f7c881e899a7level0_row24\" class=\"row_heading level0 row24\" >51</th>\n",
       "                        <td id=\"T_44ab74e6_6571_11eb_8437_f7c881e899a7row24_col0\" class=\"data row24 col0\" >Wednesday</td>\n",
       "                        <td id=\"T_44ab74e6_6571_11eb_8437_f7c881e899a7row24_col1\" class=\"data row24 col1\" >3.255380</td>\n",
       "            </tr>\n",
       "            <tr>\n",
       "                        <th id=\"T_44ab74e6_6571_11eb_8437_f7c881e899a7level0_row25\" class=\"row_heading level0 row25\" >52</th>\n",
       "                        <td id=\"T_44ab74e6_6571_11eb_8437_f7c881e899a7row25_col0\" class=\"data row25 col0\" >Wednesday</td>\n",
       "                        <td id=\"T_44ab74e6_6571_11eb_8437_f7c881e899a7row25_col1\" class=\"data row25 col1\" >3.244400</td>\n",
       "            </tr>\n",
       "            <tr>\n",
       "                        <th id=\"T_44ab74e6_6571_11eb_8437_f7c881e899a7level0_row26\" class=\"row_heading level0 row26\" >53</th>\n",
       "                        <td id=\"T_44ab74e6_6571_11eb_8437_f7c881e899a7row26_col0\" class=\"data row26 col0\" >Wednesday</td>\n",
       "                        <td id=\"T_44ab74e6_6571_11eb_8437_f7c881e899a7row26_col1\" class=\"data row26 col1\" >3.237460</td>\n",
       "            </tr>\n",
       "    </tbody></table>"
      ],
      "text/plain": [
       "<pandas.io.formats.style.Styler at 0x7f88e07c93c8>"
      ]
     },
     "execution_count": 415,
     "metadata": {},
     "output_type": "execute_result"
    }
   ],
   "source": [
    "import matplotlib\n",
    "cmap_reversed = matplotlib.cm.get_cmap('summer')\n",
    "\n",
    "(df.groupby(['Week'])['Day', 'Rate'].max()\n",
    "     .style\n",
    "     .background_gradient(cmap=cmap_reversed, subset=['Rate']))"
   ]
  },
  {
   "cell_type": "code",
   "execution_count": 414,
   "metadata": {},
   "outputs": [
    {
     "name": "stderr",
     "output_type": "stream",
     "text": [
      "/home/ec2-user/anaconda3/envs/python3/lib/python3.6/site-packages/ipykernel/__main__.py:1: FutureWarning: Indexing with multiple keys (implicitly converted to a tuple of keys) will be deprecated, use a list instead.\n",
      "  if __name__ == '__main__':\n"
     ]
    },
    {
     "data": {
      "text/html": [
       "<style  type=\"text/css\" >\n",
       "    #T_3e810342_6571_11eb_8437_f7c881e899a7row0_col1 {\n",
       "            background-color:  #249266;\n",
       "            color:  #000000;\n",
       "        }    #T_3e810342_6571_11eb_8437_f7c881e899a7row1_col1 {\n",
       "            background-color:  #008066;\n",
       "            color:  #f1f1f1;\n",
       "        }    #T_3e810342_6571_11eb_8437_f7c881e899a7row2_col1 {\n",
       "            background-color:  #55aa66;\n",
       "            color:  #000000;\n",
       "        }    #T_3e810342_6571_11eb_8437_f7c881e899a7row3_col1 {\n",
       "            background-color:  #6eb666;\n",
       "            color:  #000000;\n",
       "        }    #T_3e810342_6571_11eb_8437_f7c881e899a7row4_col1 {\n",
       "            background-color:  #8ec666;\n",
       "            color:  #000000;\n",
       "        }    #T_3e810342_6571_11eb_8437_f7c881e899a7row5_col1 {\n",
       "            background-color:  #deee66;\n",
       "            color:  #000000;\n",
       "        }    #T_3e810342_6571_11eb_8437_f7c881e899a7row6_col1 {\n",
       "            background-color:  #e5f266;\n",
       "            color:  #000000;\n",
       "        }    #T_3e810342_6571_11eb_8437_f7c881e899a7row7_col1 {\n",
       "            background-color:  #dfef66;\n",
       "            color:  #000000;\n",
       "        }    #T_3e810342_6571_11eb_8437_f7c881e899a7row8_col1 {\n",
       "            background-color:  #c2e066;\n",
       "            color:  #000000;\n",
       "        }    #T_3e810342_6571_11eb_8437_f7c881e899a7row9_col1 {\n",
       "            background-color:  #c0e066;\n",
       "            color:  #000000;\n",
       "        }    #T_3e810342_6571_11eb_8437_f7c881e899a7row10_col1 {\n",
       "            background-color:  #d4ea66;\n",
       "            color:  #000000;\n",
       "        }    #T_3e810342_6571_11eb_8437_f7c881e899a7row11_col1 {\n",
       "            background-color:  #f1f866;\n",
       "            color:  #000000;\n",
       "        }    #T_3e810342_6571_11eb_8437_f7c881e899a7row12_col1 {\n",
       "            background-color:  #ffff66;\n",
       "            color:  #000000;\n",
       "        }    #T_3e810342_6571_11eb_8437_f7c881e899a7row13_col1 {\n",
       "            background-color:  #f5fa66;\n",
       "            color:  #000000;\n",
       "        }    #T_3e810342_6571_11eb_8437_f7c881e899a7row14_col1 {\n",
       "            background-color:  #cde666;\n",
       "            color:  #000000;\n",
       "        }    #T_3e810342_6571_11eb_8437_f7c881e899a7row15_col1 {\n",
       "            background-color:  #d1e866;\n",
       "            color:  #000000;\n",
       "        }    #T_3e810342_6571_11eb_8437_f7c881e899a7row16_col1 {\n",
       "            background-color:  #cbe566;\n",
       "            color:  #000000;\n",
       "        }    #T_3e810342_6571_11eb_8437_f7c881e899a7row17_col1 {\n",
       "            background-color:  #ddee66;\n",
       "            color:  #000000;\n",
       "        }    #T_3e810342_6571_11eb_8437_f7c881e899a7row18_col1 {\n",
       "            background-color:  #cce666;\n",
       "            color:  #000000;\n",
       "        }    #T_3e810342_6571_11eb_8437_f7c881e899a7row19_col1 {\n",
       "            background-color:  #c5e266;\n",
       "            color:  #000000;\n",
       "        }    #T_3e810342_6571_11eb_8437_f7c881e899a7row20_col1 {\n",
       "            background-color:  #aed666;\n",
       "            color:  #000000;\n",
       "        }    #T_3e810342_6571_11eb_8437_f7c881e899a7row21_col1 {\n",
       "            background-color:  #98cc66;\n",
       "            color:  #000000;\n",
       "        }    #T_3e810342_6571_11eb_8437_f7c881e899a7row22_col1 {\n",
       "            background-color:  #76bb66;\n",
       "            color:  #000000;\n",
       "        }    #T_3e810342_6571_11eb_8437_f7c881e899a7row23_col1 {\n",
       "            background-color:  #63b166;\n",
       "            color:  #000000;\n",
       "        }    #T_3e810342_6571_11eb_8437_f7c881e899a7row24_col1 {\n",
       "            background-color:  #56ab66;\n",
       "            color:  #000000;\n",
       "        }    #T_3e810342_6571_11eb_8437_f7c881e899a7row25_col1 {\n",
       "            background-color:  #45a266;\n",
       "            color:  #000000;\n",
       "        }    #T_3e810342_6571_11eb_8437_f7c881e899a7row26_col1 {\n",
       "            background-color:  #47a366;\n",
       "            color:  #000000;\n",
       "        }</style><table id=\"T_3e810342_6571_11eb_8437_f7c881e899a7\" ><thead>    <tr>        <th class=\"blank level0\" ></th>        <th class=\"col_heading level0 col0\" >Day</th>        <th class=\"col_heading level0 col1\" >Rate</th>    </tr>    <tr>        <th class=\"index_name level0\" >Week</th>        <th class=\"blank\" ></th>        <th class=\"blank\" ></th>    </tr></thead><tbody>\n",
       "                <tr>\n",
       "                        <th id=\"T_3e810342_6571_11eb_8437_f7c881e899a7level0_row0\" class=\"row_heading level0 row0\" >1</th>\n",
       "                        <td id=\"T_3e810342_6571_11eb_8437_f7c881e899a7row0_col0\" class=\"data row0 col0\" >Friday</td>\n",
       "                        <td id=\"T_3e810342_6571_11eb_8437_f7c881e899a7row0_col1\" class=\"data row0 col1\" >3.174440</td>\n",
       "            </tr>\n",
       "            <tr>\n",
       "                        <th id=\"T_3e810342_6571_11eb_8437_f7c881e899a7level0_row1\" class=\"row_heading level0 row1\" >2</th>\n",
       "                        <td id=\"T_3e810342_6571_11eb_8437_f7c881e899a7row1_col0\" class=\"data row1 col0\" >Friday</td>\n",
       "                        <td id=\"T_3e810342_6571_11eb_8437_f7c881e899a7row1_col1\" class=\"data row1 col1\" >3.130680</td>\n",
       "            </tr>\n",
       "            <tr>\n",
       "                        <th id=\"T_3e810342_6571_11eb_8437_f7c881e899a7level0_row2\" class=\"row_heading level0 row2\" >3</th>\n",
       "                        <td id=\"T_3e810342_6571_11eb_8437_f7c881e899a7row2_col0\" class=\"data row2 col0\" >Friday</td>\n",
       "                        <td id=\"T_3e810342_6571_11eb_8437_f7c881e899a7row2_col1\" class=\"data row2 col1\" >3.231710</td>\n",
       "            </tr>\n",
       "            <tr>\n",
       "                        <th id=\"T_3e810342_6571_11eb_8437_f7c881e899a7level0_row3\" class=\"row_heading level0 row3\" >4</th>\n",
       "                        <td id=\"T_3e810342_6571_11eb_8437_f7c881e899a7row3_col0\" class=\"data row3 col0\" >Friday</td>\n",
       "                        <td id=\"T_3e810342_6571_11eb_8437_f7c881e899a7row3_col1\" class=\"data row3 col1\" >3.261980</td>\n",
       "            </tr>\n",
       "            <tr>\n",
       "                        <th id=\"T_3e810342_6571_11eb_8437_f7c881e899a7level0_row4\" class=\"row_heading level0 row4\" >5</th>\n",
       "                        <td id=\"T_3e810342_6571_11eb_8437_f7c881e899a7row4_col0\" class=\"data row4 col0\" >Monday</td>\n",
       "                        <td id=\"T_3e810342_6571_11eb_8437_f7c881e899a7row4_col1\" class=\"data row4 col1\" >3.299270</td>\n",
       "            </tr>\n",
       "            <tr>\n",
       "                        <th id=\"T_3e810342_6571_11eb_8437_f7c881e899a7level0_row5\" class=\"row_heading level0 row5\" >32</th>\n",
       "                        <td id=\"T_3e810342_6571_11eb_8437_f7c881e899a7row5_col0\" class=\"data row5 col0\" >Friday</td>\n",
       "                        <td id=\"T_3e810342_6571_11eb_8437_f7c881e899a7row5_col1\" class=\"data row5 col1\" >3.394460</td>\n",
       "            </tr>\n",
       "            <tr>\n",
       "                        <th id=\"T_3e810342_6571_11eb_8437_f7c881e899a7level0_row6\" class=\"row_heading level0 row6\" >33</th>\n",
       "                        <td id=\"T_3e810342_6571_11eb_8437_f7c881e899a7row6_col0\" class=\"data row6 col0\" >Friday</td>\n",
       "                        <td id=\"T_3e810342_6571_11eb_8437_f7c881e899a7row6_col1\" class=\"data row6 col1\" >3.403130</td>\n",
       "            </tr>\n",
       "            <tr>\n",
       "                        <th id=\"T_3e810342_6571_11eb_8437_f7c881e899a7level0_row7\" class=\"row_heading level0 row7\" >34</th>\n",
       "                        <td id=\"T_3e810342_6571_11eb_8437_f7c881e899a7row7_col0\" class=\"data row7 col0\" >Friday</td>\n",
       "                        <td id=\"T_3e810342_6571_11eb_8437_f7c881e899a7row7_col1\" class=\"data row7 col1\" >3.395600</td>\n",
       "            </tr>\n",
       "            <tr>\n",
       "                        <th id=\"T_3e810342_6571_11eb_8437_f7c881e899a7level0_row8\" class=\"row_heading level0 row8\" >35</th>\n",
       "                        <td id=\"T_3e810342_6571_11eb_8437_f7c881e899a7row8_col0\" class=\"data row8 col0\" >Friday</td>\n",
       "                        <td id=\"T_3e810342_6571_11eb_8437_f7c881e899a7row8_col1\" class=\"data row8 col1\" >3.360950</td>\n",
       "            </tr>\n",
       "            <tr>\n",
       "                        <th id=\"T_3e810342_6571_11eb_8437_f7c881e899a7level0_row9\" class=\"row_heading level0 row9\" >36</th>\n",
       "                        <td id=\"T_3e810342_6571_11eb_8437_f7c881e899a7row9_col0\" class=\"data row9 col0\" >Friday</td>\n",
       "                        <td id=\"T_3e810342_6571_11eb_8437_f7c881e899a7row9_col1\" class=\"data row9 col1\" >3.358820</td>\n",
       "            </tr>\n",
       "            <tr>\n",
       "                        <th id=\"T_3e810342_6571_11eb_8437_f7c881e899a7level0_row10\" class=\"row_heading level0 row10\" >37</th>\n",
       "                        <td id=\"T_3e810342_6571_11eb_8437_f7c881e899a7row10_col0\" class=\"data row10 col0\" >Friday</td>\n",
       "                        <td id=\"T_3e810342_6571_11eb_8437_f7c881e899a7row10_col1\" class=\"data row10 col1\" >3.381950</td>\n",
       "            </tr>\n",
       "            <tr>\n",
       "                        <th id=\"T_3e810342_6571_11eb_8437_f7c881e899a7level0_row11\" class=\"row_heading level0 row11\" >38</th>\n",
       "                        <td id=\"T_3e810342_6571_11eb_8437_f7c881e899a7row11_col0\" class=\"data row11 col0\" >Friday</td>\n",
       "                        <td id=\"T_3e810342_6571_11eb_8437_f7c881e899a7row11_col1\" class=\"data row11 col1\" >3.416340</td>\n",
       "            </tr>\n",
       "            <tr>\n",
       "                        <th id=\"T_3e810342_6571_11eb_8437_f7c881e899a7level0_row12\" class=\"row_heading level0 row12\" >39</th>\n",
       "                        <td id=\"T_3e810342_6571_11eb_8437_f7c881e899a7row12_col0\" class=\"data row12 col0\" >Friday</td>\n",
       "                        <td id=\"T_3e810342_6571_11eb_8437_f7c881e899a7row12_col1\" class=\"data row12 col1\" >3.433970</td>\n",
       "            </tr>\n",
       "            <tr>\n",
       "                        <th id=\"T_3e810342_6571_11eb_8437_f7c881e899a7level0_row13\" class=\"row_heading level0 row13\" >40</th>\n",
       "                        <td id=\"T_3e810342_6571_11eb_8437_f7c881e899a7row13_col0\" class=\"data row13 col0\" >Friday</td>\n",
       "                        <td id=\"T_3e810342_6571_11eb_8437_f7c881e899a7row13_col1\" class=\"data row13 col1\" >3.421860</td>\n",
       "            </tr>\n",
       "            <tr>\n",
       "                        <th id=\"T_3e810342_6571_11eb_8437_f7c881e899a7level0_row14\" class=\"row_heading level0 row14\" >41</th>\n",
       "                        <td id=\"T_3e810342_6571_11eb_8437_f7c881e899a7row14_col0\" class=\"data row14 col0\" >Friday</td>\n",
       "                        <td id=\"T_3e810342_6571_11eb_8437_f7c881e899a7row14_col1\" class=\"data row14 col1\" >3.373740</td>\n",
       "            </tr>\n",
       "            <tr>\n",
       "                        <th id=\"T_3e810342_6571_11eb_8437_f7c881e899a7level0_row15\" class=\"row_heading level0 row15\" >42</th>\n",
       "                        <td id=\"T_3e810342_6571_11eb_8437_f7c881e899a7row15_col0\" class=\"data row15 col0\" >Friday</td>\n",
       "                        <td id=\"T_3e810342_6571_11eb_8437_f7c881e899a7row15_col1\" class=\"data row15 col1\" >3.378600</td>\n",
       "            </tr>\n",
       "            <tr>\n",
       "                        <th id=\"T_3e810342_6571_11eb_8437_f7c881e899a7level0_row16\" class=\"row_heading level0 row16\" >43</th>\n",
       "                        <td id=\"T_3e810342_6571_11eb_8437_f7c881e899a7row16_col0\" class=\"data row16 col0\" >Friday</td>\n",
       "                        <td id=\"T_3e810342_6571_11eb_8437_f7c881e899a7row16_col1\" class=\"data row16 col1\" >3.371880</td>\n",
       "            </tr>\n",
       "            <tr>\n",
       "                        <th id=\"T_3e810342_6571_11eb_8437_f7c881e899a7level0_row17\" class=\"row_heading level0 row17\" >44</th>\n",
       "                        <td id=\"T_3e810342_6571_11eb_8437_f7c881e899a7row17_col0\" class=\"data row17 col0\" >Friday</td>\n",
       "                        <td id=\"T_3e810342_6571_11eb_8437_f7c881e899a7row17_col1\" class=\"data row17 col1\" >3.393210</td>\n",
       "            </tr>\n",
       "            <tr>\n",
       "                        <th id=\"T_3e810342_6571_11eb_8437_f7c881e899a7level0_row18\" class=\"row_heading level0 row18\" >45</th>\n",
       "                        <td id=\"T_3e810342_6571_11eb_8437_f7c881e899a7row18_col0\" class=\"data row18 col0\" >Friday</td>\n",
       "                        <td id=\"T_3e810342_6571_11eb_8437_f7c881e899a7row18_col1\" class=\"data row18 col1\" >3.372910</td>\n",
       "            </tr>\n",
       "            <tr>\n",
       "                        <th id=\"T_3e810342_6571_11eb_8437_f7c881e899a7level0_row19\" class=\"row_heading level0 row19\" >46</th>\n",
       "                        <td id=\"T_3e810342_6571_11eb_8437_f7c881e899a7row19_col0\" class=\"data row19 col0\" >Friday</td>\n",
       "                        <td id=\"T_3e810342_6571_11eb_8437_f7c881e899a7row19_col1\" class=\"data row19 col1\" >3.364520</td>\n",
       "            </tr>\n",
       "            <tr>\n",
       "                        <th id=\"T_3e810342_6571_11eb_8437_f7c881e899a7level0_row20\" class=\"row_heading level0 row20\" >47</th>\n",
       "                        <td id=\"T_3e810342_6571_11eb_8437_f7c881e899a7row20_col0\" class=\"data row20 col0\" >Friday</td>\n",
       "                        <td id=\"T_3e810342_6571_11eb_8437_f7c881e899a7row20_col1\" class=\"data row20 col1\" >3.337940</td>\n",
       "            </tr>\n",
       "            <tr>\n",
       "                        <th id=\"T_3e810342_6571_11eb_8437_f7c881e899a7level0_row21\" class=\"row_heading level0 row21\" >48</th>\n",
       "                        <td id=\"T_3e810342_6571_11eb_8437_f7c881e899a7row21_col0\" class=\"data row21 col0\" >Friday</td>\n",
       "                        <td id=\"T_3e810342_6571_11eb_8437_f7c881e899a7row21_col1\" class=\"data row21 col1\" >3.311760</td>\n",
       "            </tr>\n",
       "            <tr>\n",
       "                        <th id=\"T_3e810342_6571_11eb_8437_f7c881e899a7level0_row22\" class=\"row_heading level0 row22\" >49</th>\n",
       "                        <td id=\"T_3e810342_6571_11eb_8437_f7c881e899a7row22_col0\" class=\"data row22 col0\" >Friday</td>\n",
       "                        <td id=\"T_3e810342_6571_11eb_8437_f7c881e899a7row22_col1\" class=\"data row22 col1\" >3.270920</td>\n",
       "            </tr>\n",
       "            <tr>\n",
       "                        <th id=\"T_3e810342_6571_11eb_8437_f7c881e899a7level0_row23\" class=\"row_heading level0 row23\" >50</th>\n",
       "                        <td id=\"T_3e810342_6571_11eb_8437_f7c881e899a7row23_col0\" class=\"data row23 col0\" >Friday</td>\n",
       "                        <td id=\"T_3e810342_6571_11eb_8437_f7c881e899a7row23_col1\" class=\"data row23 col1\" >3.248420</td>\n",
       "            </tr>\n",
       "            <tr>\n",
       "                        <th id=\"T_3e810342_6571_11eb_8437_f7c881e899a7level0_row24\" class=\"row_heading level0 row24\" >51</th>\n",
       "                        <td id=\"T_3e810342_6571_11eb_8437_f7c881e899a7row24_col0\" class=\"data row24 col0\" >Friday</td>\n",
       "                        <td id=\"T_3e810342_6571_11eb_8437_f7c881e899a7row24_col1\" class=\"data row24 col1\" >3.232720</td>\n",
       "            </tr>\n",
       "            <tr>\n",
       "                        <th id=\"T_3e810342_6571_11eb_8437_f7c881e899a7level0_row25\" class=\"row_heading level0 row25\" >52</th>\n",
       "                        <td id=\"T_3e810342_6571_11eb_8437_f7c881e899a7row25_col0\" class=\"data row25 col0\" >Friday</td>\n",
       "                        <td id=\"T_3e810342_6571_11eb_8437_f7c881e899a7row25_col1\" class=\"data row25 col1\" >3.213200</td>\n",
       "            </tr>\n",
       "            <tr>\n",
       "                        <th id=\"T_3e810342_6571_11eb_8437_f7c881e899a7level0_row26\" class=\"row_heading level0 row26\" >53</th>\n",
       "                        <td id=\"T_3e810342_6571_11eb_8437_f7c881e899a7row26_col0\" class=\"data row26 col0\" >Friday</td>\n",
       "                        <td id=\"T_3e810342_6571_11eb_8437_f7c881e899a7row26_col1\" class=\"data row26 col1\" >3.215330</td>\n",
       "            </tr>\n",
       "    </tbody></table>"
      ],
      "text/plain": [
       "<pandas.io.formats.style.Styler at 0x7f88e072fe80>"
      ]
     },
     "execution_count": 414,
     "metadata": {},
     "output_type": "execute_result"
    }
   ],
   "source": [
    "(df.groupby(['Week'])['Day', 'Rate'].min()\n",
    "     .style\n",
    "     .background_gradient(cmap='summer', subset=['Rate']))"
   ]
  },
  {
   "cell_type": "markdown",
   "metadata": {},
   "source": [
    "#### And here is the answer for all of our questions - which days are the best day to conduct a currency conversion."
   ]
  }
 ],
 "metadata": {
  "kernelspec": {
   "display_name": "conda_python3",
   "language": "python",
   "name": "conda_python3"
  },
  "language_info": {
   "codemirror_mode": {
    "name": "ipython",
    "version": 3
   },
   "file_extension": ".py",
   "mimetype": "text/x-python",
   "name": "python",
   "nbconvert_exporter": "python",
   "pygments_lexer": "ipython3",
   "version": "3.6.10"
  }
 },
 "nbformat": 4,
 "nbformat_minor": 4
}
