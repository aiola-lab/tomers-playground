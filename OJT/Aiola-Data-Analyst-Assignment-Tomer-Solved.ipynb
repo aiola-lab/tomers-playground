{
 "cells": [
  {
   "cell_type": "markdown",
   "metadata": {},
   "source": [
    "# Aiola Data Analyst Home Assignment"
   ]
  },
  {
   "cell_type": "markdown",
   "metadata": {},
   "source": [
    "We're excited to move forward with the next step in the process for the Data Analyst position!<br><br>\n",
    "The purpose of this assignment is to evaluate:<br>\n",
    " - Your technical knowledge\n",
    " - How comfortable you are translating business logic into analysis/code\n",
    " - How you approach unfamiliar data\n",
    " - Your creativity in problem-solving and ideation when faced with new challenges and projects  \n",
    " \n",
    "The Customer Delivery team works closely with product management, Aiola's clients, R&D and other key stake-holders in a data-rich environment. Below you will find a real Aiola use-case and questions relating to product development, business logic, and technical implementation which represent a Data Analyst's day-to-day at Aiola.\n",
    "\n",
    "The CSV file you have been provided with has a week's worth of advertising data. You don't need any familiarity with advertising to approach the dataset and work with it. The Delivery team works directly with companies from a wide range of industries, so we aren't look for domain expertise, just to understand how you handle data.\n",
    "\n",
    "Please leave relevant comments and test your code as necessary, even if you are unable to solve a question. It helps us understand your skills better.\n",
    "\n",
    "Good luck!"
   ]
  },
  {
   "cell_type": "markdown",
   "metadata": {},
   "source": [
    "# Media company use case "
   ]
  },
  {
   "cell_type": "markdown",
   "metadata": {},
   "source": [
    "Aiola’s delivery team is responsible for developing the business logic and analytic capabilities of Aiola’s artificially intelligent analyst for a new client - a large media group that operates a number of TV networks and channels. Clients like the media company are considered “low-tech”, and use traditional methods for their research, analysis, and forecasting. \n",
    "\n",
    "Our product brings on-demand analytical capabilities into their meetings, calls and chats through their client-of-choice (WhatsApp, Slack, Teams), offering insights on their data and generating reports  – wherever they work, Aiola is available. \n",
    "\n",
    "The delivery team is working on the initial skill package, the first set of capabilities that the virtual analyst will provide, automating some of the media company’s data analysis processes. \n",
    "\n",
    "The skills that are in development use internal data from the client, the dataset has information about advertisers and their brands, and details about the advertisements they purchased. The client has also provided the delivery with team with publicly available data on other networks. \n",
    "\n",
    "The delivery team is working on three skills that the media company’s innovation director determined would have a significant impact on their internal users:\n",
    "\n",
    " - Audience penetration and frequency analysis where penetration is the percentage of product category users among the show viewers and frequency is the number of times the show viewers purchase a product of this category per month, on average, and a joint score calculation. The skill calculates and visualizes the category or categories' performance among the top scored shows' viewers. Note: the skill displays information relevant to shows which advertise the category, for example, tobacco products are not relevant to childrens shows. \n",
    " - Category investment analysis, where a weighted investment score is calculated, comparing the investment in a particular show to investments across all programs, and a visualization of the difference between the weighted score and actual investment in the show per category.   \n",
    " - A dynamic bi-weekly snapshot generated from the client's updated data, showing investments of brands and advertisers in specific shows and across networks.  \n",
    "\n",
    "Below you will find several questions about this use case and the example skills."
   ]
  },
  {
   "cell_type": "markdown",
   "metadata": {},
   "source": [
    "##### Who are the end-users of the product?"
   ]
  },
  {
   "cell_type": "raw",
   "metadata": {},
   "source": [
    "The user ends of Aiola's products are the seniors ranks of the analyzed comapny such as CEO's, VP's etc."
   ]
  },
  {
   "cell_type": "markdown",
   "metadata": {},
   "source": [
    "##### How will they use the product?  If there is more than one user-group what are the differences in how they will use it?"
   ]
  },
  {
   "cell_type": "raw",
   "metadata": {},
   "source": [
    "They will use the product hopefully to allow easier analysis Proceeds that will alow easier (faster and more reliable) decision making processes. the diffrence in the using of each group will be by the essence and also the type of skill they need. for ex. the CEO will probably not check every skill but a few and less frequently, while the VP's, whill probably use it on a regular basis and for their daily decsion making, such as \"Are some of our TV networks strugles?\" or \"Are we decreasing on some specific categories?\"."
   ]
  },
  {
   "cell_type": "markdown",
   "metadata": {},
   "source": [
    "##### Can you suggest other features to add and modifications for the in-development features? What is the impact of each addition or modification?\n",
    "\n",
    "Please be detailed in your response. If you suggest a feature or advanced capability that will require other datasets or sources, make a note of this in your answer and what the impact of the additional data will have on the skills."
   ]
  },
  {
   "cell_type": "raw",
   "metadata": {},
   "source": [
    "Yes, few dimentions and also few modifications. (1st skill) - I would add an additional factor to the scoring calculation which will be the amount of viewers, which could be converted to the amount of potential customers. this could indicate the potential of sales dues to advertising. also, it could better help the company adress the right timeframes/slots to the right customers, based on the amount of potential conversions. (2nd skill) - I would reccomand to add a few dimentionals to this essence of analysis. those will include date and time dimention. these could better light on the attractibility of each program to the customers, side by \"pricing\" its date & time better, in order to better light on the more desired date & time frames, programs or the combinations of these two. (3rd skill) - On this analysis, I would recommend to add a \"shadow\" to the graph, showing the diffrence between the current results of it and the yearly-average/last results before these/else. this could indicate any change and/or trend that is starting/already happening."
   ]
  },
  {
   "cell_type": "markdown",
   "metadata": {},
   "source": [
    "##### Can you explain how feature modification will impact the users? "
   ]
  },
  {
   "cell_type": "raw",
   "metadata": {},
   "source": [
    "The main essences of the modifications I recommended are - eanabling isolation of the cause reason/s for each pattern or trend the user will wittness, side by increasing the data sets involved with the analysis, in order to increase its liability. these two, in my opinion will benefit with the user by providing it with better and more accurate resulting, by minoring the chances for some of the misconceptions that could occur due to small scope of analysis."
   ]
  },
  {
   "cell_type": "markdown",
   "metadata": {},
   "source": [
    "# Coding section"
   ]
  },
  {
   "cell_type": "markdown",
   "metadata": {},
   "source": [
    "##### Import libraries and packages"
   ]
  },
  {
   "cell_type": "code",
   "execution_count": 2,
   "metadata": {},
   "outputs": [],
   "source": [
    "import pandas as pd\n",
    "import numpy as np\n",
    "import matplotlib"
   ]
  },
  {
   "cell_type": "markdown",
   "metadata": {},
   "source": [
    "##### Load in and observe data"
   ]
  },
  {
   "cell_type": "code",
   "execution_count": 3,
   "metadata": {
    "scrolled": false
   },
   "outputs": [],
   "source": [
    "df = pd.read_csv(r'anonymized_data.csv')"
   ]
  },
  {
   "cell_type": "code",
   "execution_count": 76,
   "metadata": {
    "scrolled": false
   },
   "outputs": [
    {
     "data": {
      "text/html": [
       "<div>\n",
       "<style scoped>\n",
       "    .dataframe tbody tr th:only-of-type {\n",
       "        vertical-align: middle;\n",
       "    }\n",
       "\n",
       "    .dataframe tbody tr th {\n",
       "        vertical-align: top;\n",
       "    }\n",
       "\n",
       "    .dataframe thead th {\n",
       "        text-align: right;\n",
       "    }\n",
       "</style>\n",
       "<table border=\"1\" class=\"dataframe\">\n",
       "  <thead>\n",
       "    <tr style=\"text-align: right;\">\n",
       "      <th></th>\n",
       "      <th>Year</th>\n",
       "      <th>Sector</th>\n",
       "      <th>Category</th>\n",
       "      <th>Class</th>\n",
       "      <th>Advertiser</th>\n",
       "      <th>Brand</th>\n",
       "      <th>SubBrand</th>\n",
       "      <th>Week</th>\n",
       "      <th>TimeBand</th>\n",
       "      <th>Week Day</th>\n",
       "      <th>Type</th>\n",
       "      <th>Description</th>\n",
       "      <th>Start Time {Av(Tm)}</th>\n",
       "      <th>Date</th>\n",
       "      <th>Length</th>\n",
       "      <th>Time</th>\n",
       "    </tr>\n",
       "  </thead>\n",
       "  <tbody>\n",
       "    <tr>\n",
       "      <th>0</th>\n",
       "      <td>2020</td>\n",
       "      <td>Sector_0</td>\n",
       "      <td>Category_0</td>\n",
       "      <td>Class_0</td>\n",
       "      <td>Advertiser_0</td>\n",
       "      <td>Brand_0</td>\n",
       "      <td>SubBrand_0</td>\n",
       "      <td>42</td>\n",
       "      <td>02:00:00 - 02:30:00</td>\n",
       "      <td>Monday</td>\n",
       "      <td>Type_0</td>\n",
       "      <td>Description_0</td>\n",
       "      <td>2:28:31</td>\n",
       "      <td>12/10/2020</td>\n",
       "      <td>0:00:10</td>\n",
       "      <td>10</td>\n",
       "    </tr>\n",
       "    <tr>\n",
       "      <th>1</th>\n",
       "      <td>2020</td>\n",
       "      <td>Sector_1</td>\n",
       "      <td>Category_1</td>\n",
       "      <td>Class_1</td>\n",
       "      <td>Advertiser_1</td>\n",
       "      <td>Brand_1</td>\n",
       "      <td>SubBrand_1</td>\n",
       "      <td>42</td>\n",
       "      <td>02:00:00 - 02:30:00</td>\n",
       "      <td>Monday</td>\n",
       "      <td>Type_1</td>\n",
       "      <td>Description_1</td>\n",
       "      <td>2:28:41</td>\n",
       "      <td>12/10/2020</td>\n",
       "      <td>0:00:30</td>\n",
       "      <td>30</td>\n",
       "    </tr>\n",
       "    <tr>\n",
       "      <th>2</th>\n",
       "      <td>2020</td>\n",
       "      <td>Sector_1</td>\n",
       "      <td>Category_1</td>\n",
       "      <td>Class_1</td>\n",
       "      <td>Advertiser_1</td>\n",
       "      <td>Brand_1</td>\n",
       "      <td>SubBrand_1</td>\n",
       "      <td>42</td>\n",
       "      <td>02:00:00 - 02:30:00</td>\n",
       "      <td>Monday</td>\n",
       "      <td>Type_1</td>\n",
       "      <td>Description_2</td>\n",
       "      <td>2:29:11</td>\n",
       "      <td>12/10/2020</td>\n",
       "      <td>0:00:30</td>\n",
       "      <td>30</td>\n",
       "    </tr>\n",
       "    <tr>\n",
       "      <th>3</th>\n",
       "      <td>2020</td>\n",
       "      <td>Sector_1</td>\n",
       "      <td>Category_1</td>\n",
       "      <td>Class_1</td>\n",
       "      <td>Advertiser_1</td>\n",
       "      <td>Brand_1</td>\n",
       "      <td>SubBrand_1</td>\n",
       "      <td>42</td>\n",
       "      <td>02:00:00 - 02:30:00</td>\n",
       "      <td>Monday</td>\n",
       "      <td>Type_1</td>\n",
       "      <td>Description_1</td>\n",
       "      <td>2:29:41</td>\n",
       "      <td>12/10/2020</td>\n",
       "      <td>0:00:30</td>\n",
       "      <td>30</td>\n",
       "    </tr>\n",
       "    <tr>\n",
       "      <th>4</th>\n",
       "      <td>2020</td>\n",
       "      <td>Sector_1</td>\n",
       "      <td>Category_1</td>\n",
       "      <td>Class_1</td>\n",
       "      <td>Advertiser_1</td>\n",
       "      <td>Brand_1</td>\n",
       "      <td>SubBrand_1</td>\n",
       "      <td>42</td>\n",
       "      <td>02:30:00 - 03:00:00</td>\n",
       "      <td>Monday</td>\n",
       "      <td>Type_1</td>\n",
       "      <td>Description_3</td>\n",
       "      <td>2:30:11</td>\n",
       "      <td>12/10/2020</td>\n",
       "      <td>0:00:30</td>\n",
       "      <td>30</td>\n",
       "    </tr>\n",
       "  </tbody>\n",
       "</table>\n",
       "</div>"
      ],
      "text/plain": [
       "   Year    Sector    Category    Class    Advertiser    Brand    SubBrand  \\\n",
       "0  2020  Sector_0  Category_0  Class_0  Advertiser_0  Brand_0  SubBrand_0   \n",
       "1  2020  Sector_1  Category_1  Class_1  Advertiser_1  Brand_1  SubBrand_1   \n",
       "2  2020  Sector_1  Category_1  Class_1  Advertiser_1  Brand_1  SubBrand_1   \n",
       "3  2020  Sector_1  Category_1  Class_1  Advertiser_1  Brand_1  SubBrand_1   \n",
       "4  2020  Sector_1  Category_1  Class_1  Advertiser_1  Brand_1  SubBrand_1   \n",
       "\n",
       "   Week             TimeBand Week Day    Type    Description  \\\n",
       "0    42  02:00:00 - 02:30:00   Monday  Type_0  Description_0   \n",
       "1    42  02:00:00 - 02:30:00   Monday  Type_1  Description_1   \n",
       "2    42  02:00:00 - 02:30:00   Monday  Type_1  Description_2   \n",
       "3    42  02:00:00 - 02:30:00   Monday  Type_1  Description_1   \n",
       "4    42  02:30:00 - 03:00:00   Monday  Type_1  Description_3   \n",
       "\n",
       "  Start Time {Av(Tm)}        Date   Length  Time  \n",
       "0             2:28:31  12/10/2020  0:00:10    10  \n",
       "1             2:28:41  12/10/2020  0:00:30    30  \n",
       "2             2:29:11  12/10/2020  0:00:30    30  \n",
       "3             2:29:41  12/10/2020  0:00:30    30  \n",
       "4             2:30:11  12/10/2020  0:00:30    30  "
      ]
     },
     "execution_count": 76,
     "metadata": {},
     "output_type": "execute_result"
    }
   ],
   "source": [
    "df.head()"
   ]
  },
  {
   "cell_type": "markdown",
   "metadata": {},
   "source": [
    "##### How many advertisers are in the file?"
   ]
  },
  {
   "cell_type": "code",
   "execution_count": 5,
   "metadata": {},
   "outputs": [
    {
     "name": "stdout",
     "output_type": "stream",
     "text": [
      "387\n"
     ]
    }
   ],
   "source": [
    "print(df['Advertiser'].nunique())\n",
    "# number of distinct values within the column"
   ]
  },
  {
   "cell_type": "markdown",
   "metadata": {},
   "source": [
    "##### On average, how many brands are there per advertiser?"
   ]
  },
  {
   "cell_type": "code",
   "execution_count": 8,
   "metadata": {
    "scrolled": false
   },
   "outputs": [
    {
     "name": "stdout",
     "output_type": "stream",
     "text": [
      "Advertiser\n",
      "Advertiser_0      18\n",
      "Advertiser_1       3\n",
      "Advertiser_10      1\n",
      "Advertiser_100     1\n",
      "Advertiser_101     1\n",
      "                  ..\n",
      "Advertiser_95      1\n",
      "Advertiser_96      1\n",
      "Advertiser_97      1\n",
      "Advertiser_98      1\n",
      "Advertiser_99      1\n",
      "Name: Brand, Length: 387, dtype: int64\n"
     ]
    }
   ],
   "source": [
    "print(df.groupby(['Advertiser'])['Brand'].nunique())\n",
    "# as follows"
   ]
  },
  {
   "cell_type": "markdown",
   "metadata": {},
   "source": [
    "##### Which brand purchased the largest number of slots?"
   ]
  },
  {
   "cell_type": "code",
   "execution_count": 9,
   "metadata": {
    "scrolled": false
   },
   "outputs": [
    {
     "name": "stdout",
     "output_type": "stream",
     "text": [
      "        Brand  Counter\n",
      "37  Brand_131     3596\n"
     ]
    }
   ],
   "source": [
    "x = df.groupby(['Brand']).count().reset_index()\n",
    "x1 = ((x[['Brand', 'Length']]).sort_values('Length', ascending=False))\n",
    "x2 = x1.rename(columns={'Length': 'Counter'})\n",
    "print(x2.head(1))\n",
    "# Brand_131 is the one who ordered the largest number of slots (by slots, not time)"
   ]
  },
  {
   "cell_type": "markdown",
   "metadata": {},
   "source": [
    "##### Show the top purchasers of slots per week day"
   ]
  },
  {
   "cell_type": "code",
   "execution_count": 16,
   "metadata": {},
   "outputs": [
    {
     "data": {
      "text/plain": [
       "Week Day   Brand    \n",
       "Friday     Brand_131    551\n",
       "Monday     Brand_131    582\n",
       "Saturday   Brand_0      527\n",
       "Sunday     Brand_0      583\n",
       "Thursday   Brand_131    675\n",
       "Tuesday    Brand_131    483\n",
       "Wednesday  Brand_131    437\n",
       "Name: Brand, dtype: int64"
      ]
     },
     "execution_count": 16,
     "metadata": {},
     "output_type": "execute_result"
    }
   ],
   "source": [
    "x = df.groupby(['Week Day'])['Brand'].value_counts()\n",
    "\n",
    "x1 = x.index.get_level_values(0)\n",
    "x2 = x.loc[x.groupby(x1).idxmax()]\n",
    "\n",
    "x2\n",
    "\n",
    "# Needed to say, it took me a while. but it truly believe it is a very important ex."
   ]
  },
  {
   "cell_type": "markdown",
   "metadata": {},
   "source": [
    "##### Format the results from the previous query as following:\n",
    "##### \"{week _day}: {brand} purchased {number of spots}\"\n",
    "\n",
    "Example output: \n",
    "\n",
    "Thursday: Brand_131 purchased 675  \n",
    "Sunday: Brand_0 purchased 583  \n",
    "Monday: Brand_131 purchased 582  \n",
    "Friday: Brand_131 purchased 551  \n",
    "Saturday: Brand_0 purchased 527  "
   ]
  },
  {
   "cell_type": "markdown",
   "metadata": {},
   "source": [
    "##### Find the market share of slots by brand on a specific day (for example: Monday)"
   ]
  },
  {
   "cell_type": "code",
   "execution_count": 17,
   "metadata": {
    "scrolled": false
   },
   "outputs": [
    {
     "ename": "SyntaxError",
     "evalue": "invalid character in identifier (<ipython-input-17-e5a5e160409a>, line 8)",
     "output_type": "error",
     "traceback": [
      "\u001b[0;36m  File \u001b[0;32m\"<ipython-input-17-e5a5e160409a>\"\u001b[0;36m, line \u001b[0;32m8\u001b[0m\n\u001b[0;31m    x['Brand'] = x['Brand'] / x[‘your column of choice’].sum()*100\u001b[0m\n\u001b[0m                                    ^\u001b[0m\n\u001b[0;31mSyntaxError\u001b[0m\u001b[0;31m:\u001b[0m invalid character in identifier\n"
     ]
    }
   ],
   "source": [
    "df = pd.read_csv('/Users/tomergutkin/Downloads/anonymized_data.csv')\n",
    "#x = df.groupby(['TimeBand', 'Week Day'])['TimeBand'].count() # gen number of brands per slot\n",
    "#y = df.groupby(['Brand', 'TimeBand', 'Week Day'])['TimeBand'].count() # specific number of brands per slot\n",
    "#x.to_frame()\n",
    "#y.to_frame()\n",
    "\n",
    "x = df[df['Week Day'] == 'Monday']['Brand'].value_counts() # Market share of slots per brand on Monday\n",
    "x['Brand'] = x['Brand'] / x[‘your column of choice’].sum()*100\n",
    "\n",
    "## to be continued\n",
    "\n",
    "\n",
    "# notice - there are time frames which are not currect (such as 26, or 25 hour of the day)\n"
   ]
  },
  {
   "cell_type": "markdown",
   "metadata": {},
   "source": [
    "##### Find the average spot time length (in \"Length\" column) for each spot type (column \"Type\") "
   ]
  },
  {
   "cell_type": "code",
   "execution_count": 18,
   "metadata": {},
   "outputs": [
    {
     "data": {
      "text/plain": [
       "Type\n",
       "Type_0      18.929140\n",
       "Type_1      20.553112\n",
       "Type_10      1.000000\n",
       "Type_11     15.015625\n",
       "Type_12     13.619048\n",
       "Type_13      1.000000\n",
       "Type_14      1.000000\n",
       "Type_2       2.638655\n",
       "Type_3     106.400000\n",
       "Type_4       1.000000\n",
       "Type_5       7.741279\n",
       "Type_6       6.436464\n",
       "Type_7      13.000000\n",
       "Type_8       1.000000\n",
       "Type_9      20.000000\n",
       "Name: Time, dtype: float64"
      ]
     },
     "execution_count": 18,
     "metadata": {},
     "output_type": "execute_result"
    }
   ],
   "source": [
    "# df['Length'].apply(lambda x : x[5:8]) # seconds\n",
    "# df['Length'].apply(lambda x : x[2:4]) # mins\n",
    "\n",
    "df['Time'] = (df['Length'].apply(lambda x : int(x[5:8]))) + (df['Length'].apply(lambda x : int(x[2:4])*60))\n",
    "df.groupby(['Type'])['Time'].mean()\n",
    "\n",
    "# Damn you...."
   ]
  },
  {
   "cell_type": "markdown",
   "metadata": {},
   "source": [
    "##### Plot (in a bar chart) the top ten brands and the share of Saturday slots they purchased"
   ]
  },
  {
   "cell_type": "code",
   "execution_count": 115,
   "metadata": {},
   "outputs": [
    {
     "data": {
      "text/plain": [
       "<matplotlib.axes._subplots.AxesSubplot at 0x7fea021acdc0>"
      ]
     },
     "execution_count": 115,
     "metadata": {},
     "output_type": "execute_result"
    },
    {
     "data": {
      "image/png": "[encoded data removed]",
      "text/plain": [
       "<Figure size 432x288 with 1 Axes>"
      ]
     },
     "metadata": {
      "needs_background": "light"
     },
     "output_type": "display_data"
    }
   ],
   "source": [
    "# Brand0 to Brand10 & and % of Sturday they purchased\n",
    "\n",
    "df_brands = df.loc[df['Brand'].isin(['Brand_0', 'Brand_1', 'Brand_2', 'Brand_3', 'Brand_4', 'Brand_5', 'Brand_6', 'Brand_7', 'Brand_8', 'Brand_9', ])]\n",
    "df_brands = df_brands.loc[df_brands['Week Day'] == 'Saturday']\n",
    "df_sat = df_brands.loc[df_brands['Week Day'] == 'Saturday']\n",
    "\n",
    "tot_value_sat = df_sat.groupby(['Week Day'])['Time'].sum() # sum for Saturday\n",
    "\n",
    "percent_of_sat_per_brand = df_brands.groupby(['Brand'])['Time'].sum() # sum for ea brand\n",
    "x = pd.DataFrame(percent_of_sat_per_brand)\n",
    "x['Percent_of_Sat'] = (x['Time'].apply(lambda x : float(x)) / float(tot_value_sat)) * 100 # note, convert both fileds\n",
    "x['Percent_of_Sat'].plot(kind='bar', rot=45)\n"
   ]
  },
  {
   "cell_type": "markdown",
   "metadata": {},
   "source": [
    "##### For the top 5 brands which purchased the most spots over the week, visualize the number of spots they purchased per day"
   ]
  },
  {
   "cell_type": "code",
   "execution_count": 124,
   "metadata": {},
   "outputs": [
    {
     "data": {
      "text/plain": [
       "<matplotlib.axes._subplots.AxesSubplot at 0x7fea01fe7a30>"
      ]
     },
     "execution_count": 124,
     "metadata": {},
     "output_type": "execute_result"
    },
    {
     "data": {
      "image/png": "[encoded data removed]",
      "text/plain": [
       "<Figure size 432x288 with 1 Axes>"
      ]
     },
     "metadata": {
      "needs_background": "light"
     },
     "output_type": "display_data"
    }
   ],
   "source": [
    "# brands who purchased most slots (choose only top 5)\n",
    "# what is the number of spots they purchased\n",
    "\n",
    "top_5_brands = df.groupby(['Brand'])['Time'].count() # Counting number of spots taken by Brand\n",
    "top_5_brands = top_5_brands.head(5) # taking top 5 spot purchasers, segmented by brand\n",
    "top_5_brands = pd.DataFrame(top_5_brands) # turning Series to DataFrame\n",
    "top_5_brands.plot(kind='bar', rot=45)\n",
    "\n",
    "# Side not, since the count was by spot and not time, I counted the equivelent to row per brand, which indicates spot\n"
   ]
  },
  {
   "cell_type": "markdown",
   "metadata": {},
   "source": [
    "##### List the most popular time slot per Category"
   ]
  },
  {
   "cell_type": "code",
   "execution_count": 318,
   "metadata": {},
   "outputs": [
    {
     "data": {
      "text/html": [
       "<div>\n",
       "<style scoped>\n",
       "    .dataframe tbody tr th:only-of-type {\n",
       "        vertical-align: middle;\n",
       "    }\n",
       "\n",
       "    .dataframe tbody tr th {\n",
       "        vertical-align: top;\n",
       "    }\n",
       "\n",
       "    .dataframe thead th {\n",
       "        text-align: right;\n",
       "    }\n",
       "</style>\n",
       "<table border=\"1\" class=\"dataframe\">\n",
       "  <thead>\n",
       "    <tr style=\"text-align: right;\">\n",
       "      <th></th>\n",
       "      <th>Category</th>\n",
       "      <th>TimeBand</th>\n",
       "      <th>Popularity</th>\n",
       "    </tr>\n",
       "  </thead>\n",
       "  <tbody>\n",
       "    <tr>\n",
       "      <th>0</th>\n",
       "      <td>Category_8</td>\n",
       "      <td>02:00:00 - 02:30:00</td>\n",
       "      <td>78</td>\n",
       "    </tr>\n",
       "    <tr>\n",
       "      <th>1</th>\n",
       "      <td>Category_1</td>\n",
       "      <td>02:30:00 - 03:00:00</td>\n",
       "      <td>212</td>\n",
       "    </tr>\n",
       "    <tr>\n",
       "      <th>2</th>\n",
       "      <td>Category_8</td>\n",
       "      <td>03:00:00 - 03:30:00</td>\n",
       "      <td>136</td>\n",
       "    </tr>\n",
       "    <tr>\n",
       "      <th>3</th>\n",
       "      <td>Category_33</td>\n",
       "      <td>03:30:00 - 04:00:00</td>\n",
       "      <td>205</td>\n",
       "    </tr>\n",
       "    <tr>\n",
       "      <th>4</th>\n",
       "      <td>Category_33</td>\n",
       "      <td>04:00:00 - 04:30:00</td>\n",
       "      <td>139</td>\n",
       "    </tr>\n",
       "    <tr>\n",
       "      <th>5</th>\n",
       "      <td>Category_34</td>\n",
       "      <td>04:30:00 - 05:00:00</td>\n",
       "      <td>137</td>\n",
       "    </tr>\n",
       "    <tr>\n",
       "      <th>6</th>\n",
       "      <td>Category_34</td>\n",
       "      <td>05:00:00 - 05:30:00</td>\n",
       "      <td>106</td>\n",
       "    </tr>\n",
       "    <tr>\n",
       "      <th>7</th>\n",
       "      <td>Category_8</td>\n",
       "      <td>05:30:00 - 06:00:00</td>\n",
       "      <td>67</td>\n",
       "    </tr>\n",
       "    <tr>\n",
       "      <th>8</th>\n",
       "      <td>Category_9</td>\n",
       "      <td>06:00:00 - 06:30:00</td>\n",
       "      <td>333</td>\n",
       "    </tr>\n",
       "    <tr>\n",
       "      <th>9</th>\n",
       "      <td>Category_9</td>\n",
       "      <td>06:30:00 - 07:00:00</td>\n",
       "      <td>371</td>\n",
       "    </tr>\n",
       "    <tr>\n",
       "      <th>10</th>\n",
       "      <td>Category_9</td>\n",
       "      <td>07:00:00 - 07:30:00</td>\n",
       "      <td>324</td>\n",
       "    </tr>\n",
       "    <tr>\n",
       "      <th>11</th>\n",
       "      <td>Category_9</td>\n",
       "      <td>07:30:00 - 08:00:00</td>\n",
       "      <td>378</td>\n",
       "    </tr>\n",
       "    <tr>\n",
       "      <th>12</th>\n",
       "      <td>Category_9</td>\n",
       "      <td>08:00:00 - 08:30:00</td>\n",
       "      <td>343</td>\n",
       "    </tr>\n",
       "    <tr>\n",
       "      <th>13</th>\n",
       "      <td>Category_9</td>\n",
       "      <td>08:30:00 - 09:00:00</td>\n",
       "      <td>372</td>\n",
       "    </tr>\n",
       "    <tr>\n",
       "      <th>14</th>\n",
       "      <td>Category_9</td>\n",
       "      <td>09:00:00 - 09:30:00</td>\n",
       "      <td>353</td>\n",
       "    </tr>\n",
       "    <tr>\n",
       "      <th>15</th>\n",
       "      <td>Category_9</td>\n",
       "      <td>09:30:00 - 10:00:00</td>\n",
       "      <td>417</td>\n",
       "    </tr>\n",
       "    <tr>\n",
       "      <th>16</th>\n",
       "      <td>Category_8</td>\n",
       "      <td>10:00:00 - 10:30:00</td>\n",
       "      <td>380</td>\n",
       "    </tr>\n",
       "    <tr>\n",
       "      <th>17</th>\n",
       "      <td>Category_9</td>\n",
       "      <td>10:30:00 - 11:00:00</td>\n",
       "      <td>451</td>\n",
       "    </tr>\n",
       "    <tr>\n",
       "      <th>18</th>\n",
       "      <td>Category_9</td>\n",
       "      <td>11:00:00 - 11:30:00</td>\n",
       "      <td>427</td>\n",
       "    </tr>\n",
       "    <tr>\n",
       "      <th>19</th>\n",
       "      <td>Category_9</td>\n",
       "      <td>11:30:00 - 12:00:00</td>\n",
       "      <td>459</td>\n",
       "    </tr>\n",
       "    <tr>\n",
       "      <th>20</th>\n",
       "      <td>Category_9</td>\n",
       "      <td>12:00:00 - 12:30:00</td>\n",
       "      <td>333</td>\n",
       "    </tr>\n",
       "    <tr>\n",
       "      <th>21</th>\n",
       "      <td>Category_9</td>\n",
       "      <td>12:30:00 - 13:00:00</td>\n",
       "      <td>450</td>\n",
       "    </tr>\n",
       "    <tr>\n",
       "      <th>22</th>\n",
       "      <td>Category_9</td>\n",
       "      <td>13:00:00 - 13:30:00</td>\n",
       "      <td>388</td>\n",
       "    </tr>\n",
       "    <tr>\n",
       "      <th>23</th>\n",
       "      <td>Category_9</td>\n",
       "      <td>13:30:00 - 14:00:00</td>\n",
       "      <td>387</td>\n",
       "    </tr>\n",
       "    <tr>\n",
       "      <th>24</th>\n",
       "      <td>Category_9</td>\n",
       "      <td>14:00:00 - 14:30:00</td>\n",
       "      <td>354</td>\n",
       "    </tr>\n",
       "    <tr>\n",
       "      <th>25</th>\n",
       "      <td>Category_9</td>\n",
       "      <td>14:30:00 - 15:00:00</td>\n",
       "      <td>461</td>\n",
       "    </tr>\n",
       "    <tr>\n",
       "      <th>26</th>\n",
       "      <td>Category_9</td>\n",
       "      <td>15:00:00 - 15:30:00</td>\n",
       "      <td>399</td>\n",
       "    </tr>\n",
       "    <tr>\n",
       "      <th>27</th>\n",
       "      <td>Category_9</td>\n",
       "      <td>15:30:00 - 16:00:00</td>\n",
       "      <td>448</td>\n",
       "    </tr>\n",
       "    <tr>\n",
       "      <th>28</th>\n",
       "      <td>Category_9</td>\n",
       "      <td>16:00:00 - 16:30:00</td>\n",
       "      <td>420</td>\n",
       "    </tr>\n",
       "    <tr>\n",
       "      <th>29</th>\n",
       "      <td>Category_9</td>\n",
       "      <td>16:30:00 - 17:00:00</td>\n",
       "      <td>427</td>\n",
       "    </tr>\n",
       "    <tr>\n",
       "      <th>30</th>\n",
       "      <td>Category_8</td>\n",
       "      <td>17:00:00 - 17:30:00</td>\n",
       "      <td>406</td>\n",
       "    </tr>\n",
       "    <tr>\n",
       "      <th>31</th>\n",
       "      <td>Category_9</td>\n",
       "      <td>17:30:00 - 18:00:00</td>\n",
       "      <td>450</td>\n",
       "    </tr>\n",
       "    <tr>\n",
       "      <th>32</th>\n",
       "      <td>Category_9</td>\n",
       "      <td>18:00:00 - 18:30:00</td>\n",
       "      <td>458</td>\n",
       "    </tr>\n",
       "    <tr>\n",
       "      <th>33</th>\n",
       "      <td>Category_8</td>\n",
       "      <td>18:30:00 - 19:00:00</td>\n",
       "      <td>486</td>\n",
       "    </tr>\n",
       "    <tr>\n",
       "      <th>34</th>\n",
       "      <td>Category_9</td>\n",
       "      <td>19:00:00 - 19:30:00</td>\n",
       "      <td>373</td>\n",
       "    </tr>\n",
       "    <tr>\n",
       "      <th>35</th>\n",
       "      <td>Category_8</td>\n",
       "      <td>19:30:00 - 20:00:00</td>\n",
       "      <td>471</td>\n",
       "    </tr>\n",
       "    <tr>\n",
       "      <th>36</th>\n",
       "      <td>Category_9</td>\n",
       "      <td>20:00:00 - 20:30:00</td>\n",
       "      <td>381</td>\n",
       "    </tr>\n",
       "    <tr>\n",
       "      <th>37</th>\n",
       "      <td>Category_8</td>\n",
       "      <td>20:30:00 - 21:00:00</td>\n",
       "      <td>319</td>\n",
       "    </tr>\n",
       "    <tr>\n",
       "      <th>38</th>\n",
       "      <td>Category_9</td>\n",
       "      <td>21:00:00 - 21:30:00</td>\n",
       "      <td>386</td>\n",
       "    </tr>\n",
       "    <tr>\n",
       "      <th>39</th>\n",
       "      <td>Category_9</td>\n",
       "      <td>21:30:00 - 22:00:00</td>\n",
       "      <td>339</td>\n",
       "    </tr>\n",
       "    <tr>\n",
       "      <th>40</th>\n",
       "      <td>Category_9</td>\n",
       "      <td>22:00:00 - 22:30:00</td>\n",
       "      <td>288</td>\n",
       "    </tr>\n",
       "    <tr>\n",
       "      <th>41</th>\n",
       "      <td>Category_9</td>\n",
       "      <td>22:30:00 - 23:00:00</td>\n",
       "      <td>335</td>\n",
       "    </tr>\n",
       "    <tr>\n",
       "      <th>42</th>\n",
       "      <td>Category_9</td>\n",
       "      <td>23:00:00 - 23:30:00</td>\n",
       "      <td>408</td>\n",
       "    </tr>\n",
       "    <tr>\n",
       "      <th>43</th>\n",
       "      <td>Category_9</td>\n",
       "      <td>23:30:00 - 24:00:00</td>\n",
       "      <td>462</td>\n",
       "    </tr>\n",
       "  </tbody>\n",
       "</table>\n",
       "</div>"
      ],
      "text/plain": [
       "       Category             TimeBand  Popularity\n",
       "0    Category_8  02:00:00 - 02:30:00          78\n",
       "1    Category_1  02:30:00 - 03:00:00         212\n",
       "2    Category_8  03:00:00 - 03:30:00         136\n",
       "3   Category_33  03:30:00 - 04:00:00         205\n",
       "4   Category_33  04:00:00 - 04:30:00         139\n",
       "5   Category_34  04:30:00 - 05:00:00         137\n",
       "6   Category_34  05:00:00 - 05:30:00         106\n",
       "7    Category_8  05:30:00 - 06:00:00          67\n",
       "8    Category_9  06:00:00 - 06:30:00         333\n",
       "9    Category_9  06:30:00 - 07:00:00         371\n",
       "10   Category_9  07:00:00 - 07:30:00         324\n",
       "11   Category_9  07:30:00 - 08:00:00         378\n",
       "12   Category_9  08:00:00 - 08:30:00         343\n",
       "13   Category_9  08:30:00 - 09:00:00         372\n",
       "14   Category_9  09:00:00 - 09:30:00         353\n",
       "15   Category_9  09:30:00 - 10:00:00         417\n",
       "16   Category_8  10:00:00 - 10:30:00         380\n",
       "17   Category_9  10:30:00 - 11:00:00         451\n",
       "18   Category_9  11:00:00 - 11:30:00         427\n",
       "19   Category_9  11:30:00 - 12:00:00         459\n",
       "20   Category_9  12:00:00 - 12:30:00         333\n",
       "21   Category_9  12:30:00 - 13:00:00         450\n",
       "22   Category_9  13:00:00 - 13:30:00         388\n",
       "23   Category_9  13:30:00 - 14:00:00         387\n",
       "24   Category_9  14:00:00 - 14:30:00         354\n",
       "25   Category_9  14:30:00 - 15:00:00         461\n",
       "26   Category_9  15:00:00 - 15:30:00         399\n",
       "27   Category_9  15:30:00 - 16:00:00         448\n",
       "28   Category_9  16:00:00 - 16:30:00         420\n",
       "29   Category_9  16:30:00 - 17:00:00         427\n",
       "30   Category_8  17:00:00 - 17:30:00         406\n",
       "31   Category_9  17:30:00 - 18:00:00         450\n",
       "32   Category_9  18:00:00 - 18:30:00         458\n",
       "33   Category_8  18:30:00 - 19:00:00         486\n",
       "34   Category_9  19:00:00 - 19:30:00         373\n",
       "35   Category_8  19:30:00 - 20:00:00         471\n",
       "36   Category_9  20:00:00 - 20:30:00         381\n",
       "37   Category_8  20:30:00 - 21:00:00         319\n",
       "38   Category_9  21:00:00 - 21:30:00         386\n",
       "39   Category_9  21:30:00 - 22:00:00         339\n",
       "40   Category_9  22:00:00 - 22:30:00         288\n",
       "41   Category_9  22:30:00 - 23:00:00         335\n",
       "42   Category_9  23:00:00 - 23:30:00         408\n",
       "43   Category_9  23:30:00 - 24:00:00         462"
      ]
     },
     "execution_count": 318,
     "metadata": {},
     "output_type": "execute_result"
    }
   ],
   "source": [
    "# Number of Categories per TimeBand\n",
    "# Show top One for each TimeBand\n",
    "\n",
    "df['Hour_of_Day'] = df['TimeBand'].apply(lambda x : int(x[0:2])) # Hours\n",
    "df = df.loc[df['Hour_of_Day'] < 24] # getting rid of the exccesive time of the day. grow up, its sturt-up life here!\n",
    "x = pd.DataFrame(df.groupby(['Category','TimeBand'])['TimeBand'].count())\n",
    "\n",
    "x.rename(columns ={'TimeBand': 'Popularity'}, inplace = True)\n",
    "y = x.sort_values(by=['Popularity'], ascending=False)\n",
    "y.reset_index(inplace=True)\n",
    "\n",
    "z = y.groupby(['TimeBand']).apply(lambda x: x.max()).reset_index(drop=True)  \n",
    "z\n",
    "\n",
    "# ASK ILANA FOR HELP CUZ FOR SOME REASSON IT DOESNT WORK"
   ]
  },
  {
   "cell_type": "code",
   "execution_count": 2,
   "metadata": {},
   "outputs": [
    {
     "ename": "NameError",
     "evalue": "name 'df' is not defined",
     "output_type": "error",
     "traceback": [
      "\u001b[0;31m---------------------------------------------------------------------------\u001b[0m",
      "\u001b[0;31mNameError\u001b[0m                                 Traceback (most recent call last)",
      "\u001b[0;32m<ipython-input-2-47b56bea841f>\u001b[0m in \u001b[0;36m<module>\u001b[0;34m\u001b[0m\n\u001b[0;32m----> 1\u001b[0;31m \u001b[0mdf\u001b[0m\u001b[0;34m[\u001b[0m\u001b[0;34m'Hour_of_Day'\u001b[0m\u001b[0;34m]\u001b[0m \u001b[0;34m=\u001b[0m \u001b[0mdf\u001b[0m\u001b[0;34m[\u001b[0m\u001b[0;34m'TimeBand'\u001b[0m\u001b[0;34m]\u001b[0m\u001b[0;34m.\u001b[0m\u001b[0mapply\u001b[0m\u001b[0;34m(\u001b[0m\u001b[0;32mlambda\u001b[0m \u001b[0mx\u001b[0m \u001b[0;34m:\u001b[0m \u001b[0mint\u001b[0m\u001b[0;34m(\u001b[0m\u001b[0mx\u001b[0m\u001b[0;34m[\u001b[0m\u001b[0;36m0\u001b[0m\u001b[0;34m:\u001b[0m\u001b[0;36m2\u001b[0m\u001b[0;34m]\u001b[0m\u001b[0;34m)\u001b[0m\u001b[0;34m)\u001b[0m \u001b[0;31m# mins\u001b[0m\u001b[0;34m\u001b[0m\u001b[0;34m\u001b[0m\u001b[0m\n\u001b[0m\u001b[1;32m      2\u001b[0m \u001b[0mdf\u001b[0m \u001b[0;34m=\u001b[0m \u001b[0mdf\u001b[0m\u001b[0;34m.\u001b[0m\u001b[0mloc\u001b[0m\u001b[0;34m[\u001b[0m\u001b[0mdf\u001b[0m\u001b[0;34m[\u001b[0m\u001b[0;34m'Hour_of_Day'\u001b[0m\u001b[0;34m]\u001b[0m \u001b[0;34m<\u001b[0m \u001b[0;36m24\u001b[0m\u001b[0;34m]\u001b[0m \u001b[0;31m# getting rid of the exccesive time of the day. grow up, its sturt-up life here!\u001b[0m\u001b[0;34m\u001b[0m\u001b[0;34m\u001b[0m\u001b[0m\n\u001b[1;32m      3\u001b[0m \u001b[0mx\u001b[0m \u001b[0;34m=\u001b[0m \u001b[0mpd\u001b[0m\u001b[0;34m.\u001b[0m\u001b[0mDataFrame\u001b[0m\u001b[0;34m(\u001b[0m\u001b[0mdf\u001b[0m\u001b[0;34m.\u001b[0m\u001b[0mgroupby\u001b[0m\u001b[0;34m(\u001b[0m\u001b[0;34m[\u001b[0m\u001b[0;34m'Category'\u001b[0m\u001b[0;34m,\u001b[0m\u001b[0;34m'TimeBand'\u001b[0m\u001b[0;34m]\u001b[0m\u001b[0;34m)\u001b[0m\u001b[0;34m[\u001b[0m\u001b[0;34m'TimeBand'\u001b[0m\u001b[0;34m]\u001b[0m\u001b[0;34m.\u001b[0m\u001b[0mcount\u001b[0m\u001b[0;34m(\u001b[0m\u001b[0;34m)\u001b[0m\u001b[0;34m)\u001b[0m\u001b[0;34m\u001b[0m\u001b[0;34m\u001b[0m\u001b[0m\n\u001b[1;32m      4\u001b[0m \u001b[0;34m\u001b[0m\u001b[0m\n\u001b[1;32m      5\u001b[0m \u001b[0mx\u001b[0m\u001b[0;34m.\u001b[0m\u001b[0mrename\u001b[0m\u001b[0;34m(\u001b[0m\u001b[0mcolumns\u001b[0m \u001b[0;34m=\u001b[0m\u001b[0;34m{\u001b[0m\u001b[0;34m'TimeBand'\u001b[0m\u001b[0;34m:\u001b[0m \u001b[0;34m'Popularity'\u001b[0m\u001b[0;34m}\u001b[0m\u001b[0;34m,\u001b[0m \u001b[0minplace\u001b[0m \u001b[0;34m=\u001b[0m \u001b[0;32mTrue\u001b[0m\u001b[0;34m)\u001b[0m\u001b[0;34m\u001b[0m\u001b[0;34m\u001b[0m\u001b[0m\n",
      "\u001b[0;31mNameError\u001b[0m: name 'df' is not defined"
     ]
    }
   ],
   "source": [
    "df['Hour_of_Day'] = df['TimeBand'].apply(lambda x : int(x[0:2])) # mins\n",
    "df = df.loc[df['Hour_of_Day'] < 24] # getting rid of the exccesive time of the day. grow up, its sturt-up life here!\n",
    "x = pd.DataFrame(df.groupby(['Category','TimeBand'])['TimeBand'].count())\n",
    "\n",
    "x.rename(columns ={'TimeBand': 'Popularity'}, inplace = True)\n",
    "y = x.sort_values(by=['Popularity'], ascending=False)\n",
    "y.reset_index(inplace=True)\n",
    "\n",
    "z = y.groupby(['TimeBand']).apply(lambda x: x.max()).reset_index(drop=True)  \n",
    "z\n",
    "\n",
    "# now the task is to create a visualization using plotliy and transform that into a skill\n",
    "\n",
    "z"
   ]
  },
  {
   "cell_type": "markdown",
   "metadata": {},
   "source": [
    "##### Show all data available for a certain brand or advertiser\n",
    "\n",
    "You are given the following parameters that are passed from the user interface:\n",
    "\n",
    " - brand_or_advertiser_selection\n",
    " - brand_or_advertiser_value\n",
    " \n",
    "The parameters indicate user selections. \n",
    " \n",
    "For instance, if the parameter \"brand_or_advertiser_selection\" is set to \"advertiser\", then the user selected to get informartion about an advertiser, the brand_or_advertiser_value holds the name of the brand or advertiser to show.\n",
    "\n",
    "Use the given parameters to show information relevant to the end-user. You may set the parameter as you see fit. \n",
    "\n",
    "Hint: remember to account for edge cases in your code"
   ]
  },
  {
   "cell_type": "code",
   "execution_count": 312,
   "metadata": {},
   "outputs": [
    {
     "data": {
      "text/plain": [
       "<matplotlib.axes._subplots.AxesSubplot at 0x7fea3b7fc160>"
      ]
     },
     "execution_count": 312,
     "metadata": {},
     "output_type": "execute_result"
    },
    {
     "data": {
      "image/png": "[encoded data removed]",
      "text/plain": [
       "<Figure size 432x288 with 1 Axes>"
      ]
     },
     "metadata": {
      "needs_background": "light"
     },
     "output_type": "display_data"
    }
   ],
   "source": [
    "# given parameter from user: Advertiser\n",
    "# given parameter from user: 1\n",
    "\n",
    "# Results to show, amount of spot advertiser purchased for each week day, segmented by hours of the day\n",
    "\n",
    "df['Hour_of_Day'] = df['TimeBand'].apply(lambda x : int(x[0:2])) # mins\n",
    "df = df.loc[df['Hour_of_Day'] < 23] # getting rid of the exccesive time of the day. grow up, its sturt-up life here!\n",
    "x = df.loc[df['Advertiser'] == 'Advertiser_1']\n",
    "y = pd.DataFrame(x.groupby(['Advertiser', 'Week Day', 'Hour_of_Day'])['Date'].count())\n",
    "y.reset_index(inplace=True)\n",
    "y.pivot_table(index=[\"Hour_of_Day\"], values=['Date'], columns=[\"Week Day\"], aggfunc=np.sum, fill_value=0).plot(kind='bar', rot=45)\n"
   ]
  },
  {
   "cell_type": "markdown",
   "metadata": {},
   "source": [
    "##### Take a close look at the data, can you spot any problems with it? How would you correct it?\n",
    "\n",
    "Hint: perform univariate analysis for each column in the table to discover issues with the values"
   ]
  },
  {
   "cell_type": "code",
   "execution_count": 313,
   "metadata": {},
   "outputs": [
    {
     "data": {
      "text/html": [
       "<div>\n",
       "<style scoped>\n",
       "    .dataframe tbody tr th:only-of-type {\n",
       "        vertical-align: middle;\n",
       "    }\n",
       "\n",
       "    .dataframe tbody tr th {\n",
       "        vertical-align: top;\n",
       "    }\n",
       "\n",
       "    .dataframe thead th {\n",
       "        text-align: right;\n",
       "    }\n",
       "</style>\n",
       "<table border=\"1\" class=\"dataframe\">\n",
       "  <thead>\n",
       "    <tr style=\"text-align: right;\">\n",
       "      <th></th>\n",
       "      <th>Advertiser</th>\n",
       "      <th>Week Day</th>\n",
       "      <th>Hour_of_Day</th>\n",
       "      <th>Date</th>\n",
       "    </tr>\n",
       "  </thead>\n",
       "  <tbody>\n",
       "    <tr>\n",
       "      <th>0</th>\n",
       "      <td>Advertiser_1</td>\n",
       "      <td>Friday</td>\n",
       "      <td>2</td>\n",
       "      <td>38</td>\n",
       "    </tr>\n",
       "    <tr>\n",
       "      <th>1</th>\n",
       "      <td>Advertiser_1</td>\n",
       "      <td>Friday</td>\n",
       "      <td>3</td>\n",
       "      <td>46</td>\n",
       "    </tr>\n",
       "    <tr>\n",
       "      <th>2</th>\n",
       "      <td>Advertiser_1</td>\n",
       "      <td>Friday</td>\n",
       "      <td>4</td>\n",
       "      <td>29</td>\n",
       "    </tr>\n",
       "    <tr>\n",
       "      <th>3</th>\n",
       "      <td>Advertiser_1</td>\n",
       "      <td>Friday</td>\n",
       "      <td>6</td>\n",
       "      <td>5</td>\n",
       "    </tr>\n",
       "    <tr>\n",
       "      <th>4</th>\n",
       "      <td>Advertiser_1</td>\n",
       "      <td>Friday</td>\n",
       "      <td>7</td>\n",
       "      <td>6</td>\n",
       "    </tr>\n",
       "    <tr>\n",
       "      <th>...</th>\n",
       "      <td>...</td>\n",
       "      <td>...</td>\n",
       "      <td>...</td>\n",
       "      <td>...</td>\n",
       "    </tr>\n",
       "    <tr>\n",
       "      <th>135</th>\n",
       "      <td>Advertiser_1</td>\n",
       "      <td>Wednesday</td>\n",
       "      <td>18</td>\n",
       "      <td>9</td>\n",
       "    </tr>\n",
       "    <tr>\n",
       "      <th>136</th>\n",
       "      <td>Advertiser_1</td>\n",
       "      <td>Wednesday</td>\n",
       "      <td>19</td>\n",
       "      <td>11</td>\n",
       "    </tr>\n",
       "    <tr>\n",
       "      <th>137</th>\n",
       "      <td>Advertiser_1</td>\n",
       "      <td>Wednesday</td>\n",
       "      <td>20</td>\n",
       "      <td>10</td>\n",
       "    </tr>\n",
       "    <tr>\n",
       "      <th>138</th>\n",
       "      <td>Advertiser_1</td>\n",
       "      <td>Wednesday</td>\n",
       "      <td>21</td>\n",
       "      <td>13</td>\n",
       "    </tr>\n",
       "    <tr>\n",
       "      <th>139</th>\n",
       "      <td>Advertiser_1</td>\n",
       "      <td>Wednesday</td>\n",
       "      <td>22</td>\n",
       "      <td>9</td>\n",
       "    </tr>\n",
       "  </tbody>\n",
       "</table>\n",
       "<p>140 rows × 4 columns</p>\n",
       "</div>"
      ],
      "text/plain": [
       "       Advertiser   Week Day  Hour_of_Day  Date\n",
       "0    Advertiser_1     Friday            2    38\n",
       "1    Advertiser_1     Friday            3    46\n",
       "2    Advertiser_1     Friday            4    29\n",
       "3    Advertiser_1     Friday            6     5\n",
       "4    Advertiser_1     Friday            7     6\n",
       "..            ...        ...          ...   ...\n",
       "135  Advertiser_1  Wednesday           18     9\n",
       "136  Advertiser_1  Wednesday           19    11\n",
       "137  Advertiser_1  Wednesday           20    10\n",
       "138  Advertiser_1  Wednesday           21    13\n",
       "139  Advertiser_1  Wednesday           22     9\n",
       "\n",
       "[140 rows x 4 columns]"
      ]
     },
     "execution_count": 313,
     "metadata": {},
     "output_type": "execute_result"
    }
   ],
   "source": [
    "Yep, the hours of the day were longer then 24."
   ]
  }
 ],
 "metadata": {
  "kernelspec": {
   "display_name": "conda_python3",
   "language": "python",
   "name": "conda_python3"
  },
  "language_info": {
   "codemirror_mode": {
    "name": "ipython",
    "version": 3
   },
   "file_extension": ".py",
   "mimetype": "text/x-python",
   "name": "python",
   "nbconvert_exporter": "python",
   "pygments_lexer": "ipython3",
   "version": "3.6.10"
  }
 },
 "nbformat": 4,
 "nbformat_minor": 4
}
