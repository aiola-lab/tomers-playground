{
 "cells": [
  {
   "cell_type": "code",
   "execution_count": 23,
   "metadata": {},
   "outputs": [],
   "source": [
    "from aiola_bundle_client.api import AiolaClient\n",
    "import aiola_bundle_client.client_setup as client_setup\n",
    "\n",
    "from aiola_intent_registry_service.definitions import SlotType, Mode\n",
    "from aiola_intent_registry_service.intent_proto import Slot, Intent\n",
    "\n",
    "from typing import Text\n",
    "import pprint\n",
    "\n",
    "import logging\n",
    "logging.basicConfig(level=logging.INFO)\n",
    "log = logging.getLogger()"
   ]
  },
  {
   "cell_type": "code",
   "execution_count": 24,
   "metadata": {},
   "outputs": [
    {
     "name": "stderr",
     "output_type": "stream",
     "text": [
      "INFO:root:Boto credentials: configured using method=iam-role.\n",
      "INFO:root:AIOLA CLIENT : REGION NAME=eu-west-1, ACCOUNT=469190457957\n",
      "INFO:root:Done scroll resource : describe_log_groups\n",
      "INFO:root:EXISTING STACK_DEFINITION FOUND: \n",
      "INFO:root:{'name': 'aiola-skills-dev-dialog', 'cluster_name': 'aiola-skills-dev-skills', 'region_name': 'eu-west-1', 'force_recreate_stack': False, 'account_id': '469190457957', 'duckling_image': '469190457957.dkr.ecr.eu-west-1.amazonaws.com/duckling:latest', 'parser_image': '469190457957.dkr.ecr.eu-west-1.amazonaws.com/nlu-parser-service:latest', 'dialog_image': '469190457957.dkr.ecr.eu-west-1.amazonaws.com/aiola-dialog:latest', 'vpc_id': 'vpc-0d7fe54e20585b2de', 'env_name': 'aiola-skills-dev', 'service_locale': 'en', 'context_lifespan': '60', 'business_number': '+972528887360', 'twilio_sandbox_number': '14155238886', 'bitly_token': None, 'lockstore_password': 'aiola_2020!', 'services_concurrency': None, 'data_fold': 'prod', 'dialog_version': '0', 'stack_arn': 'arn:aws:cloudformation:eu-west-1:469190457957:stack/aiola-skills-dev-dialog/b2597710-2cc1-11eb-aca8-02c92b0ad6a6', 'stack_name': 'aiola-skills-dev-dialog', 'dialog_service_dns': 'aiola-NLB55-27TUXKFR5IXN-f80c687651b025aa.elb.eu-west-1.amazonaws.com', 'lockstore_service_dns': 'aiola-NLB55-27TUXKFR5IXN-f80c687651b025aa.elb.eu-west-1.amazonaws.com'}\n",
      "INFO:root:Running bot aiola-skills-dev initialization in region eu-west-1. name=aiola-skills-dev; region_name=eu-west-1; is_client=False\n",
      "INFO:root:Ensure bot : Bot is available by name=aiola-skills-dev in region=eu-west-1\n",
      "INFO:root:Ensure bot : Metastore is available by name=aiola-skills-dev in region=eu-west-1\n",
      "INFO:root:Ensure bot : Profilestore is available by name=aiola-skills-dev in region=eu-west-1\n",
      "INFO:root:Ensure bot : Message templates store is available by name=aiola-skills-dev in region=eu-west-1\n",
      "INFO:root:Ensure bot : job_store store is available by name=aiola-skills-dev in region=eu-west-1\n",
      "INFO:root:Ensure bot : Model mapping store is available by name=aiola-skills-dev in region=eu-west-1\n",
      "INFO:root:Ensure bot : going to register builtin slot types for name=aiola-skills-dev in region=eu-west-1\n",
      "INFO:root:3 builtin types are scheduled for creation\n",
      "INFO:root:3 lex builtin types are scheduled for creation\n",
      "INFO:root:Builtin slot types registration: done registering BUILTIN types\n",
      "INFO:root:8 temporal types are scheduled for creation\n",
      "INFO:root:8 lex temporal types are scheduled for creation\n",
      "INFO:root:Builtin slot types registration: done registering TEMPORAL types\n",
      "INFO:root:Ensure bot : Builtin slot types are available by name=aiola-skills-dev in region=eu-west-1\n"
     ]
    }
   ],
   "source": [
    "client_setup.switch_context(client=False)\n",
    "aiola = AiolaClient(client_name=\"aiola-skills-dev\", region_name=\"eu-west-1\")\n",
    "chatbot = aiola.chatbot()"
   ]
  },
  {
   "cell_type": "code",
   "execution_count": 25,
   "metadata": {},
   "outputs": [
    {
     "name": "stderr",
     "output_type": "stream",
     "text": [
      "INFO:root:Slot definition strauss_product is pre-validated\n",
      "INFO:root:Create Lingual Mapping service in space=aiola-skills-dev, region=eu-west-1. \n",
      "INFO:root:Ensure LingualMappingStore : LingualMappingStore is available by name=aiola-skills-dev in region=eu-west-1\n",
      "INFO:root:Getting lingual mapping={\"arn\": null, \"bot_name\": \"aiola-skills-dev\", \"name\": null, \"operation_mode\": \"create\", \"region_name\": \"eu-west-1\", \"slot_type\": \"strauss_product\", \"translations\": null}\n",
      "INFO:root:Create Localisation Service in space=aiola-skills-dev, region=eu-west-1, default_language=en\n",
      "INFO:root:LINGUAL MAPPING registration for slot=strauss_product, language=en: nothing to register as a mapping.\n",
      "INFO:aiola_intent_registry_service.lex_registration_layer:Registering Lex slot: {'name': 'lex_strauss_product', 'arn': 'aiola:dev:dialog:lex:slot:e9TBAcbqQHGiYvysgDwoyQ', 'operation_mode': <Mode.overwrite: 'overwrite'>, 'bot_name': 'aiola-skills-dev', 'region_name': 'eu-west-1', 'examples': ['strauss_product'], 'nature': <Nature.slot: 'slot'>, 'system_type': <SlotType.service: 'service'>, 'meta': False, 'comparable': True, 'mapping': ['lex_strauss_product'], 'clarifications': ['Which product?'], 'representation_name': 'lex_strauss_product', 'locale': 'auto'}\n",
      "INFO:aiola_intent_registry_service.lex_registration_layer:Force recreate slot 'aiola_skills_devlex_strauss_product', getting slot type\n",
      "INFO:aiola_intent_registry_service.lex_registration_layer:Registration status: {'ResponseMetadata': {'RequestId': 'aa50a8f1-fa6e-472a-b02f-298c06091d5e', 'HTTPStatusCode': 200, 'HTTPHeaders': {'content-type': 'application/json', 'date': 'Mon, 30 Nov 2020 15:27:13 GMT', 'x-amzn-requestid': 'aa50a8f1-fa6e-472a-b02f-298c06091d5e', 'content-length': '428', 'connection': 'keep-alive'}, 'RetryAttempts': 0}, 'name': 'aiola_skills_devlex_strauss_product', 'enumerationValues': [{'value': 'strauss_product', 'synonyms': []}], 'lastUpdatedDate': datetime.datetime(2020, 11, 30, 15, 27, 13, 849000, tzinfo=tzlocal()), 'createdDate': datetime.datetime(2020, 11, 26, 15, 54, 47, 699000, tzinfo=tzlocal()), 'version': '$LATEST', 'checksum': 'da3dca57-c405-4095-807f-fbefe0865025', 'valueSelectionStrategy': 'ORIGINAL_VALUE', 'createVersion': False}\n"
     ]
    }
   ],
   "source": [
    "# my_custom_lookup = ['Olive Oil', 'Honey', 'Pretzel', 'Butter', 'Canned tomatoes', 'Chocolate milk', \n",
    "#                     'Instant Coffee', 'Jams', 'Cottage', 'Biscuit', 'Delicacies', 'Yogurt', 'Milk',\n",
    "#                     'Waffles', 'Espresso']\n",
    "\n",
    "my_custom_lookup = ['שמן זית', 'דבש', 'בייגלה', 'חמאה', 'שימורי עגבניות', 'שוקו', \n",
    "                    'קפה נמס', 'קונפיטורות', 'קוטג׳', 'פתי בר', 'מעדנים', 'יוגורט', 'חלב',\n",
    "                    'וופלים', 'אספרסו']\n",
    "\n",
    "\n",
    "column = \"strauss_product\"\n",
    "sports_category = Slot(name=column,\n",
    "                 system_type=SlotType.lookup,\n",
    "                 examples=my_custom_lookup,\n",
    "                 clarifications=[f\"Which product?\"], # better understand the essence\n",
    "                 operation_mode=Mode.overwrite,\n",
    "                 meta=True,\n",
    "                locale = 'he')\n",
    "\n",
    "ret = chatbot.slot(slot=sports_category)\n",
    "assert ret is not None"
   ]
  },
  {
   "cell_type": "code",
   "execution_count": 26,
   "metadata": {},
   "outputs": [
    {
     "name": "stderr",
     "output_type": "stream",
     "text": [
      "INFO:root:Chatbot : reload from metastore : going to use session_id=AIOLA_TEST;https:_SLSH__SLSH_eu-west-1.queue.amazonaws.com_SLSH_469190457957_SLSH_aiola-skills-dev-botclient-service_session-39102.fifo;service_session\n",
      "INFO:root:Received response from dialog server:\n",
      " [{'payload': None, 'channel': 'AIOLA_TEST;https:_SLSH__SLSH_eu-west-1.queue.amazonaws.com_SLSH_469190457957_SLSH_aiola-skills-dev-botclient-service_session-39102.fifo;service_session', 'typing': True, 'summary': None, 'timestamp': 1606750034350}, {'payload': [{'answer': [{'payload_type': 'text', 'payload': 'Done, reloaded from metastore', 'error': None, 'tags': []}]}], 'channel': 'AIOLA_TEST;https:_SLSH__SLSH_eu-west-1.queue.amazonaws.com_SLSH_469190457957_SLSH_aiola-skills-dev-botclient-service_session-39102.fifo;service_session', 'typing': False, 'summary': 'Hey - here’s what you asked for', 'timestamp': 1606750035331}]\n",
      "INFO:root:Chatbot : done reload the system from metastore\n"
     ]
    }
   ],
   "source": [
    "chatbot.reload_dialog_from_metastore()"
   ]
  },
  {
   "cell_type": "code",
   "execution_count": null,
   "metadata": {},
   "outputs": [],
   "source": []
  }
 ],
 "metadata": {
  "kernelspec": {
   "display_name": "conda_python3",
   "language": "python",
   "name": "conda_python3"
  },
  "language_info": {
   "codemirror_mode": {
    "name": "ipython",
    "version": 3
   },
   "file_extension": ".py",
   "mimetype": "text/x-python",
   "name": "python",
   "nbconvert_exporter": "python",
   "pygments_lexer": "ipython3",
   "version": "3.6.10"
  }
 },
 "nbformat": 4,
 "nbformat_minor": 4
}
